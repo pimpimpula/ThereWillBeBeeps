{
 "cells": [
  {
   "cell_type": "code",
   "execution_count": 1,
   "metadata": {
    "collapsed": true,
    "ExecuteTime": {
     "end_time": "2023-07-30T13:08:33.539531Z",
     "start_time": "2023-07-30T13:08:32.290112Z"
    }
   },
   "outputs": [],
   "source": [
    "from funcs.fix_continuous_responses import *"
   ]
  },
  {
   "cell_type": "code",
   "execution_count": 2,
   "outputs": [],
   "source": [
    "participant = 'moiern'"
   ],
   "metadata": {
    "collapsed": false,
    "ExecuteTime": {
     "end_time": "2023-07-30T13:08:33.542518Z",
     "start_time": "2023-07-30T13:08:33.540235Z"
    }
   }
  },
  {
   "cell_type": "markdown",
   "source": [
    "### Load log data"
   ],
   "metadata": {
    "collapsed": false
   }
  },
  {
   "cell_type": "code",
   "execution_count": 3,
   "outputs": [],
   "source": [
    "# define column names\n",
    "col_names = ['timestamp', 'entry_type', 'message']\n",
    "\n",
    "# get the path of the file with '.log' extension\n",
    "log_file_path = glob.glob(os.path.join(get_path('raw_data'), participant, 'Continuous', '*.log'))[-1]\n",
    "\n",
    "# read the log file into a DataFrame\n",
    "df_log = pd.read_csv(log_file_path, sep='\\t', names=col_names)\n",
    "# Remove leading and trailing whitespaces\n",
    "df_log = df_log.applymap(lambda x: x.strip() if isinstance(x, str) else x)"
   ],
   "metadata": {
    "collapsed": false,
    "ExecuteTime": {
     "end_time": "2023-07-30T13:08:33.568038Z",
     "start_time": "2023-07-30T13:08:33.545022Z"
    }
   }
  },
  {
   "cell_type": "markdown",
   "source": [
    "### Parse log"
   ],
   "metadata": {
    "collapsed": false
   }
  },
  {
   "cell_type": "code",
   "execution_count": 4,
   "outputs": [
    {
     "data": {
      "text/plain": "   index  log_timestamp  rep_number  log_responses                log_rt\n0      0        69.7350           2              1   [2.491500000000002]\n1      1        72.4483           3              1   [2.333199999999991]\n2      2        75.0061           4              1   [2.551099999999991]\n3      3        77.7832           5              1  [1.4614000000000118]\n4      4        79.4768           6              1  [2.9133000000000067]",
      "text/html": "<div>\n<style scoped>\n    .dataframe tbody tr th:only-of-type {\n        vertical-align: middle;\n    }\n\n    .dataframe tbody tr th {\n        vertical-align: top;\n    }\n\n    .dataframe thead th {\n        text-align: right;\n    }\n</style>\n<table border=\"1\" class=\"dataframe\">\n  <thead>\n    <tr style=\"text-align: right;\">\n      <th></th>\n      <th>index</th>\n      <th>log_timestamp</th>\n      <th>rep_number</th>\n      <th>log_responses</th>\n      <th>log_rt</th>\n    </tr>\n  </thead>\n  <tbody>\n    <tr>\n      <th>0</th>\n      <td>0</td>\n      <td>69.7350</td>\n      <td>2</td>\n      <td>1</td>\n      <td>[2.491500000000002]</td>\n    </tr>\n    <tr>\n      <th>1</th>\n      <td>1</td>\n      <td>72.4483</td>\n      <td>3</td>\n      <td>1</td>\n      <td>[2.333199999999991]</td>\n    </tr>\n    <tr>\n      <th>2</th>\n      <td>2</td>\n      <td>75.0061</td>\n      <td>4</td>\n      <td>1</td>\n      <td>[2.551099999999991]</td>\n    </tr>\n    <tr>\n      <th>3</th>\n      <td>3</td>\n      <td>77.7832</td>\n      <td>5</td>\n      <td>1</td>\n      <td>[1.4614000000000118]</td>\n    </tr>\n    <tr>\n      <th>4</th>\n      <td>4</td>\n      <td>79.4768</td>\n      <td>6</td>\n      <td>1</td>\n      <td>[2.9133000000000067]</td>\n    </tr>\n  </tbody>\n</table>\n</div>"
     },
     "execution_count": 4,
     "metadata": {},
     "output_type": "execute_result"
    }
   ],
   "source": [
    "df_trials_log = parse_log(df_log)\n",
    "\n",
    "# print the new DataFrame\n",
    "df_trials_log.head()"
   ],
   "metadata": {
    "collapsed": false,
    "ExecuteTime": {
     "end_time": "2023-07-30T13:08:33.689133Z",
     "start_time": "2023-07-30T13:08:33.679571Z"
    }
   }
  },
  {
   "cell_type": "markdown",
   "source": [
    "### Load matching csv file"
   ],
   "metadata": {
    "collapsed": false
   }
  },
  {
   "cell_type": "code",
   "execution_count": 5,
   "outputs": [
    {
     "data": {
      "text/plain": "   sweeps.thisRepN  sweeps.thisTrialN  sweeps.thisN  sweeps.thisIndex  \\\n0              0.0                0.0           0.0               0.0   \n1              0.0                0.0           0.0               0.0   \n2              0.0                0.0           0.0               0.0   \n3              0.0                0.0           0.0               0.0   \n4              0.0                0.0           0.0               0.0   \n\n   trials.thisRepN  trials.thisTrialN  trials.thisN  trials.thisIndex  \\\n0              0.0                0.0           0.0               0.0   \n1              1.0                0.0           1.0               0.0   \n2              2.0                0.0           2.0               0.0   \n3              3.0                0.0           3.0               0.0   \n4              4.0                0.0           4.0               0.0   \n\n   instructions.started instructions.stopped  ...  end_txt.stopped  \\\n0             51.644416                 None  ...              NaN   \n1                   NaN                  NaN  ...              NaN   \n2                   NaN                  NaN  ...              NaN   \n3                   NaN                  NaN  ...              NaN   \n4                   NaN                  NaN  ...              NaN   \n\n  participant session  language (english or french)  \\\n0      moiern     1.0                            fr   \n1      moiern     1.0                            fr   \n2      moiern     1.0                            fr   \n3      moiern     1.0                            fr   \n4      moiern     1.0                            fr   \n\n  Resume previous experiment                     date     expName  \\\n0                        1.0  2022-07-08_14h28.56.466  Continuous   \n1                        1.0  2022-07-08_14h28.56.466  Continuous   \n2                        1.0  2022-07-08_14h28.56.466  Continuous   \n3                        1.0  2022-07-08_14h28.56.466  Continuous   \n4                        1.0  2022-07-08_14h28.56.466  Continuous   \n\n   psychopyVersion  frameRate  Unnamed: 50  \n0         2022.1.1  35.959581          NaN  \n1         2022.1.1  35.959581          NaN  \n2         2022.1.1  35.959581          NaN  \n3         2022.1.1  35.959581          NaN  \n4         2022.1.1  35.959581          NaN  \n\n[5 rows x 51 columns]",
      "text/html": "<div>\n<style scoped>\n    .dataframe tbody tr th:only-of-type {\n        vertical-align: middle;\n    }\n\n    .dataframe tbody tr th {\n        vertical-align: top;\n    }\n\n    .dataframe thead th {\n        text-align: right;\n    }\n</style>\n<table border=\"1\" class=\"dataframe\">\n  <thead>\n    <tr style=\"text-align: right;\">\n      <th></th>\n      <th>sweeps.thisRepN</th>\n      <th>sweeps.thisTrialN</th>\n      <th>sweeps.thisN</th>\n      <th>sweeps.thisIndex</th>\n      <th>trials.thisRepN</th>\n      <th>trials.thisTrialN</th>\n      <th>trials.thisN</th>\n      <th>trials.thisIndex</th>\n      <th>instructions.started</th>\n      <th>instructions.stopped</th>\n      <th>...</th>\n      <th>end_txt.stopped</th>\n      <th>participant</th>\n      <th>session</th>\n      <th>language (english or french)</th>\n      <th>Resume previous experiment</th>\n      <th>date</th>\n      <th>expName</th>\n      <th>psychopyVersion</th>\n      <th>frameRate</th>\n      <th>Unnamed: 50</th>\n    </tr>\n  </thead>\n  <tbody>\n    <tr>\n      <th>0</th>\n      <td>0.0</td>\n      <td>0.0</td>\n      <td>0.0</td>\n      <td>0.0</td>\n      <td>0.0</td>\n      <td>0.0</td>\n      <td>0.0</td>\n      <td>0.0</td>\n      <td>51.644416</td>\n      <td>None</td>\n      <td>...</td>\n      <td>NaN</td>\n      <td>moiern</td>\n      <td>1.0</td>\n      <td>fr</td>\n      <td>1.0</td>\n      <td>2022-07-08_14h28.56.466</td>\n      <td>Continuous</td>\n      <td>2022.1.1</td>\n      <td>35.959581</td>\n      <td>NaN</td>\n    </tr>\n    <tr>\n      <th>1</th>\n      <td>0.0</td>\n      <td>0.0</td>\n      <td>0.0</td>\n      <td>0.0</td>\n      <td>1.0</td>\n      <td>0.0</td>\n      <td>1.0</td>\n      <td>0.0</td>\n      <td>NaN</td>\n      <td>NaN</td>\n      <td>...</td>\n      <td>NaN</td>\n      <td>moiern</td>\n      <td>1.0</td>\n      <td>fr</td>\n      <td>1.0</td>\n      <td>2022-07-08_14h28.56.466</td>\n      <td>Continuous</td>\n      <td>2022.1.1</td>\n      <td>35.959581</td>\n      <td>NaN</td>\n    </tr>\n    <tr>\n      <th>2</th>\n      <td>0.0</td>\n      <td>0.0</td>\n      <td>0.0</td>\n      <td>0.0</td>\n      <td>2.0</td>\n      <td>0.0</td>\n      <td>2.0</td>\n      <td>0.0</td>\n      <td>NaN</td>\n      <td>NaN</td>\n      <td>...</td>\n      <td>NaN</td>\n      <td>moiern</td>\n      <td>1.0</td>\n      <td>fr</td>\n      <td>1.0</td>\n      <td>2022-07-08_14h28.56.466</td>\n      <td>Continuous</td>\n      <td>2022.1.1</td>\n      <td>35.959581</td>\n      <td>NaN</td>\n    </tr>\n    <tr>\n      <th>3</th>\n      <td>0.0</td>\n      <td>0.0</td>\n      <td>0.0</td>\n      <td>0.0</td>\n      <td>3.0</td>\n      <td>0.0</td>\n      <td>3.0</td>\n      <td>0.0</td>\n      <td>NaN</td>\n      <td>NaN</td>\n      <td>...</td>\n      <td>NaN</td>\n      <td>moiern</td>\n      <td>1.0</td>\n      <td>fr</td>\n      <td>1.0</td>\n      <td>2022-07-08_14h28.56.466</td>\n      <td>Continuous</td>\n      <td>2022.1.1</td>\n      <td>35.959581</td>\n      <td>NaN</td>\n    </tr>\n    <tr>\n      <th>4</th>\n      <td>0.0</td>\n      <td>0.0</td>\n      <td>0.0</td>\n      <td>0.0</td>\n      <td>4.0</td>\n      <td>0.0</td>\n      <td>4.0</td>\n      <td>0.0</td>\n      <td>NaN</td>\n      <td>NaN</td>\n      <td>...</td>\n      <td>NaN</td>\n      <td>moiern</td>\n      <td>1.0</td>\n      <td>fr</td>\n      <td>1.0</td>\n      <td>2022-07-08_14h28.56.466</td>\n      <td>Continuous</td>\n      <td>2022.1.1</td>\n      <td>35.959581</td>\n      <td>NaN</td>\n    </tr>\n  </tbody>\n</table>\n<p>5 rows × 51 columns</p>\n</div>"
     },
     "execution_count": 5,
     "metadata": {},
     "output_type": "execute_result"
    }
   ],
   "source": [
    "# read the matching csv file into a DataFrame\n",
    "df_csv = pd.read_csv(log_file_path[:-4] + \"_1.csv\")\n",
    "\n",
    "df_csv.rename(columns={'feedback.keys': 'responses',\n",
    "                       'Prediction': 'pred'}, inplace=True)\n",
    "\n",
    "# fix feedback.rt format\n",
    "df_csv = fix_feedbackRT_format(df_csv)\n",
    "# df_csv['feedback.rt'] = df_csv['feedback.rt'].apply(lambda x: ast.literal_eval(x) if isinstance(x, str) else [])\n",
    "\n",
    "# show the first few rows of the DataFrame\n",
    "df_csv.head()"
   ],
   "metadata": {
    "collapsed": false,
    "ExecuteTime": {
     "end_time": "2023-07-30T13:08:33.715840Z",
     "start_time": "2023-07-30T13:08:33.690929Z"
    }
   }
  },
  {
   "cell_type": "code",
   "execution_count": 6,
   "outputs": [
    {
     "name": "stdout",
     "output_type": "stream",
     "text": [
      "Filtering RTs < 1sec after the tone onset: 12 detections removed\n"
     ]
    },
    {
     "data": {
      "text/plain": "   feedback.started  rep_number  responses            feedback.rt  pred  \\\n2         69.763261         2.0  ['space']  [-2.7036324000218883]  none   \n3         72.473964         3.0  ['space']  [-2.2958861000370234]  none   \n4         75.038301         4.0  ['space']  [-2.1878352999920025]  none   \n5         77.808075         5.0  ['space']  [-2.3974821999436244]  none   \n6         79.498505         6.0  ['space']  [-1.2873554000398144]  none   \n\n         corrected_rts  corrected_responses  index  \n2  [70.17807789996732]                  1.0    0.0  \n3   [72.8504655000288]                  1.0    1.0  \n4  [75.41059270000551]                  1.0    2.0  \n5  [78.21114979998674]                  1.0    3.0  \n6  [79.89844359993003]                  1.0    4.0  ",
      "text/html": "<div>\n<style scoped>\n    .dataframe tbody tr th:only-of-type {\n        vertical-align: middle;\n    }\n\n    .dataframe tbody tr th {\n        vertical-align: top;\n    }\n\n    .dataframe thead th {\n        text-align: right;\n    }\n</style>\n<table border=\"1\" class=\"dataframe\">\n  <thead>\n    <tr style=\"text-align: right;\">\n      <th></th>\n      <th>feedback.started</th>\n      <th>rep_number</th>\n      <th>responses</th>\n      <th>feedback.rt</th>\n      <th>pred</th>\n      <th>corrected_rts</th>\n      <th>corrected_responses</th>\n      <th>index</th>\n    </tr>\n  </thead>\n  <tbody>\n    <tr>\n      <th>2</th>\n      <td>69.763261</td>\n      <td>2.0</td>\n      <td>['space']</td>\n      <td>[-2.7036324000218883]</td>\n      <td>none</td>\n      <td>[70.17807789996732]</td>\n      <td>1.0</td>\n      <td>0.0</td>\n    </tr>\n    <tr>\n      <th>3</th>\n      <td>72.473964</td>\n      <td>3.0</td>\n      <td>['space']</td>\n      <td>[-2.2958861000370234]</td>\n      <td>none</td>\n      <td>[72.8504655000288]</td>\n      <td>1.0</td>\n      <td>1.0</td>\n    </tr>\n    <tr>\n      <th>4</th>\n      <td>75.038301</td>\n      <td>4.0</td>\n      <td>['space']</td>\n      <td>[-2.1878352999920025]</td>\n      <td>none</td>\n      <td>[75.41059270000551]</td>\n      <td>1.0</td>\n      <td>2.0</td>\n    </tr>\n    <tr>\n      <th>5</th>\n      <td>77.808075</td>\n      <td>5.0</td>\n      <td>['space']</td>\n      <td>[-2.3974821999436244]</td>\n      <td>none</td>\n      <td>[78.21114979998674]</td>\n      <td>1.0</td>\n      <td>3.0</td>\n    </tr>\n    <tr>\n      <th>6</th>\n      <td>79.498505</td>\n      <td>6.0</td>\n      <td>['space']</td>\n      <td>[-1.2873554000398144]</td>\n      <td>none</td>\n      <td>[79.89844359993003]</td>\n      <td>1.0</td>\n      <td>4.0</td>\n    </tr>\n  </tbody>\n</table>\n</div>"
     },
     "execution_count": 6,
     "metadata": {},
     "output_type": "execute_result"
    }
   ],
   "source": [
    "df_trials_csv = correct_continuous_responses(df_csv)\n",
    "\n",
    "df_trials_csv = df_trials_csv.loc[(df_trials_csv['rep_number'] > 1)]  # for keeping R:  | (df_trials_csv['pred'] == 'none')]\n",
    "df_trials_csv['index'] = np.linspace(0, len(df_trials_csv) - 1, len(df_trials_csv))\n",
    "# df_trials_csv['feedback.rt'] = df_trials_csv['feedback.rt'].astype(float)\n",
    "\n",
    "# show the first few rows of the new DataFrame\n",
    "df_trials_csv.head()"
   ],
   "metadata": {
    "collapsed": false,
    "ExecuteTime": {
     "end_time": "2023-07-30T13:08:33.786812Z",
     "start_time": "2023-07-30T13:08:33.718365Z"
    }
   }
  },
  {
   "cell_type": "markdown",
   "source": [
    "### Check against log responses"
   ],
   "metadata": {
    "collapsed": false
   }
  },
  {
   "cell_type": "code",
   "execution_count": 7,
   "outputs": [
    {
     "name": "stdout",
     "output_type": "stream",
     "text": [
      "Of the 213 trials considered:\n",
      "\n",
      "- Before shifting answers: 55 differences between .log and .csv responses\n",
      "\n",
      "- After shifting answers: 16 differences between .log and .csv responses\n",
      "\n",
      "- After filtering RTs < 1 sec post tone onset: 78 differences between .log and .csv responses\n"
     ]
    }
   ],
   "source": [
    "merged_df = pd.merge(df_trials_csv, df_trials_log, on='index')\n",
    "\n",
    "print(f\"Of the {len(merged_df)} trials considered:\")\n",
    "\n",
    "num_diff_rows = (merged_df['feedback.rt'].apply(lambda x: 1 if len(x) > 0 else 0) != merged_df['log_responses']).sum()\n",
    "print(f\"\\n- Before shifting answers: {num_diff_rows} differences between .log and .csv responses\")\n",
    "\n",
    "\n",
    "num_diff_rows = (merged_df['corrected_rts'].apply(lambda x: 1 if len(x) > 0 else 0) != merged_df['log_responses']).sum()\n",
    "print(f\"\\n- After shifting answers: {num_diff_rows} differences between .log and .csv responses\")\n",
    "\n",
    "\n",
    "num_diff_rows = (merged_df['corrected_responses'] != merged_df['log_responses']).sum()\n",
    "print(f\"\\n- After filtering RTs < 1 sec post tone onset: {num_diff_rows} differences between .log and .csv responses\")"
   ],
   "metadata": {
    "collapsed": false,
    "ExecuteTime": {
     "end_time": "2023-07-30T13:08:33.801054Z",
     "start_time": "2023-07-30T13:08:33.734654Z"
    }
   }
  }
 ],
 "metadata": {
  "kernelspec": {
   "display_name": "Python 3",
   "language": "python",
   "name": "python3"
  },
  "language_info": {
   "codemirror_mode": {
    "name": "ipython",
    "version": 2
   },
   "file_extension": ".py",
   "mimetype": "text/x-python",
   "name": "python",
   "nbconvert_exporter": "python",
   "pygments_lexer": "ipython2",
   "version": "2.7.6"
  }
 },
 "nbformat": 4,
 "nbformat_minor": 0
}
