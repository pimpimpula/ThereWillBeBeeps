{
 "cells": [
  {
   "cell_type": "code",
   "execution_count": 0,
   "metadata": {
    "collapsed": true
   },
   "outputs": [],
   "source": [
    "import pandas as pd\n",
    "import re"
   ]
  },
  {
   "cell_type": "code",
   "execution_count": 0,
   "outputs": [],
   "source": [
    "# define column names\n",
    "col_names = ['timestamp', 'entry_type', 'message']\n",
    "\n",
    "# read the log file into a DataFrame\n",
    "df_log = pd.read_csv('/Users/nadou/Projects/there_will_be_beeps/data/raw_data/moiern/Continuous/moiern_Continuous_2022-07-08_14h22.59.036.log', sep='\\t', names=col_names)\n",
    "\n",
    "# Remove leading and trailing whitespaces\n",
    "df_log = df_log.applymap(lambda x: x.strip() if isinstance(x, str) else x)"
   ],
   "metadata": {
    "collapsed": false
   }
  },
  {
   "cell_type": "code",
   "execution_count": 32,
   "outputs": [
    {
     "data": {
      "text/plain": "  timestamp  rep_number  responses\n0   53.2265           2          0\n1   56.2440           3          1\n2   57.7491           4          1\n3   59.7486           5          1\n4   62.8399           6          1",
      "text/html": "<div>\n<style scoped>\n    .dataframe tbody tr th:only-of-type {\n        vertical-align: middle;\n    }\n\n    .dataframe tbody tr th {\n        vertical-align: top;\n    }\n\n    .dataframe thead th {\n        text-align: right;\n    }\n</style>\n<table border=\"1\" class=\"dataframe\">\n  <thead>\n    <tr style=\"text-align: right;\">\n      <th></th>\n      <th>timestamp</th>\n      <th>rep_number</th>\n      <th>responses</th>\n    </tr>\n  </thead>\n  <tbody>\n    <tr>\n      <th>0</th>\n      <td>53.2265</td>\n      <td>2</td>\n      <td>0</td>\n    </tr>\n    <tr>\n      <th>1</th>\n      <td>56.2440</td>\n      <td>3</td>\n      <td>1</td>\n    </tr>\n    <tr>\n      <th>2</th>\n      <td>57.7491</td>\n      <td>4</td>\n      <td>1</td>\n    </tr>\n    <tr>\n      <th>3</th>\n      <td>59.7486</td>\n      <td>5</td>\n      <td>1</td>\n    </tr>\n    <tr>\n      <th>4</th>\n      <td>62.8399</td>\n      <td>6</td>\n      <td>1</td>\n    </tr>\n  </tbody>\n</table>\n</div>"
     },
     "execution_count": 32,
     "metadata": {},
     "output_type": "execute_result"
    }
   ],
   "source": [
    "# group by 'Created sequence:'\n",
    "sequence_groups = df_log.groupby(df_log.message.str.contains('Created sequence:').cumsum())\n",
    "\n",
    "# initialize an empty list to hold the data for the new DataFrame\n",
    "data = []\n",
    "\n",
    "# loop through each sequence group\n",
    "for sequence, sequence_group in sequence_groups:\n",
    "    # keep lines containing 'New trial' or 'Sound' or 'Keypress'\n",
    "    sequence_group = sequence_group.loc[sequence_group.message.str.contains('New trial|Sound|Keypress')]\n",
    "\n",
    "    # find the index of the first 'New trial' line\n",
    "    new_trial_indices = sequence_group[sequence_group.message.str.contains('New trial')].index\n",
    "\n",
    "    # if no 'New trial' line is found, skip to the next sequence\n",
    "    if new_trial_indices.empty:\n",
    "        continue\n",
    "\n",
    "    first_new_trial_index = new_trial_indices[0]\n",
    "\n",
    "\n",
    "    # slice the DataFrame from the first 'New trial' line\n",
    "    sequence_group = sequence_group.loc[first_new_trial_index:]\n",
    "\n",
    "    # find 'New trial' groups within each sequence group\n",
    "    trial_groups = sequence_group.groupby(sequence_group.message.str.contains('New trial').cumsum())\n",
    "\n",
    "    # loop through each trial group\n",
    "    for trial_name, trial_group in trial_groups:\n",
    "\n",
    "        # get the repetition number from the 'New trial' message\n",
    "        rep_match = re.search(r'rep=(\\d+)', trial_group['message'].values[0])\n",
    "        rep_number = int(rep_match.group(1))\n",
    "\n",
    "        # if 'Sound probe started' is not in the group's messages, skip to the next iteration\n",
    "        if 'Sound probe started' not in trial_group['message'].values:\n",
    "            continue\n",
    "\n",
    "        # if the repetition number is less than 2, skip to the next iteration\n",
    "        if rep_number < 2:\n",
    "            continue\n",
    "\n",
    "        # get the timestamp from the first row of the trial group\n",
    "        timestamp = trial_group['timestamp'].values[0]\n",
    "\n",
    "        # check if a row exists in trial_group containing 'Keypress: space' and assign the result to 'responses'\n",
    "        responses = 1 if 'Keypress: space' in trial_group['message'].values else 0\n",
    "\n",
    "        # create a dictionary with the data for the current trial and append it to the list\n",
    "        data.append({'timestamp': timestamp, 'rep_number': rep_number, 'responses': responses})\n",
    "\n",
    "# create a new DataFrame from the list of dictionaries\n",
    "df_trials = pd.DataFrame(data)\n",
    "\n",
    "# print the new DataFrame\n",
    "df_trials.head()"
   ],
   "metadata": {
    "collapsed": false,
    "ExecuteTime": {
     "end_time": "2023-07-25T23:26:37.589109Z",
     "start_time": "2023-07-25T23:26:37.525587Z"
    }
   }
  },
  {
   "cell_type": "code",
   "execution_count": 25,
   "outputs": [
    {
     "data": {
      "text/plain": "   sweeps.thisN  trials.thisN Prediction  Frequency    Volume  isCatchTrial  \\\n2           0.0           2.0  frequency      190.0 -4.270012           0.0   \n3           0.0           3.0  frequency      213.0 -1.262547           0.0   \n4           0.0           4.0  frequency      239.0 -6.904236           0.0   \n5           0.0           5.0  frequency      268.0 -6.058501           0.0   \n6           0.0           6.0  frequency      301.0  1.492714           0.0   \n\n  feedback.keys            feedback.rt  probe.started probe.stopped  \\\n2          None                    NaN       0.024492          None   \n3          None                    NaN       0.025795          None   \n4     ['space']  [-1.0566053999355063]       0.023493          None   \n5     ['space']  [-1.3378160999855027]       0.025077          None   \n6     ['space']    [-2.50034169992432]       0.025340          None   \n\n   feedback.started  ISI.started  ISI.stopped     Delay participant  \\\n2         53.253687     0.226495     3.001244  2.774749      moiern   \n3         56.272221     0.230251     1.488649  1.258398      moiern   \n4         57.774359     0.229741     1.989482  1.759741      moiern   \n5         59.775985     0.229364     3.081493  2.852128      moiern   \n6         62.866273     0.232652     1.791441  1.558789      moiern   \n\n   Resume previous experiment     expName  \n2                         0.0  Continuous  \n3                         0.0  Continuous  \n4                         0.0  Continuous  \n5                         0.0  Continuous  \n6                         0.0  Continuous  ",
      "text/html": "<div>\n<style scoped>\n    .dataframe tbody tr th:only-of-type {\n        vertical-align: middle;\n    }\n\n    .dataframe tbody tr th {\n        vertical-align: top;\n    }\n\n    .dataframe thead th {\n        text-align: right;\n    }\n</style>\n<table border=\"1\" class=\"dataframe\">\n  <thead>\n    <tr style=\"text-align: right;\">\n      <th></th>\n      <th>sweeps.thisN</th>\n      <th>trials.thisN</th>\n      <th>Prediction</th>\n      <th>Frequency</th>\n      <th>Volume</th>\n      <th>isCatchTrial</th>\n      <th>feedback.keys</th>\n      <th>feedback.rt</th>\n      <th>probe.started</th>\n      <th>probe.stopped</th>\n      <th>feedback.started</th>\n      <th>ISI.started</th>\n      <th>ISI.stopped</th>\n      <th>Delay</th>\n      <th>participant</th>\n      <th>Resume previous experiment</th>\n      <th>expName</th>\n    </tr>\n  </thead>\n  <tbody>\n    <tr>\n      <th>2</th>\n      <td>0.0</td>\n      <td>2.0</td>\n      <td>frequency</td>\n      <td>190.0</td>\n      <td>-4.270012</td>\n      <td>0.0</td>\n      <td>None</td>\n      <td>NaN</td>\n      <td>0.024492</td>\n      <td>None</td>\n      <td>53.253687</td>\n      <td>0.226495</td>\n      <td>3.001244</td>\n      <td>2.774749</td>\n      <td>moiern</td>\n      <td>0.0</td>\n      <td>Continuous</td>\n    </tr>\n    <tr>\n      <th>3</th>\n      <td>0.0</td>\n      <td>3.0</td>\n      <td>frequency</td>\n      <td>213.0</td>\n      <td>-1.262547</td>\n      <td>0.0</td>\n      <td>None</td>\n      <td>NaN</td>\n      <td>0.025795</td>\n      <td>None</td>\n      <td>56.272221</td>\n      <td>0.230251</td>\n      <td>1.488649</td>\n      <td>1.258398</td>\n      <td>moiern</td>\n      <td>0.0</td>\n      <td>Continuous</td>\n    </tr>\n    <tr>\n      <th>4</th>\n      <td>0.0</td>\n      <td>4.0</td>\n      <td>frequency</td>\n      <td>239.0</td>\n      <td>-6.904236</td>\n      <td>0.0</td>\n      <td>['space']</td>\n      <td>[-1.0566053999355063]</td>\n      <td>0.023493</td>\n      <td>None</td>\n      <td>57.774359</td>\n      <td>0.229741</td>\n      <td>1.989482</td>\n      <td>1.759741</td>\n      <td>moiern</td>\n      <td>0.0</td>\n      <td>Continuous</td>\n    </tr>\n    <tr>\n      <th>5</th>\n      <td>0.0</td>\n      <td>5.0</td>\n      <td>frequency</td>\n      <td>268.0</td>\n      <td>-6.058501</td>\n      <td>0.0</td>\n      <td>['space']</td>\n      <td>[-1.3378160999855027]</td>\n      <td>0.025077</td>\n      <td>None</td>\n      <td>59.775985</td>\n      <td>0.229364</td>\n      <td>3.081493</td>\n      <td>2.852128</td>\n      <td>moiern</td>\n      <td>0.0</td>\n      <td>Continuous</td>\n    </tr>\n    <tr>\n      <th>6</th>\n      <td>0.0</td>\n      <td>6.0</td>\n      <td>frequency</td>\n      <td>301.0</td>\n      <td>1.492714</td>\n      <td>0.0</td>\n      <td>['space']</td>\n      <td>[-2.50034169992432]</td>\n      <td>0.025340</td>\n      <td>None</td>\n      <td>62.866273</td>\n      <td>0.232652</td>\n      <td>1.791441</td>\n      <td>1.558789</td>\n      <td>moiern</td>\n      <td>0.0</td>\n      <td>Continuous</td>\n    </tr>\n  </tbody>\n</table>\n</div>"
     },
     "execution_count": 25,
     "metadata": {},
     "output_type": "execute_result"
    }
   ],
   "source": [
    "# read the csv file into a DataFrame\n",
    "df_csv = pd.read_csv('/Users/nadou/Projects/there_will_be_beeps/data/raw_data/moiern/Continuous/moiern_Continuous_2022-07-08_14h22.59.036_1.csv')\n",
    "\n",
    "df_csv = df_csv.loc[df_csv['trials.thisRepN'] > 1, ['sweeps.thisN', 'trials.thisN', 'Prediction', 'Frequency', 'Volume', 'isCatchTrial', 'feedback.keys', 'feedback.rt', 'probe.started', 'probe.stopped', 'feedback.started', 'ISI.started', 'ISI.stopped', 'Delay', 'participant', 'Resume previous experiment', 'expName']]\n",
    "\n",
    "# show the first few rows of the DataFrame\n",
    "df_csv.head()"
   ],
   "metadata": {
    "collapsed": false,
    "ExecuteTime": {
     "end_time": "2023-07-25T23:11:01.062583Z",
     "start_time": "2023-07-25T23:11:01.039780Z"
    }
   }
  },
  {
   "cell_type": "code",
   "execution_count": 31,
   "outputs": [
    {
     "data": {
      "text/plain": "   timestamp  rep_number              responses\n2  53.253687         2.0                    NaN\n3  56.272221         3.0                    NaN\n4  57.774359         4.0  [-1.0566053999355063]\n5  59.775985         5.0  [-1.3378160999855027]\n6  62.866273         6.0    [-2.50034169992432]",
      "text/html": "<div>\n<style scoped>\n    .dataframe tbody tr th:only-of-type {\n        vertical-align: middle;\n    }\n\n    .dataframe tbody tr th {\n        vertical-align: top;\n    }\n\n    .dataframe thead th {\n        text-align: right;\n    }\n</style>\n<table border=\"1\" class=\"dataframe\">\n  <thead>\n    <tr style=\"text-align: right;\">\n      <th></th>\n      <th>timestamp</th>\n      <th>rep_number</th>\n      <th>responses</th>\n    </tr>\n  </thead>\n  <tbody>\n    <tr>\n      <th>2</th>\n      <td>53.253687</td>\n      <td>2.0</td>\n      <td>NaN</td>\n    </tr>\n    <tr>\n      <th>3</th>\n      <td>56.272221</td>\n      <td>3.0</td>\n      <td>NaN</td>\n    </tr>\n    <tr>\n      <th>4</th>\n      <td>57.774359</td>\n      <td>4.0</td>\n      <td>[-1.0566053999355063]</td>\n    </tr>\n    <tr>\n      <th>5</th>\n      <td>59.775985</td>\n      <td>5.0</td>\n      <td>[-1.3378160999855027]</td>\n    </tr>\n    <tr>\n      <th>6</th>\n      <td>62.866273</td>\n      <td>6.0</td>\n      <td>[-2.50034169992432]</td>\n    </tr>\n  </tbody>\n</table>\n</div>"
     },
     "execution_count": 31,
     "metadata": {},
     "output_type": "execute_result"
    }
   ],
   "source": [
    "# select the required columns and rename them\n",
    "df_trials_csv = df_csv[['feedback.started', 'trials.thisN', 'feedback.rt']].rename(columns={\n",
    "    'feedback.started': 'timestamp',\n",
    "    'trials.thisN': 'rep_number',\n",
    "    'feedback.rt': 'responses'\n",
    "})\n",
    "\n",
    "# show the first few rows of the new DataFrame\n",
    "df_trials_csv.head()"
   ],
   "metadata": {
    "collapsed": false,
    "ExecuteTime": {
     "end_time": "2023-07-25T23:26:13.883966Z",
     "start_time": "2023-07-25T23:26:13.876987Z"
    }
   }
  }
 ],
 "metadata": {
  "kernelspec": {
   "display_name": "Python 3",
   "language": "python",
   "name": "python3"
  },
  "language_info": {
   "codemirror_mode": {
    "name": "ipython",
    "version": 2
   },
   "file_extension": ".py",
   "mimetype": "text/x-python",
   "name": "python",
   "nbconvert_exporter": "python",
   "pygments_lexer": "ipython2",
   "version": "2.7.6"
  }
 },
 "nbformat": 4,
 "nbformat_minor": 0
}
