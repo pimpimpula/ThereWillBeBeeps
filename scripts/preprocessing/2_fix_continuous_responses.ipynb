{
 "cells": [
  {
   "cell_type": "markdown",
   "source": [
    "# Fix responses in the Continuous task\n",
    "\n",
    "Something weird happened where the reaction times in the Continuous task are mostly negative.\n",
    "This script corrects the responses by shifting participant answers to the previous trial.\n",
    "\n",
    "It also discards the trials corresponding to the first two trials of each sweep.\n",
    "\n",
    "For each participant (skipping over those that are listed in the `ignore_participants` list):\n",
    "\n",
    "1. `fetch_initialization_data`: Initialization data is fetched for each participant.\n",
    "2. `process_csv_files`: CSV files for each participant are processed and compiled into a single DataFrame.\n",
    "3. `correct_data`: The data is corrected by addressing negative reaction times, removing catch trials, and discarding the first two trials of each sweep outside of the random condition. False alarm rates and detection ratios are computed and logged.\n",
    "4. `recompute_audiograms`: external API call to recompute all four audiograms, using the initialization data and the corrected data.\n",
    "5. `save_audiogram`: Each recomputed audiogram is saved in RAW_DATA/participant/Continuous with the suffix 'fixed'.\n",
    "\n",
    "Finally, print stats on the effect of the corrections on the FAR and detection ratio."
   ],
   "metadata": {
    "collapsed": false
   }
  },
  {
   "cell_type": "code",
   "execution_count": 1,
   "metadata": {
    "collapsed": true,
    "ExecuteTime": {
     "end_time": "2023-07-22T16:20:21.381656Z",
     "start_time": "2023-07-22T16:20:19.052899Z"
    }
   },
   "outputs": [],
   "source": [
    "from scripts.utils import *\n",
    "\n",
    "from funcs.fix_continuous_responses import *"
   ]
  },
  {
   "cell_type": "code",
   "execution_count": 2,
   "outputs": [],
   "source": [
    "# Set path to raw data (csv files)\n",
    "raw_data_path = get_path('raw_data')\n",
    "\n",
    "# Choose participants to exclude\n",
    "ignore_participants = exclude_participants()\n",
    "\n",
    "overwrite_existing = True"
   ],
   "metadata": {
    "collapsed": false,
    "ExecuteTime": {
     "end_time": "2023-07-22T16:20:21.383345Z",
     "start_time": "2023-07-22T16:20:21.380396Z"
    }
   }
  },
  {
   "cell_type": "code",
   "execution_count": 0,
   "outputs": [],
   "source": [
    "# Call the main function\n",
    "# process_participants(raw_data_path, ignore_participants, overwrite=True)\n",
    "\n",
    "API_access = get_API_access()\n",
    "\n",
    "os.chdir(raw_data_path)\n",
    "\n",
    "API_calls = {}\n",
    "API_answer = {}\n",
    "init_data = {}\n",
    "\n",
    "# Keep track of whether detection and false alarm ratios improve\n",
    "are_FARs_looking_better = []\n",
    "are_DRs_looking_better = []\n",
    "\n",
    "for participant in os.listdir():\n",
    "    if participant not in ignore_participants:\n",
    "        API_calls[participant] = {}\n",
    "        API_answer[participant] = {}\n",
    "        os.chdir(f'./{participant}/Continuous')\n",
    "\n",
    "        recomputed_files = list(filter(os.path.isfile, glob.glob(\"*_fixed.pkl\")))\n",
    "\n",
    "        os.chdir(raw_data_path)\n",
    "\n",
    "        if len(recomputed_files) < 4 or overwrite_existing:\n",
    "            print(\"\\n--------------------\", participant, \"--------------------\")\n",
    "\n",
    "            init_data[participant] = fetch_initialization_data(participant, raw_data_path)\n",
    "\n",
    "            participant_data = process_csv_files(participant, raw_data_path)\n",
    "\n",
    "            participant_data, effect_on_FAR, effect_on_DR = correct_data(participant_data, participant)\n",
    "\n",
    "            are_FARs_looking_better.append(effect_on_FAR)\n",
    "            are_DRs_looking_better.append(effect_on_DR)\n",
    "\n",
    "            for pred, pred_group in participant_data.groupby('Prediction'):\n",
    "\n",
    "                API_answer[participant][pred] = recompute_audiogram(participant, pred, pred_group, init_data[participant], API_calls, *API_access)\n",
    "\n",
    "                save_audiogram(raw_data_path, participant, pred, API_answer[participant][pred])\n",
    "\n",
    "            print(\"-------------------------------------------------\")"
   ],
   "metadata": {
    "collapsed": false
   }
  },
  {
   "cell_type": "code",
   "execution_count": 4,
   "outputs": [
    {
     "name": "stdout",
     "output_type": "stream",
     "text": [
      "\n",
      "Improved (decreased) FARs for 27 participants\n",
      "Mean improvement: 43.0 %\n",
      "\n",
      "Improved (increased) detection ratios for 28 participants\n",
      "Mean improvement: 5.0 %\n",
      "\n"
     ]
    }
   ],
   "source": [
    "\n",
    "# Check if we've \"improved\" FARs and detection rations with the corrections made\n",
    "print(\"\")\n",
    "print(f\"Improved (decreased) FARs for {np.sum(np.array(are_FARs_looking_better) > 0)} participants\")\n",
    "print(f\"Mean improvement: {np.round(np.mean(are_FARs_looking_better) * 100)} %\")\n",
    "print(\"\")\n",
    "print(f\"Improved (increased) detection ratios for {np.sum(np.array(are_DRs_looking_better) > 0)} participants\")\n",
    "print(f\"Mean improvement: {np.round(np.mean(are_DRs_looking_better) * 100)} %\")\n",
    "print(\"\")\n"
   ],
   "metadata": {
    "collapsed": false,
    "ExecuteTime": {
     "end_time": "2023-07-22T16:32:26.316772Z",
     "start_time": "2023-07-22T16:32:26.315285Z"
    }
   }
  }
 ],
 "metadata": {
  "kernelspec": {
   "display_name": "Python 3",
   "language": "python",
   "name": "python3"
  },
  "language_info": {
   "codemirror_mode": {
    "name": "ipython",
    "version": 2
   },
   "file_extension": ".py",
   "mimetype": "text/x-python",
   "name": "python",
   "nbconvert_exporter": "python",
   "pygments_lexer": "ipython2",
   "version": "2.7.6"
  }
 },
 "nbformat": 4,
 "nbformat_minor": 0
}
