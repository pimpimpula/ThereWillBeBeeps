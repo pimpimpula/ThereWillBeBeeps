{
 "cells": [
  {
   "cell_type": "markdown",
   "source": [
    "# Linear Mixed Model"
   ],
   "metadata": {
    "collapsed": false
   }
  },
  {
   "cell_type": "code",
   "execution_count": 1,
   "outputs": [],
   "source": [
    "from sklearn.preprocessing import StandardScaler\n",
    "\n",
    "from scripts.utils import *\n",
    "import statsmodels.formula.api as smf"
   ],
   "metadata": {
    "collapsed": false,
    "ExecuteTime": {
     "end_time": "2023-07-31T20:22:38.959510Z",
     "start_time": "2023-07-31T20:22:37.015616Z"
    }
   }
  },
  {
   "cell_type": "code",
   "execution_count": 2,
   "outputs": [],
   "source": [
    "# set path\n",
    "data_path = get_path('dataframes')"
   ],
   "metadata": {
    "collapsed": false,
    "ExecuteTime": {
     "end_time": "2023-07-31T20:22:38.963630Z",
     "start_time": "2023-07-31T20:22:38.961005Z"
    }
   }
  },
  {
   "cell_type": "markdown",
   "source": [
    "Load data"
   ],
   "metadata": {
    "collapsed": false
   }
  },
  {
   "cell_type": "code",
   "execution_count": 3,
   "outputs": [],
   "source": [
    "threshold_data = pd.read_pickle(os.path.join(data_path, 'thresholds-3AFC_freqs.pkl'))[\n",
    "    ['participant', 'paradigm', 'pred', 'mean_threshold']].drop_duplicates()\n",
    "\n",
    "p50_data = pd.read_pickle(os.path.join(data_path, 'sigmoid_data.pkl'))[\n",
    "    ['participant', 'paradigm', 'pred', 'distance_p50']].drop_duplicates()\n",
    "\n",
    "# FAR_data = pd.read_pickle(os.path.join(data_path, 'false_alarm_rates.pkl'))[\n",
    "#     ['participant', 'paradigm', 'pred', 'false_alarm_rate']].drop_duplicates()\n",
    "\n",
    "gmsi_data = load_gmsi_results()\n",
    "\n",
    "age = load_age_info()"
   ],
   "metadata": {
    "collapsed": false,
    "ExecuteTime": {
     "end_time": "2023-07-31T20:22:39.570494Z",
     "start_time": "2023-07-31T20:22:38.966314Z"
    }
   }
  },
  {
   "cell_type": "code",
   "execution_count": 4,
   "outputs": [
    {
     "data": {
      "text/plain": "  participant  paradigm       pred  mean_threshold  distance_p50  gmsi age\n0      cbtxie      3AFC       3AFC       -2.154545     -5.970877    62  31\n1      cbtxie  Bayesian   Bayesian        2.552655      0.764187    62  31\n2      cbtxie   Cluster       both        2.479225     -0.184336    62  31\n3      cbtxie   Cluster  frequency        1.429287     -1.157223    62  31\n4      cbtxie   Cluster       none        1.792861     -0.296288    62  31",
      "text/html": "<div>\n<style scoped>\n    .dataframe tbody tr th:only-of-type {\n        vertical-align: middle;\n    }\n\n    .dataframe tbody tr th {\n        vertical-align: top;\n    }\n\n    .dataframe thead th {\n        text-align: right;\n    }\n</style>\n<table border=\"1\" class=\"dataframe\">\n  <thead>\n    <tr style=\"text-align: right;\">\n      <th></th>\n      <th>participant</th>\n      <th>paradigm</th>\n      <th>pred</th>\n      <th>mean_threshold</th>\n      <th>distance_p50</th>\n      <th>gmsi</th>\n      <th>age</th>\n    </tr>\n  </thead>\n  <tbody>\n    <tr>\n      <th>0</th>\n      <td>cbtxie</td>\n      <td>3AFC</td>\n      <td>3AFC</td>\n      <td>-2.154545</td>\n      <td>-5.970877</td>\n      <td>62</td>\n      <td>31</td>\n    </tr>\n    <tr>\n      <th>1</th>\n      <td>cbtxie</td>\n      <td>Bayesian</td>\n      <td>Bayesian</td>\n      <td>2.552655</td>\n      <td>0.764187</td>\n      <td>62</td>\n      <td>31</td>\n    </tr>\n    <tr>\n      <th>2</th>\n      <td>cbtxie</td>\n      <td>Cluster</td>\n      <td>both</td>\n      <td>2.479225</td>\n      <td>-0.184336</td>\n      <td>62</td>\n      <td>31</td>\n    </tr>\n    <tr>\n      <th>3</th>\n      <td>cbtxie</td>\n      <td>Cluster</td>\n      <td>frequency</td>\n      <td>1.429287</td>\n      <td>-1.157223</td>\n      <td>62</td>\n      <td>31</td>\n    </tr>\n    <tr>\n      <th>4</th>\n      <td>cbtxie</td>\n      <td>Cluster</td>\n      <td>none</td>\n      <td>1.792861</td>\n      <td>-0.296288</td>\n      <td>62</td>\n      <td>31</td>\n    </tr>\n  </tbody>\n</table>\n</div>"
     },
     "execution_count": 4,
     "metadata": {},
     "output_type": "execute_result"
    }
   ],
   "source": [
    "# Merge everything\n",
    "all_data = pd.merge(threshold_data, p50_data, on=['paradigm', 'pred', 'participant'])\n",
    "# all_data = pd.merge(all_data, FAR_data, on=['paradigm', 'pred', 'participant'])\n",
    "all_data = pd.merge(all_data, gmsi_data, on='participant')\n",
    "all_data = pd.merge(all_data, age, on='participant')\n",
    "\n",
    "all_data.head()"
   ],
   "metadata": {
    "collapsed": false,
    "ExecuteTime": {
     "end_time": "2023-07-31T20:22:39.587740Z",
     "start_time": "2023-07-31T20:22:39.572270Z"
    }
   }
  },
  {
   "cell_type": "code",
   "execution_count": 5,
   "outputs": [],
   "source": [
    "scaler = StandardScaler()\n",
    "\n",
    "# Select only numerical columns\n",
    "numerical_cols = ['mean_threshold', 'distance_p50', 'age', 'gmsi']  # add or remove according to your dataset\n",
    "\n",
    "# Fit and transform the data\n",
    "all_data_standardized = all_data.copy()\n",
    "all_data_standardized[numerical_cols] = scaler.fit_transform(all_data[numerical_cols])\n"
   ],
   "metadata": {
    "collapsed": false,
    "ExecuteTime": {
     "end_time": "2023-07-31T20:22:39.598760Z",
     "start_time": "2023-07-31T20:22:39.588426Z"
    }
   }
  },
  {
   "cell_type": "markdown",
   "source": [
    "#### Fit Linear Mixed Model"
   ],
   "metadata": {
    "collapsed": false
   }
  },
  {
   "cell_type": "code",
   "execution_count": 6,
   "metadata": {
    "collapsed": true,
    "ExecuteTime": {
     "end_time": "2023-07-31T20:22:45.184107Z",
     "start_time": "2023-07-31T20:22:39.601076Z"
    }
   },
   "outputs": [
    {
     "ename": "LinAlgError",
     "evalue": "Singular matrix",
     "output_type": "error",
     "traceback": [
      "\u001B[0;31m---------------------------------------------------------------------------\u001B[0m",
      "\u001B[0;31mLinAlgError\u001B[0m                               Traceback (most recent call last)",
      "Cell \u001B[0;32mIn[6], line 11\u001B[0m\n\u001B[1;32m      8\u001B[0m model \u001B[38;5;241m=\u001B[39m smf\u001B[38;5;241m.\u001B[39mmixedlm(\u001B[38;5;124m\"\u001B[39m\u001B[38;5;124mmean_threshold ~ paradigm*pred*age*gmsi\u001B[39m\u001B[38;5;124m\"\u001B[39m, all_data, groups\u001B[38;5;241m=\u001B[39mall_data[\u001B[38;5;124m'\u001B[39m\u001B[38;5;124mparticipant\u001B[39m\u001B[38;5;124m'\u001B[39m])\n\u001B[1;32m     10\u001B[0m \u001B[38;5;66;03m# Fit model and print results\u001B[39;00m\n\u001B[0;32m---> 11\u001B[0m result \u001B[38;5;241m=\u001B[39m \u001B[43mmodel\u001B[49m\u001B[38;5;241;43m.\u001B[39;49m\u001B[43mfit\u001B[49m\u001B[43m(\u001B[49m\u001B[43m)\u001B[49m\n\u001B[1;32m     12\u001B[0m \u001B[38;5;28mprint\u001B[39m(result\u001B[38;5;241m.\u001B[39msummary())\n\u001B[1;32m     14\u001B[0m \u001B[38;5;66;03m# Predicted values\u001B[39;00m\n",
      "File \u001B[0;32m~/opt/anaconda3/envs/ThereWillBeBeeps/lib/python3.8/site-packages/statsmodels/regression/mixed_linear_model.py:2191\u001B[0m, in \u001B[0;36mMixedLM.fit\u001B[0;34m(self, start_params, reml, niter_sa, do_cg, fe_pen, cov_pen, free, full_output, method, **fit_kwargs)\u001B[0m\n\u001B[1;32m   2189\u001B[0m \u001B[38;5;66;03m# Try optimizing one or more times\u001B[39;00m\n\u001B[1;32m   2190\u001B[0m \u001B[38;5;28;01mfor\u001B[39;00m j \u001B[38;5;129;01min\u001B[39;00m \u001B[38;5;28mrange\u001B[39m(\u001B[38;5;28mlen\u001B[39m(method)):\n\u001B[0;32m-> 2191\u001B[0m     rslt \u001B[38;5;241m=\u001B[39m \u001B[38;5;28;43msuper\u001B[39;49m\u001B[43m(\u001B[49m\u001B[43mMixedLM\u001B[49m\u001B[43m,\u001B[49m\u001B[43m \u001B[49m\u001B[38;5;28;43mself\u001B[39;49m\u001B[43m)\u001B[49m\u001B[38;5;241;43m.\u001B[39;49m\u001B[43mfit\u001B[49m\u001B[43m(\u001B[49m\u001B[43mstart_params\u001B[49m\u001B[38;5;241;43m=\u001B[39;49m\u001B[43mpacked\u001B[49m\u001B[43m,\u001B[49m\n\u001B[1;32m   2192\u001B[0m \u001B[43m                                    \u001B[49m\u001B[43mskip_hessian\u001B[49m\u001B[38;5;241;43m=\u001B[39;49m\u001B[38;5;28;43;01mTrue\u001B[39;49;00m\u001B[43m,\u001B[49m\n\u001B[1;32m   2193\u001B[0m \u001B[43m                                    \u001B[49m\u001B[43mmethod\u001B[49m\u001B[38;5;241;43m=\u001B[39;49m\u001B[43mmethod\u001B[49m\u001B[43m[\u001B[49m\u001B[43mj\u001B[49m\u001B[43m]\u001B[49m\u001B[43m,\u001B[49m\n\u001B[1;32m   2194\u001B[0m \u001B[43m                                    \u001B[49m\u001B[38;5;241;43m*\u001B[39;49m\u001B[38;5;241;43m*\u001B[39;49m\u001B[43mfit_kwargs\u001B[49m\u001B[43m)\u001B[49m\n\u001B[1;32m   2195\u001B[0m     \u001B[38;5;28;01mif\u001B[39;00m rslt\u001B[38;5;241m.\u001B[39mmle_retvals[\u001B[38;5;124m'\u001B[39m\u001B[38;5;124mconverged\u001B[39m\u001B[38;5;124m'\u001B[39m]:\n\u001B[1;32m   2196\u001B[0m         \u001B[38;5;28;01mbreak\u001B[39;00m\n",
      "File \u001B[0;32m~/opt/anaconda3/envs/ThereWillBeBeeps/lib/python3.8/site-packages/statsmodels/base/model.py:563\u001B[0m, in \u001B[0;36mLikelihoodModel.fit\u001B[0;34m(self, start_params, method, maxiter, full_output, disp, fargs, callback, retall, skip_hessian, **kwargs)\u001B[0m\n\u001B[1;32m    560\u001B[0m     \u001B[38;5;28;01mdel\u001B[39;00m kwargs[\u001B[38;5;124m\"\u001B[39m\u001B[38;5;124muse_t\u001B[39m\u001B[38;5;124m\"\u001B[39m]\n\u001B[1;32m    562\u001B[0m optimizer \u001B[38;5;241m=\u001B[39m Optimizer()\n\u001B[0;32m--> 563\u001B[0m xopt, retvals, optim_settings \u001B[38;5;241m=\u001B[39m \u001B[43moptimizer\u001B[49m\u001B[38;5;241;43m.\u001B[39;49m\u001B[43m_fit\u001B[49m\u001B[43m(\u001B[49m\u001B[43mf\u001B[49m\u001B[43m,\u001B[49m\u001B[43m \u001B[49m\u001B[43mscore\u001B[49m\u001B[43m,\u001B[49m\u001B[43m \u001B[49m\u001B[43mstart_params\u001B[49m\u001B[43m,\u001B[49m\n\u001B[1;32m    564\u001B[0m \u001B[43m                                               \u001B[49m\u001B[43mfargs\u001B[49m\u001B[43m,\u001B[49m\u001B[43m \u001B[49m\u001B[43mkwargs\u001B[49m\u001B[43m,\u001B[49m\n\u001B[1;32m    565\u001B[0m \u001B[43m                                               \u001B[49m\u001B[43mhessian\u001B[49m\u001B[38;5;241;43m=\u001B[39;49m\u001B[43mhess\u001B[49m\u001B[43m,\u001B[49m\n\u001B[1;32m    566\u001B[0m \u001B[43m                                               \u001B[49m\u001B[43mmethod\u001B[49m\u001B[38;5;241;43m=\u001B[39;49m\u001B[43mmethod\u001B[49m\u001B[43m,\u001B[49m\n\u001B[1;32m    567\u001B[0m \u001B[43m                                               \u001B[49m\u001B[43mdisp\u001B[49m\u001B[38;5;241;43m=\u001B[39;49m\u001B[43mdisp\u001B[49m\u001B[43m,\u001B[49m\n\u001B[1;32m    568\u001B[0m \u001B[43m                                               \u001B[49m\u001B[43mmaxiter\u001B[49m\u001B[38;5;241;43m=\u001B[39;49m\u001B[43mmaxiter\u001B[49m\u001B[43m,\u001B[49m\n\u001B[1;32m    569\u001B[0m \u001B[43m                                               \u001B[49m\u001B[43mcallback\u001B[49m\u001B[38;5;241;43m=\u001B[39;49m\u001B[43mcallback\u001B[49m\u001B[43m,\u001B[49m\n\u001B[1;32m    570\u001B[0m \u001B[43m                                               \u001B[49m\u001B[43mretall\u001B[49m\u001B[38;5;241;43m=\u001B[39;49m\u001B[43mretall\u001B[49m\u001B[43m,\u001B[49m\n\u001B[1;32m    571\u001B[0m \u001B[43m                                               \u001B[49m\u001B[43mfull_output\u001B[49m\u001B[38;5;241;43m=\u001B[39;49m\u001B[43mfull_output\u001B[49m\u001B[43m)\u001B[49m\n\u001B[1;32m    572\u001B[0m \u001B[38;5;66;03m# Restore cov_type, cov_kwds and use_t\u001B[39;00m\n\u001B[1;32m    573\u001B[0m optim_settings\u001B[38;5;241m.\u001B[39mupdate(kwds)\n",
      "File \u001B[0;32m~/opt/anaconda3/envs/ThereWillBeBeeps/lib/python3.8/site-packages/statsmodels/base/optimizer.py:241\u001B[0m, in \u001B[0;36mOptimizer._fit\u001B[0;34m(self, objective, gradient, start_params, fargs, kwargs, hessian, method, maxiter, full_output, disp, callback, retall)\u001B[0m\n\u001B[1;32m    238\u001B[0m     fit_funcs\u001B[38;5;241m.\u001B[39mupdate(extra_fit_funcs)\n\u001B[1;32m    240\u001B[0m func \u001B[38;5;241m=\u001B[39m fit_funcs[method]\n\u001B[0;32m--> 241\u001B[0m xopt, retvals \u001B[38;5;241m=\u001B[39m \u001B[43mfunc\u001B[49m\u001B[43m(\u001B[49m\u001B[43mobjective\u001B[49m\u001B[43m,\u001B[49m\u001B[43m \u001B[49m\u001B[43mgradient\u001B[49m\u001B[43m,\u001B[49m\u001B[43m \u001B[49m\u001B[43mstart_params\u001B[49m\u001B[43m,\u001B[49m\u001B[43m \u001B[49m\u001B[43mfargs\u001B[49m\u001B[43m,\u001B[49m\u001B[43m \u001B[49m\u001B[43mkwargs\u001B[49m\u001B[43m,\u001B[49m\n\u001B[1;32m    242\u001B[0m \u001B[43m                     \u001B[49m\u001B[43mdisp\u001B[49m\u001B[38;5;241;43m=\u001B[39;49m\u001B[43mdisp\u001B[49m\u001B[43m,\u001B[49m\u001B[43m \u001B[49m\u001B[43mmaxiter\u001B[49m\u001B[38;5;241;43m=\u001B[39;49m\u001B[43mmaxiter\u001B[49m\u001B[43m,\u001B[49m\u001B[43m \u001B[49m\u001B[43mcallback\u001B[49m\u001B[38;5;241;43m=\u001B[39;49m\u001B[43mcallback\u001B[49m\u001B[43m,\u001B[49m\n\u001B[1;32m    243\u001B[0m \u001B[43m                     \u001B[49m\u001B[43mretall\u001B[49m\u001B[38;5;241;43m=\u001B[39;49m\u001B[43mretall\u001B[49m\u001B[43m,\u001B[49m\u001B[43m \u001B[49m\u001B[43mfull_output\u001B[49m\u001B[38;5;241;43m=\u001B[39;49m\u001B[43mfull_output\u001B[49m\u001B[43m,\u001B[49m\n\u001B[1;32m    244\u001B[0m \u001B[43m                     \u001B[49m\u001B[43mhess\u001B[49m\u001B[38;5;241;43m=\u001B[39;49m\u001B[43mhessian\u001B[49m\u001B[43m)\u001B[49m\n\u001B[1;32m    246\u001B[0m optim_settings \u001B[38;5;241m=\u001B[39m {\u001B[38;5;124m'\u001B[39m\u001B[38;5;124moptimizer\u001B[39m\u001B[38;5;124m'\u001B[39m: method, \u001B[38;5;124m'\u001B[39m\u001B[38;5;124mstart_params\u001B[39m\u001B[38;5;124m'\u001B[39m: start_params,\n\u001B[1;32m    247\u001B[0m                   \u001B[38;5;124m'\u001B[39m\u001B[38;5;124mmaxiter\u001B[39m\u001B[38;5;124m'\u001B[39m: maxiter, \u001B[38;5;124m'\u001B[39m\u001B[38;5;124mfull_output\u001B[39m\u001B[38;5;124m'\u001B[39m: full_output,\n\u001B[1;32m    248\u001B[0m                   \u001B[38;5;124m'\u001B[39m\u001B[38;5;124mdisp\u001B[39m\u001B[38;5;124m'\u001B[39m: disp, \u001B[38;5;124m'\u001B[39m\u001B[38;5;124mfargs\u001B[39m\u001B[38;5;124m'\u001B[39m: fargs, \u001B[38;5;124m'\u001B[39m\u001B[38;5;124mcallback\u001B[39m\u001B[38;5;124m'\u001B[39m: callback,\n\u001B[1;32m    249\u001B[0m                   \u001B[38;5;124m'\u001B[39m\u001B[38;5;124mretall\u001B[39m\u001B[38;5;124m'\u001B[39m: retall, \u001B[38;5;124m\"\u001B[39m\u001B[38;5;124mextra_fit_funcs\u001B[39m\u001B[38;5;124m\"\u001B[39m: extra_fit_funcs}\n\u001B[1;32m    250\u001B[0m optim_settings\u001B[38;5;241m.\u001B[39mupdate(kwargs)\n",
      "File \u001B[0;32m~/opt/anaconda3/envs/ThereWillBeBeeps/lib/python3.8/site-packages/statsmodels/base/optimizer.py:529\u001B[0m, in \u001B[0;36m_fit_bfgs\u001B[0;34m(f, score, start_params, fargs, kwargs, disp, maxiter, callback, retall, full_output, hess)\u001B[0m\n\u001B[1;32m    527\u001B[0m norm \u001B[38;5;241m=\u001B[39m kwargs\u001B[38;5;241m.\u001B[39msetdefault(\u001B[38;5;124m'\u001B[39m\u001B[38;5;124mnorm\u001B[39m\u001B[38;5;124m'\u001B[39m, np\u001B[38;5;241m.\u001B[39mInf)\n\u001B[1;32m    528\u001B[0m epsilon \u001B[38;5;241m=\u001B[39m kwargs\u001B[38;5;241m.\u001B[39msetdefault(\u001B[38;5;124m'\u001B[39m\u001B[38;5;124mepsilon\u001B[39m\u001B[38;5;124m'\u001B[39m, \u001B[38;5;241m1.4901161193847656e-08\u001B[39m)\n\u001B[0;32m--> 529\u001B[0m retvals \u001B[38;5;241m=\u001B[39m \u001B[43moptimize\u001B[49m\u001B[38;5;241;43m.\u001B[39;49m\u001B[43mfmin_bfgs\u001B[49m\u001B[43m(\u001B[49m\u001B[43mf\u001B[49m\u001B[43m,\u001B[49m\u001B[43m \u001B[49m\u001B[43mstart_params\u001B[49m\u001B[43m,\u001B[49m\u001B[43m \u001B[49m\u001B[43mscore\u001B[49m\u001B[43m,\u001B[49m\u001B[43m \u001B[49m\u001B[43margs\u001B[49m\u001B[38;5;241;43m=\u001B[39;49m\u001B[43mfargs\u001B[49m\u001B[43m,\u001B[49m\n\u001B[1;32m    530\u001B[0m \u001B[43m                             \u001B[49m\u001B[43mgtol\u001B[49m\u001B[38;5;241;43m=\u001B[39;49m\u001B[43mgtol\u001B[49m\u001B[43m,\u001B[49m\u001B[43m \u001B[49m\u001B[43mnorm\u001B[49m\u001B[38;5;241;43m=\u001B[39;49m\u001B[43mnorm\u001B[49m\u001B[43m,\u001B[49m\u001B[43m \u001B[49m\u001B[43mepsilon\u001B[49m\u001B[38;5;241;43m=\u001B[39;49m\u001B[43mepsilon\u001B[49m\u001B[43m,\u001B[49m\n\u001B[1;32m    531\u001B[0m \u001B[43m                             \u001B[49m\u001B[43mmaxiter\u001B[49m\u001B[38;5;241;43m=\u001B[39;49m\u001B[43mmaxiter\u001B[49m\u001B[43m,\u001B[49m\u001B[43m \u001B[49m\u001B[43mfull_output\u001B[49m\u001B[38;5;241;43m=\u001B[39;49m\u001B[43mfull_output\u001B[49m\u001B[43m,\u001B[49m\n\u001B[1;32m    532\u001B[0m \u001B[43m                             \u001B[49m\u001B[43mdisp\u001B[49m\u001B[38;5;241;43m=\u001B[39;49m\u001B[43mdisp\u001B[49m\u001B[43m,\u001B[49m\u001B[43m \u001B[49m\u001B[43mretall\u001B[49m\u001B[38;5;241;43m=\u001B[39;49m\u001B[43mretall\u001B[49m\u001B[43m,\u001B[49m\u001B[43m \u001B[49m\u001B[43mcallback\u001B[49m\u001B[38;5;241;43m=\u001B[39;49m\u001B[43mcallback\u001B[49m\u001B[43m)\u001B[49m\n\u001B[1;32m    533\u001B[0m \u001B[38;5;28;01mif\u001B[39;00m full_output:\n\u001B[1;32m    534\u001B[0m     \u001B[38;5;28;01mif\u001B[39;00m \u001B[38;5;129;01mnot\u001B[39;00m retall:\n",
      "File \u001B[0;32m~/opt/anaconda3/envs/ThereWillBeBeeps/lib/python3.8/site-packages/scipy/optimize/optimize.py:1143\u001B[0m, in \u001B[0;36mfmin_bfgs\u001B[0;34m(f, x0, fprime, args, gtol, norm, epsilon, maxiter, full_output, disp, retall, callback)\u001B[0m\n\u001B[1;32m   1037\u001B[0m \u001B[38;5;250m\u001B[39m\u001B[38;5;124;03m\"\"\"\u001B[39;00m\n\u001B[1;32m   1038\u001B[0m \u001B[38;5;124;03mMinimize a function using the BFGS algorithm.\u001B[39;00m\n\u001B[1;32m   1039\u001B[0m \n\u001B[0;32m   (...)\u001B[0m\n\u001B[1;32m   1134\u001B[0m \n\u001B[1;32m   1135\u001B[0m \u001B[38;5;124;03m\"\"\"\u001B[39;00m\n\u001B[1;32m   1136\u001B[0m opts \u001B[38;5;241m=\u001B[39m {\u001B[38;5;124m'\u001B[39m\u001B[38;5;124mgtol\u001B[39m\u001B[38;5;124m'\u001B[39m: gtol,\n\u001B[1;32m   1137\u001B[0m         \u001B[38;5;124m'\u001B[39m\u001B[38;5;124mnorm\u001B[39m\u001B[38;5;124m'\u001B[39m: norm,\n\u001B[1;32m   1138\u001B[0m         \u001B[38;5;124m'\u001B[39m\u001B[38;5;124meps\u001B[39m\u001B[38;5;124m'\u001B[39m: epsilon,\n\u001B[1;32m   1139\u001B[0m         \u001B[38;5;124m'\u001B[39m\u001B[38;5;124mdisp\u001B[39m\u001B[38;5;124m'\u001B[39m: disp,\n\u001B[1;32m   1140\u001B[0m         \u001B[38;5;124m'\u001B[39m\u001B[38;5;124mmaxiter\u001B[39m\u001B[38;5;124m'\u001B[39m: maxiter,\n\u001B[1;32m   1141\u001B[0m         \u001B[38;5;124m'\u001B[39m\u001B[38;5;124mreturn_all\u001B[39m\u001B[38;5;124m'\u001B[39m: retall}\n\u001B[0;32m-> 1143\u001B[0m res \u001B[38;5;241m=\u001B[39m \u001B[43m_minimize_bfgs\u001B[49m\u001B[43m(\u001B[49m\u001B[43mf\u001B[49m\u001B[43m,\u001B[49m\u001B[43m \u001B[49m\u001B[43mx0\u001B[49m\u001B[43m,\u001B[49m\u001B[43m \u001B[49m\u001B[43margs\u001B[49m\u001B[43m,\u001B[49m\u001B[43m \u001B[49m\u001B[43mfprime\u001B[49m\u001B[43m,\u001B[49m\u001B[43m \u001B[49m\u001B[43mcallback\u001B[49m\u001B[38;5;241;43m=\u001B[39;49m\u001B[43mcallback\u001B[49m\u001B[43m,\u001B[49m\u001B[43m \u001B[49m\u001B[38;5;241;43m*\u001B[39;49m\u001B[38;5;241;43m*\u001B[39;49m\u001B[43mopts\u001B[49m\u001B[43m)\u001B[49m\n\u001B[1;32m   1145\u001B[0m \u001B[38;5;28;01mif\u001B[39;00m full_output:\n\u001B[1;32m   1146\u001B[0m     retlist \u001B[38;5;241m=\u001B[39m (res[\u001B[38;5;124m'\u001B[39m\u001B[38;5;124mx\u001B[39m\u001B[38;5;124m'\u001B[39m], res[\u001B[38;5;124m'\u001B[39m\u001B[38;5;124mfun\u001B[39m\u001B[38;5;124m'\u001B[39m], res[\u001B[38;5;124m'\u001B[39m\u001B[38;5;124mjac\u001B[39m\u001B[38;5;124m'\u001B[39m], res[\u001B[38;5;124m'\u001B[39m\u001B[38;5;124mhess_inv\u001B[39m\u001B[38;5;124m'\u001B[39m],\n\u001B[1;32m   1147\u001B[0m                res[\u001B[38;5;124m'\u001B[39m\u001B[38;5;124mnfev\u001B[39m\u001B[38;5;124m'\u001B[39m], res[\u001B[38;5;124m'\u001B[39m\u001B[38;5;124mnjev\u001B[39m\u001B[38;5;124m'\u001B[39m], res[\u001B[38;5;124m'\u001B[39m\u001B[38;5;124mstatus\u001B[39m\u001B[38;5;124m'\u001B[39m])\n",
      "File \u001B[0;32m~/opt/anaconda3/envs/ThereWillBeBeeps/lib/python3.8/site-packages/scipy/optimize/optimize.py:1201\u001B[0m, in \u001B[0;36m_minimize_bfgs\u001B[0;34m(fun, x0, args, jac, callback, gtol, norm, eps, maxiter, disp, return_all, finite_diff_rel_step, **unknown_options)\u001B[0m\n\u001B[1;32m   1198\u001B[0m \u001B[38;5;28;01mif\u001B[39;00m maxiter \u001B[38;5;129;01mis\u001B[39;00m \u001B[38;5;28;01mNone\u001B[39;00m:\n\u001B[1;32m   1199\u001B[0m     maxiter \u001B[38;5;241m=\u001B[39m \u001B[38;5;28mlen\u001B[39m(x0) \u001B[38;5;241m*\u001B[39m \u001B[38;5;241m200\u001B[39m\n\u001B[0;32m-> 1201\u001B[0m sf \u001B[38;5;241m=\u001B[39m \u001B[43m_prepare_scalar_function\u001B[49m\u001B[43m(\u001B[49m\u001B[43mfun\u001B[49m\u001B[43m,\u001B[49m\u001B[43m \u001B[49m\u001B[43mx0\u001B[49m\u001B[43m,\u001B[49m\u001B[43m \u001B[49m\u001B[43mjac\u001B[49m\u001B[43m,\u001B[49m\u001B[43m \u001B[49m\u001B[43margs\u001B[49m\u001B[38;5;241;43m=\u001B[39;49m\u001B[43margs\u001B[49m\u001B[43m,\u001B[49m\u001B[43m \u001B[49m\u001B[43mepsilon\u001B[49m\u001B[38;5;241;43m=\u001B[39;49m\u001B[43meps\u001B[49m\u001B[43m,\u001B[49m\n\u001B[1;32m   1202\u001B[0m \u001B[43m                              \u001B[49m\u001B[43mfinite_diff_rel_step\u001B[49m\u001B[38;5;241;43m=\u001B[39;49m\u001B[43mfinite_diff_rel_step\u001B[49m\u001B[43m)\u001B[49m\n\u001B[1;32m   1204\u001B[0m f \u001B[38;5;241m=\u001B[39m sf\u001B[38;5;241m.\u001B[39mfun\n\u001B[1;32m   1205\u001B[0m myfprime \u001B[38;5;241m=\u001B[39m sf\u001B[38;5;241m.\u001B[39mgrad\n",
      "File \u001B[0;32m~/opt/anaconda3/envs/ThereWillBeBeeps/lib/python3.8/site-packages/scipy/optimize/optimize.py:261\u001B[0m, in \u001B[0;36m_prepare_scalar_function\u001B[0;34m(fun, x0, jac, args, bounds, epsilon, finite_diff_rel_step, hess)\u001B[0m\n\u001B[1;32m    257\u001B[0m     bounds \u001B[38;5;241m=\u001B[39m (\u001B[38;5;241m-\u001B[39mnp\u001B[38;5;241m.\u001B[39minf, np\u001B[38;5;241m.\u001B[39minf)\n\u001B[1;32m    259\u001B[0m \u001B[38;5;66;03m# ScalarFunction caches. Reuse of fun(x) during grad\u001B[39;00m\n\u001B[1;32m    260\u001B[0m \u001B[38;5;66;03m# calculation reduces overall function evaluations.\u001B[39;00m\n\u001B[0;32m--> 261\u001B[0m sf \u001B[38;5;241m=\u001B[39m \u001B[43mScalarFunction\u001B[49m\u001B[43m(\u001B[49m\u001B[43mfun\u001B[49m\u001B[43m,\u001B[49m\u001B[43m \u001B[49m\u001B[43mx0\u001B[49m\u001B[43m,\u001B[49m\u001B[43m \u001B[49m\u001B[43margs\u001B[49m\u001B[43m,\u001B[49m\u001B[43m \u001B[49m\u001B[43mgrad\u001B[49m\u001B[43m,\u001B[49m\u001B[43m \u001B[49m\u001B[43mhess\u001B[49m\u001B[43m,\u001B[49m\n\u001B[1;32m    262\u001B[0m \u001B[43m                    \u001B[49m\u001B[43mfinite_diff_rel_step\u001B[49m\u001B[43m,\u001B[49m\u001B[43m \u001B[49m\u001B[43mbounds\u001B[49m\u001B[43m,\u001B[49m\u001B[43m \u001B[49m\u001B[43mepsilon\u001B[49m\u001B[38;5;241;43m=\u001B[39;49m\u001B[43mepsilon\u001B[49m\u001B[43m)\u001B[49m\n\u001B[1;32m    264\u001B[0m \u001B[38;5;28;01mreturn\u001B[39;00m sf\n",
      "File \u001B[0;32m~/opt/anaconda3/envs/ThereWillBeBeeps/lib/python3.8/site-packages/scipy/optimize/_differentiable_functions.py:140\u001B[0m, in \u001B[0;36mScalarFunction.__init__\u001B[0;34m(self, fun, x0, args, grad, hess, finite_diff_rel_step, finite_diff_bounds, epsilon)\u001B[0m\n\u001B[1;32m    137\u001B[0m     \u001B[38;5;28mself\u001B[39m\u001B[38;5;241m.\u001B[39mf \u001B[38;5;241m=\u001B[39m fun_wrapped(\u001B[38;5;28mself\u001B[39m\u001B[38;5;241m.\u001B[39mx)\n\u001B[1;32m    139\u001B[0m \u001B[38;5;28mself\u001B[39m\u001B[38;5;241m.\u001B[39m_update_fun_impl \u001B[38;5;241m=\u001B[39m update_fun\n\u001B[0;32m--> 140\u001B[0m \u001B[38;5;28;43mself\u001B[39;49m\u001B[38;5;241;43m.\u001B[39;49m\u001B[43m_update_fun\u001B[49m\u001B[43m(\u001B[49m\u001B[43m)\u001B[49m\n\u001B[1;32m    142\u001B[0m \u001B[38;5;66;03m# Gradient evaluation\u001B[39;00m\n\u001B[1;32m    143\u001B[0m \u001B[38;5;28;01mif\u001B[39;00m \u001B[38;5;28mcallable\u001B[39m(grad):\n",
      "File \u001B[0;32m~/opt/anaconda3/envs/ThereWillBeBeeps/lib/python3.8/site-packages/scipy/optimize/_differentiable_functions.py:233\u001B[0m, in \u001B[0;36mScalarFunction._update_fun\u001B[0;34m(self)\u001B[0m\n\u001B[1;32m    231\u001B[0m \u001B[38;5;28;01mdef\u001B[39;00m \u001B[38;5;21m_update_fun\u001B[39m(\u001B[38;5;28mself\u001B[39m):\n\u001B[1;32m    232\u001B[0m     \u001B[38;5;28;01mif\u001B[39;00m \u001B[38;5;129;01mnot\u001B[39;00m \u001B[38;5;28mself\u001B[39m\u001B[38;5;241m.\u001B[39mf_updated:\n\u001B[0;32m--> 233\u001B[0m         \u001B[38;5;28;43mself\u001B[39;49m\u001B[38;5;241;43m.\u001B[39;49m\u001B[43m_update_fun_impl\u001B[49m\u001B[43m(\u001B[49m\u001B[43m)\u001B[49m\n\u001B[1;32m    234\u001B[0m         \u001B[38;5;28mself\u001B[39m\u001B[38;5;241m.\u001B[39mf_updated \u001B[38;5;241m=\u001B[39m \u001B[38;5;28;01mTrue\u001B[39;00m\n",
      "File \u001B[0;32m~/opt/anaconda3/envs/ThereWillBeBeeps/lib/python3.8/site-packages/scipy/optimize/_differentiable_functions.py:137\u001B[0m, in \u001B[0;36mScalarFunction.__init__.<locals>.update_fun\u001B[0;34m()\u001B[0m\n\u001B[1;32m    136\u001B[0m \u001B[38;5;28;01mdef\u001B[39;00m \u001B[38;5;21mupdate_fun\u001B[39m():\n\u001B[0;32m--> 137\u001B[0m     \u001B[38;5;28mself\u001B[39m\u001B[38;5;241m.\u001B[39mf \u001B[38;5;241m=\u001B[39m \u001B[43mfun_wrapped\u001B[49m\u001B[43m(\u001B[49m\u001B[38;5;28;43mself\u001B[39;49m\u001B[38;5;241;43m.\u001B[39;49m\u001B[43mx\u001B[49m\u001B[43m)\u001B[49m\n",
      "File \u001B[0;32m~/opt/anaconda3/envs/ThereWillBeBeeps/lib/python3.8/site-packages/scipy/optimize/_differentiable_functions.py:134\u001B[0m, in \u001B[0;36mScalarFunction.__init__.<locals>.fun_wrapped\u001B[0;34m(x)\u001B[0m\n\u001B[1;32m    130\u001B[0m \u001B[38;5;28mself\u001B[39m\u001B[38;5;241m.\u001B[39mnfev \u001B[38;5;241m+\u001B[39m\u001B[38;5;241m=\u001B[39m \u001B[38;5;241m1\u001B[39m\n\u001B[1;32m    131\u001B[0m \u001B[38;5;66;03m# Send a copy because the user may overwrite it.\u001B[39;00m\n\u001B[1;32m    132\u001B[0m \u001B[38;5;66;03m# Overwriting results in undefined behaviour because\u001B[39;00m\n\u001B[1;32m    133\u001B[0m \u001B[38;5;66;03m# fun(self.x) will change self.x, with the two no longer linked.\u001B[39;00m\n\u001B[0;32m--> 134\u001B[0m \u001B[38;5;28;01mreturn\u001B[39;00m \u001B[43mfun\u001B[49m\u001B[43m(\u001B[49m\u001B[43mnp\u001B[49m\u001B[38;5;241;43m.\u001B[39;49m\u001B[43mcopy\u001B[49m\u001B[43m(\u001B[49m\u001B[43mx\u001B[49m\u001B[43m)\u001B[49m\u001B[43m,\u001B[49m\u001B[43m \u001B[49m\u001B[38;5;241;43m*\u001B[39;49m\u001B[43margs\u001B[49m\u001B[43m)\u001B[49m\n",
      "File \u001B[0;32m~/opt/anaconda3/envs/ThereWillBeBeeps/lib/python3.8/site-packages/statsmodels/base/model.py:531\u001B[0m, in \u001B[0;36mLikelihoodModel.fit.<locals>.f\u001B[0;34m(params, *args)\u001B[0m\n\u001B[1;32m    530\u001B[0m \u001B[38;5;28;01mdef\u001B[39;00m \u001B[38;5;21mf\u001B[39m(params, \u001B[38;5;241m*\u001B[39margs):\n\u001B[0;32m--> 531\u001B[0m     \u001B[38;5;28;01mreturn\u001B[39;00m \u001B[38;5;241m-\u001B[39m\u001B[38;5;28;43mself\u001B[39;49m\u001B[38;5;241;43m.\u001B[39;49m\u001B[43mloglike\u001B[49m\u001B[43m(\u001B[49m\u001B[43mparams\u001B[49m\u001B[43m,\u001B[49m\u001B[43m \u001B[49m\u001B[38;5;241;43m*\u001B[39;49m\u001B[43margs\u001B[49m\u001B[43m)\u001B[49m \u001B[38;5;241m/\u001B[39m nobs\n",
      "File \u001B[0;32m~/opt/anaconda3/envs/ThereWillBeBeeps/lib/python3.8/site-packages/statsmodels/regression/mixed_linear_model.py:1498\u001B[0m, in \u001B[0;36mMixedLM.loglike\u001B[0;34m(self, params, profile_fe)\u001B[0m\n\u001B[1;32m   1496\u001B[0m \u001B[38;5;66;03m# Move to the profile set\u001B[39;00m\n\u001B[1;32m   1497\u001B[0m \u001B[38;5;28;01mif\u001B[39;00m profile_fe:\n\u001B[0;32m-> 1498\u001B[0m     fe_params, sing \u001B[38;5;241m=\u001B[39m \u001B[38;5;28;43mself\u001B[39;49m\u001B[38;5;241;43m.\u001B[39;49m\u001B[43mget_fe_params\u001B[49m\u001B[43m(\u001B[49m\u001B[43mcov_re\u001B[49m\u001B[43m,\u001B[49m\u001B[43m \u001B[49m\u001B[43mvcomp\u001B[49m\u001B[43m)\u001B[49m\n\u001B[1;32m   1499\u001B[0m     \u001B[38;5;28;01mif\u001B[39;00m sing:\n\u001B[1;32m   1500\u001B[0m         \u001B[38;5;28mself\u001B[39m\u001B[38;5;241m.\u001B[39m_cov_sing \u001B[38;5;241m+\u001B[39m\u001B[38;5;241m=\u001B[39m \u001B[38;5;241m1\u001B[39m\n",
      "File \u001B[0;32m~/opt/anaconda3/envs/ThereWillBeBeeps/lib/python3.8/site-packages/statsmodels/regression/mixed_linear_model.py:1345\u001B[0m, in \u001B[0;36mMixedLM.get_fe_params\u001B[0;34m(self, cov_re, vcomp, tol)\u001B[0m\n\u001B[1;32m   1343\u001B[0m     fe_params \u001B[38;5;241m=\u001B[39m np\u001B[38;5;241m.\u001B[39mdot(np\u001B[38;5;241m.\u001B[39mlinalg\u001B[38;5;241m.\u001B[39mpinv(xtxy[:, \u001B[38;5;241m0\u001B[39m:\u001B[38;5;241m-\u001B[39m\u001B[38;5;241m1\u001B[39m]), xtxy[:, \u001B[38;5;241m-\u001B[39m\u001B[38;5;241m1\u001B[39m])\n\u001B[1;32m   1344\u001B[0m \u001B[38;5;28;01melse\u001B[39;00m:\n\u001B[0;32m-> 1345\u001B[0m     fe_params \u001B[38;5;241m=\u001B[39m \u001B[43mnp\u001B[49m\u001B[38;5;241;43m.\u001B[39;49m\u001B[43mlinalg\u001B[49m\u001B[38;5;241;43m.\u001B[39;49m\u001B[43msolve\u001B[49m\u001B[43m(\u001B[49m\u001B[43mxtxy\u001B[49m\u001B[43m[\u001B[49m\u001B[43m:\u001B[49m\u001B[43m,\u001B[49m\u001B[43m \u001B[49m\u001B[38;5;241;43m0\u001B[39;49m\u001B[43m:\u001B[49m\u001B[38;5;241;43m-\u001B[39;49m\u001B[38;5;241;43m1\u001B[39;49m\u001B[43m]\u001B[49m\u001B[43m,\u001B[49m\u001B[43m \u001B[49m\u001B[43mxtxy\u001B[49m\u001B[43m[\u001B[49m\u001B[43m:\u001B[49m\u001B[43m,\u001B[49m\u001B[43m \u001B[49m\u001B[38;5;241;43m-\u001B[39;49m\u001B[38;5;241;43m1\u001B[39;49m\u001B[43m]\u001B[49m\u001B[43m)\u001B[49m\n\u001B[1;32m   1347\u001B[0m \u001B[38;5;28;01mreturn\u001B[39;00m fe_params, sing\n",
      "File \u001B[0;32m<__array_function__ internals>:5\u001B[0m, in \u001B[0;36msolve\u001B[0;34m(*args, **kwargs)\u001B[0m\n",
      "File \u001B[0;32m~/opt/anaconda3/envs/ThereWillBeBeeps/lib/python3.8/site-packages/numpy/linalg/linalg.py:393\u001B[0m, in \u001B[0;36msolve\u001B[0;34m(a, b)\u001B[0m\n\u001B[1;32m    391\u001B[0m signature \u001B[38;5;241m=\u001B[39m \u001B[38;5;124m'\u001B[39m\u001B[38;5;124mDD->D\u001B[39m\u001B[38;5;124m'\u001B[39m \u001B[38;5;28;01mif\u001B[39;00m isComplexType(t) \u001B[38;5;28;01melse\u001B[39;00m \u001B[38;5;124m'\u001B[39m\u001B[38;5;124mdd->d\u001B[39m\u001B[38;5;124m'\u001B[39m\n\u001B[1;32m    392\u001B[0m extobj \u001B[38;5;241m=\u001B[39m get_linalg_error_extobj(_raise_linalgerror_singular)\n\u001B[0;32m--> 393\u001B[0m r \u001B[38;5;241m=\u001B[39m \u001B[43mgufunc\u001B[49m\u001B[43m(\u001B[49m\u001B[43ma\u001B[49m\u001B[43m,\u001B[49m\u001B[43m \u001B[49m\u001B[43mb\u001B[49m\u001B[43m,\u001B[49m\u001B[43m \u001B[49m\u001B[43msignature\u001B[49m\u001B[38;5;241;43m=\u001B[39;49m\u001B[43msignature\u001B[49m\u001B[43m,\u001B[49m\u001B[43m \u001B[49m\u001B[43mextobj\u001B[49m\u001B[38;5;241;43m=\u001B[39;49m\u001B[43mextobj\u001B[49m\u001B[43m)\u001B[49m\n\u001B[1;32m    395\u001B[0m \u001B[38;5;28;01mreturn\u001B[39;00m wrap(r\u001B[38;5;241m.\u001B[39mastype(result_t, copy\u001B[38;5;241m=\u001B[39m\u001B[38;5;28;01mFalse\u001B[39;00m))\n",
      "File \u001B[0;32m~/opt/anaconda3/envs/ThereWillBeBeeps/lib/python3.8/site-packages/numpy/linalg/linalg.py:88\u001B[0m, in \u001B[0;36m_raise_linalgerror_singular\u001B[0;34m(err, flag)\u001B[0m\n\u001B[1;32m     87\u001B[0m \u001B[38;5;28;01mdef\u001B[39;00m \u001B[38;5;21m_raise_linalgerror_singular\u001B[39m(err, flag):\n\u001B[0;32m---> 88\u001B[0m     \u001B[38;5;28;01mraise\u001B[39;00m LinAlgError(\u001B[38;5;124m\"\u001B[39m\u001B[38;5;124mSingular matrix\u001B[39m\u001B[38;5;124m\"\u001B[39m)\n",
      "\u001B[0;31mLinAlgError\u001B[0m: Singular matrix"
     ]
    }
   ],
   "source": [
    "# sort categories to set reference level\n",
    "map_task = {'Bayesian': '0_Randomized', 'Continuous': '1_Continuous', 'Cluster': '2_Cluster', '3AFC': '3_3AFC'}\n",
    "all_data['paradigm'] = all_data['paradigm'].map(map_task)\n",
    "map_pred = {'Bayesian': '0_randomized', 'none': '1_R', 'time': '2_T', 'frequency': '3_F', 'both': '4_FT', '3AFC': '5_3AFC'}\n",
    "all_data['pred'] = all_data['pred'].map(map_pred)\n",
    "\n",
    "# Fit a mixed effects model\n",
    "model = smf.mixedlm(\"mean_threshold ~ paradigm*pred*age*gmsi\", all_data, groups=all_data['participant'])\n",
    "\n",
    "# Fit model and print results\n",
    "result = model.fit()\n",
    "print(result.summary())\n",
    "\n",
    "# Predicted values\n",
    "all_data['predicted'] = result.fittedvalues\n",
    "\n",
    "# Residuals\n",
    "all_data['residuals'] = result.resid"
   ]
  }
 ],
 "metadata": {
  "kernelspec": {
   "display_name": "Python 3",
   "language": "python",
   "name": "python3"
  },
  "language_info": {
   "codemirror_mode": {
    "name": "ipython",
    "version": 2
   },
   "file_extension": ".py",
   "mimetype": "text/x-python",
   "name": "python",
   "nbconvert_exporter": "python",
   "pygments_lexer": "ipython2",
   "version": "2.7.6"
  }
 },
 "nbformat": 4,
 "nbformat_minor": 0
}
