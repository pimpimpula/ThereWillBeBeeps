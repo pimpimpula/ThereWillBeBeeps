{
 "cells": [
  {
   "cell_type": "markdown",
   "source": [
    "# Fetch catch trials data"
   ],
   "metadata": {
    "collapsed": false
   }
  },
  {
   "cell_type": "code",
   "execution_count": 1,
   "metadata": {
    "collapsed": true,
    "ExecuteTime": {
     "end_time": "2023-08-15T09:28:42.024228Z",
     "start_time": "2023-08-15T09:28:39.018636Z"
    }
   },
   "outputs": [],
   "source": [
    "import pingouin as pg\n",
    "\n",
    "import matplotlib.pyplot as plt\n",
    "\n",
    "from scripts.utils import *\n",
    "from scripts.stats import *\n",
    "from funcs.plots import Fig4p50"
   ]
  },
  {
   "cell_type": "code",
   "execution_count": 2,
   "outputs": [],
   "source": [
    "data_path = get_path('dataframes')"
   ],
   "metadata": {
    "collapsed": false,
    "ExecuteTime": {
     "end_time": "2023-08-15T09:28:42.025245Z",
     "start_time": "2023-08-15T09:28:42.024405Z"
    }
   }
  },
  {
   "cell_type": "markdown",
   "source": [
    "### Collect catch trial data from all experiments"
   ],
   "metadata": {
    "collapsed": false
   }
  },
  {
   "cell_type": "code",
   "execution_count": 3,
   "outputs": [
    {
     "name": "stdout",
     "output_type": "stream",
     "text": [
      "\n",
      "--------------- TLVJDS ---------------\n",
      "  - Cluster\n",
      "\n",
      "  -  Processing: tlvjds_Cluster_2022-05-06_11h58.32.052_1.csv\n",
      "   *** New exp file ***\n",
      "-----\n",
      "  - Continuous\n",
      "\n",
      "  -  Processing: tlvjds_Continuous_2022-05-06_11h41.50.914_1.csv\n",
      "   *** New exp file ***\n",
      "-----\n",
      "  - Bayesian\n",
      "\n",
      "  -  Processing: tlvjds_Bayesian_2022-05-06_11h12.28.510.csv\n",
      "\n",
      "--------------- NLHGLM ---------------\n",
      "  - Cluster\n",
      "\n",
      "  -  Processing: nlhglm_Cluster_2022-05-09_14h49.52.594_1.csv\n",
      "   *** New exp file ***\n",
      "-----\n",
      "  - Continuous\n",
      "\n",
      "  -  Processing: nlhglm_Continuous_2022-05-09_15h57.08.063_1.csv\n",
      "   *** Resumed exp file***\n",
      "-----\n",
      "\n",
      "  -  Processing: nlhglm_Continuous_2022-05-09_15h54.07.920_1.csv\n",
      "   *** Resumed exp file***\n",
      "-----\n",
      "\n",
      "  -  Processing: nlhglm_Continuous_2022-05-09_15h45.26.215_1.csv\n",
      "   *** New exp file ***\n",
      "-----\n",
      "  - Bayesian\n",
      "\n",
      "  -  Processing: nlhglm_Bayesian_2022-05-09_14h42.58.204.csv\n",
      "\n",
      "--------------- KLXUFM ---------------\n",
      "  - Cluster\n",
      "\n",
      "  -  Processing: klxufm_Cluster_2022-05-09_16h56.39.686_1.csv\n",
      "   *** New exp file ***\n",
      "-----\n",
      "  - Continuous\n",
      "\n",
      "  -  Processing: klxufm_Continuous_2022-05-09_17h25.11.568_1.csv\n",
      "   *** New exp file ***\n",
      "-----\n",
      "  - Bayesian\n",
      "\n",
      "  -  Processing: klxufm_Bayesian_2022-05-09_16h49.09.350.csv\n",
      "\n",
      "--------------- RDZAQD ---------------\n",
      "  - Cluster\n",
      "\n",
      "  -  Processing: rdzaqd_Cluster_2022-05-06_14h32.44.031_1.csv\n",
      "   *** New exp file ***\n",
      "-----\n",
      "  - Continuous\n",
      "\n",
      "  -  Processing: rdzaqd_Continuous_2022-05-06_15h06.45.512_1.csv\n",
      "   *** New exp file ***\n",
      "-----\n",
      "  - Bayesian\n",
      "\n",
      "  -  Processing: rdzaqd_Bayesian_2022-05-06_14h06.54.932.csv\n",
      "\n",
      "--------------- VQNUWY ---------------\n",
      "  - Cluster\n",
      "\n",
      "  -  Processing: vqnuwy_Cluster_2022-05-10_10h33.47.531_1.csv\n",
      "   *** New exp file ***\n",
      "-----\n",
      "  - Continuous\n",
      "\n",
      "  -  Processing: vqnuwy_Continuous_2022-05-10_10h19.17.781_1.csv\n",
      "   *** New exp file ***\n",
      "-----\n",
      "  - Bayesian\n",
      "\n",
      "  -  Processing: vqnuwy_Bayesian_2022-05-10_10h12.08.504.csv\n",
      "\n",
      "--------------- WFOOOA ---------------\n",
      "  - Cluster\n",
      "\n",
      "  -  Processing: wfoooa_Cluster_2022-05-04_11h35.25.053_1.csv\n",
      "   *** New exp file ***\n",
      "-----\n",
      "  - Continuous\n",
      "\n",
      "  -  Processing: wfoooa_Continuous_2022-05-04_11h19.08.860_1.csv\n",
      "   *** New exp file ***\n",
      "-----\n",
      "  - Bayesian\n",
      "\n",
      "  -  Processing: wfoooa_Bayesian_2022-05-04_10h48.31.120.csv\n",
      "\n",
      "--------------- CBTXIE ---------------\n",
      "  - Cluster\n",
      "\n",
      "  -  Processing: cbtxie_Cluster_2022-05-05_16h25.21.942_1.csv\n",
      "   *** New exp file ***\n",
      "-----\n",
      "  - Continuous\n",
      "\n",
      "  -  Processing: cbtxie_Continuous_2022-05-05_15h50.30.825_1.csv\n",
      "   *** New exp file ***\n",
      "-----\n",
      "  - Bayesian\n",
      "\n",
      "  -  Processing: cbtxie_Bayesian_2022-05-05_15h42.23.151.csv\n",
      "\n",
      "--------------- UDOETY ---------------\n",
      "  - Cluster\n",
      "\n",
      "  -  Processing: udoety_Cluster_2022-05-03_12h07.59.148_1.csv\n",
      "   *** New exp file ***\n",
      "-----\n",
      "  - Continuous\n",
      "\n",
      "  -  Processing: udoety_Continuous_2022-05-03_11h33.02.726_1.csv\n",
      "   *** New exp file ***\n",
      "-----\n",
      "  - Bayesian\n",
      "\n",
      "  -  Processing: udoety_Bayesian_2022-05-03_11h25.26.772.csv\n",
      "\n",
      "--------------- CWZOPC ---------------\n",
      "  - Cluster\n",
      "\n",
      "  -  Processing: cwzopc_Cluster_2022-07-20_11h23.46.854_1.csv\n",
      "   *** New exp file ***\n",
      "-----\n",
      "  - Continuous\n",
      "\n",
      "  -  Processing: cwzopc_Continuous_2022-07-20_10h39.46.286_1.csv\n",
      "   *** New exp file ***\n",
      "-----\n",
      "  - Bayesian\n",
      "\n",
      "  -  Processing: cwzopc_Bayesian_2022-07-20_10h32.49.698.csv\n",
      "\n",
      "--------------- OFGJWT ---------------\n",
      "  - Cluster\n",
      "\n",
      "  -  Processing: ofgjwt_Cluster_2022-04-27_16h43.45.386_1.csv\n",
      "   *** New exp file ***\n",
      "-----\n",
      "  - Continuous\n",
      "\n",
      "  -  Processing: ofgjwt_Continuous_2022-04-27_17h32.26.159_1.csv\n",
      "   *** New exp file ***\n",
      "-----\n",
      "\n",
      "  -  Processing: ofgjwt_Continuous_2022-04-27_17h26.18.186_1.csv\n",
      "   *** New exp file ***\n",
      "-----\n",
      "  - Bayesian\n",
      "\n",
      "  -  Processing: ofgjwt_Bayesian_2022-04-27_16h01.42.039.csv\n",
      "\n",
      "--------------- ERFNPG ---------------\n",
      "  - Cluster\n",
      "\n",
      "  -  Processing: erfnpg_Cluster_2022-05-10_14h57.34.806_1.csv\n",
      "   *** New exp file ***\n",
      "-----\n",
      "  - Continuous\n",
      "\n",
      "  -  Processing: erfnpg_Continuous_2022-05-10_15h18.09.142_1.csv\n",
      "   *** New exp file ***\n",
      "-----\n",
      "  - Bayesian\n",
      "\n",
      "  -  Processing: erfnpg_Bayesian_2022-05-10_14h25.34.421.csv\n",
      "\n",
      "--------------- MOIERN ---------------\n",
      "  - Cluster\n",
      "\n",
      "  -  Processing: moiern_Cluster_2022-07-08_14h07.09.994_1.csv\n",
      "   *** New exp file ***\n",
      "-----\n",
      "  - Continuous\n",
      "\n",
      "  -  Processing: moiern_Continuous_2022-07-08_14h28.56.466_1.csv\n",
      "   *** Resumed exp file***\n",
      "-----\n",
      "\n",
      "  -  Processing: moiern_Continuous_2022-07-08_14h22.59.036_1.csv\n",
      "   *** New exp file ***\n",
      "-----\n",
      "  - Bayesian\n",
      "\n",
      "  -  Processing: moiern_Bayesian_2022-07-08_13h59.30.017.csv\n",
      "\n",
      "--------------- NFSMRP ---------------\n",
      "  - Cluster\n",
      "\n",
      "  -  Processing: nfsmrp_Cluster_2022-06-21_16h44.46.818_1.csv\n",
      "   *** New exp file ***\n",
      "-----\n",
      "  - Continuous\n",
      "\n",
      "  -  Processing: nfsmrp_Continuous_2022-06-21_16h28.39.554_1.csv\n",
      "   *** New exp file ***\n",
      "-----\n",
      "\n",
      "  -  Processing: nfsmrp_Continuous_2022-06-21_16h17.30.072_1.csv\n",
      "   *** New exp file ***\n",
      "-----\n",
      "  - Bayesian\n",
      "\n",
      "  -  Processing: nfsmrp_Bayesian_2022-06-21_16h22.51.026.csv\n",
      "\n",
      "  -  Processing: nfsmrp_Bayesian_2022-06-21_16h11.11.135.csv\n",
      "\n",
      "--------------- CMZNTN ---------------\n",
      "  - Cluster\n",
      "\n",
      "  -  Processing: cmzntn_Cluster_2022-05-02_14h47.17.868_1.csv\n",
      "   *** New exp file ***\n",
      "-----\n",
      "  - Continuous\n",
      "\n",
      "  -  Processing: cmzntn_Continuous_2022-05-02_14h36.51.244_1.csv\n",
      "   *** Resumed exp file***\n",
      "-----\n",
      "\n",
      "  -  Processing: cmzntn_Continuous_2022-05-02_14h30.28.722_1.csv\n",
      "   *** New exp file ***\n",
      "-----\n",
      "  - Bayesian\n",
      "\n",
      "  -  Processing: cmzntn_Bayesian_2022-05-02_14h16.10.237.csv\n",
      "\n",
      "--------------- REGVNX ---------------\n",
      "  - Cluster\n",
      "\n",
      "  -  Processing: regvnx_Cluster_2022-04-28_15h48.55.640_1.csv\n",
      "   *** New exp file ***\n",
      "-----\n",
      "  - Continuous\n",
      "\n",
      "  -  Processing: regvnx_Continuous_2022-04-28_15h23.14.645_1.csv\n",
      "   *** New exp file ***\n",
      "-----\n",
      "  - Bayesian\n",
      "\n",
      "  -  Processing: regvnx_Bayesian_2022-04-28_14h47.25.555.csv\n",
      "\n",
      "--------------- EQDCWR ---------------\n",
      "  - Cluster\n",
      "\n",
      "  -  Processing: eqdcwr_Cluster_2022-04-21_14h24.15.215_1.csv\n",
      "   *** Resumed exp file***\n",
      "-----\n",
      "\n",
      "  -  Processing: eqdcwr_Cluster_2022-04-21_12h04.23.970_1.csv\n",
      "   *** New exp file ***\n",
      "-----\n",
      "  - Continuous\n",
      "\n",
      "  -  Processing: eqdcwr_Continuous_2022-05-24_15h17.18.728_1.csv\n",
      "   *** New exp file ***\n",
      "-----\n",
      "  - Bayesian\n",
      "\n",
      "  -  Processing: eqdcwr_Bayesian_2022-04-21_11h56.12.922.csv\n",
      "\n",
      "--------------- HNXREV ---------------\n",
      "  - Cluster\n",
      "\n",
      "  -  Processing: hnxrev_Cluster_2022-07-25_14h33.50.374_1.csv\n",
      "   *** New exp file ***\n",
      "-----\n",
      "  - Continuous\n",
      "\n",
      "  -  Processing: hnxrev_Continuous_2022-07-25_14h54.29.387_1.csv\n",
      "   *** New exp file ***\n",
      "-----\n",
      "  - Bayesian\n",
      "\n",
      "  -  Processing: hnxrev_Bayesian_2022-07-25_14h05.17.900.csv\n",
      "\n",
      "--------------- TSBVQQ ---------------\n",
      "  - Cluster\n",
      "\n",
      "  -  Processing: tsbvqq_Cluster_2022-05-04_16h54.43.372_1.csv\n",
      "   *** New exp file ***\n",
      "-----\n",
      "  - Continuous\n",
      "\n",
      "  -  Processing: tsbvqq_Continuous_2022-05-04_17h28.58.455_1.csv\n",
      "   *** New exp file ***\n",
      "-----\n",
      "  - Bayesian\n",
      "\n",
      "  -  Processing: tsbvqq_Bayesian_2022-05-04_16h24.35.959.csv\n",
      "\n",
      "--------------- WXBJQE ---------------\n",
      "  - Cluster\n",
      "\n",
      "  -  Processing: wxbjqe_Cluster_2022-05-16_17h20.40.211_1.csv\n",
      "   *** New exp file ***\n",
      "-----\n",
      "  - Continuous\n",
      "\n",
      "  -  Processing: wxbjqe_Continuous_2022-05-16_17h57.54.371_1.csv\n",
      "   *** Resumed exp file***\n",
      "-----\n",
      "\n",
      "  -  Processing: wxbjqe_Continuous_2022-05-16_17h53.52.996_1.csv\n",
      "   *** New exp file ***\n",
      "-----\n",
      "\n",
      "  -  Processing: wxbjqe_Continuous_2022-05-16_17h49.14.043_1.csv\n",
      "   *** New exp file ***\n",
      "-----\n",
      "  - Bayesian\n",
      "\n",
      "  -  Processing: wxbjqe_Bayesian_2022-05-16_17h14.12.264.csv\n",
      "\n",
      "--------------- DDMFVC ---------------\n",
      "  - Cluster\n",
      "\n",
      "  -  Processing: ddmfvc_Cluster_2022-05-05_10h34.05.823_1.csv\n",
      "   *** New exp file ***\n",
      "-----\n",
      "  - Continuous\n",
      "\n",
      "  -  Processing: ddmfvc_Continuous_2022-05-05_11h06.59.144_1.csv\n",
      "   *** New exp file ***\n",
      "-----\n",
      "\n",
      "  -  Processing: ddmfvc_Continuous_2022-05-05_11h01.12.858_1.csv\n",
      "   *** New exp file ***\n",
      "-----\n",
      "  - Bayesian\n",
      "\n",
      "  -  Processing: ddmfvc_Bayesian_2022-05-05_10h25.45.460.csv\n",
      "\n",
      "--------------- LUCTEW ---------------\n",
      "  - Cluster\n",
      "\n",
      "  -  Processing: luctew_Cluster_2022-05-12_15h03.34.149_1.csv\n",
      "   *** New exp file ***\n",
      "-----\n",
      "  - Continuous\n",
      "\n",
      "  -  Processing: luctew_Continuous_2022-05-12_14h56.18.810_1.csv\n",
      "   *** Resumed exp file***\n",
      "-----\n",
      "\n",
      "  -  Processing: luctew_Continuous_2022-05-12_14h53.49.974_1.csv\n",
      "   *** New exp file ***\n",
      "-----\n",
      "  - Bayesian\n",
      "\n",
      "  -  Processing: luctew_Bayesian_2022-05-12_14h18.55.564.csv\n",
      "\n",
      "--------------- QUICSB ---------------\n",
      "  - Cluster\n",
      "\n",
      "  -  Processing: quicsb_Cluster_2022-07-21_15h22.52.247_1.csv\n",
      "   *** New exp file ***\n",
      "-----\n",
      "  - Continuous\n",
      "\n",
      "  -  Processing: quicsb_Continuous_2022-07-21_14h56.39.686_1.csv\n",
      "   *** New exp file ***\n",
      "-----\n",
      "  - Bayesian\n",
      "\n",
      "  -  Processing: quicsb_Bayesian_2022-07-21_14h50.13.060.csv\n",
      "\n",
      "--------------- NEFYNM ---------------\n",
      "  - Cluster\n",
      "\n",
      "  -  Processing: nefynm_Cluster_2022-05-06_09h50.37.702_1.csv\n",
      "   *** New exp file ***\n",
      "-----\n",
      "  - Continuous\n",
      "\n",
      "  -  Processing: nefynm_Continuous_2022-05-06_09h33.12.972_1.csv\n",
      "   *** New exp file ***\n",
      "-----\n",
      "  - Bayesian\n",
      "\n",
      "  -  Processing: nefynm_Bayesian_2022-05-06_09h20.14.230.csv\n",
      "\n",
      "--------------- HOAVUR ---------------\n",
      "  - Cluster\n",
      "\n",
      "  -  Processing: hoavur_Cluster_2022-05-04_14h52.44.533_1.csv\n",
      "   *** New exp file ***\n",
      "-----\n",
      "  - Continuous\n",
      "\n",
      "  -  Processing: hoavur_Continuous_2022-05-04_15h53.14.005_1.csv\n",
      "   *** New exp file ***\n",
      "-----\n",
      "  - Bayesian\n",
      "\n",
      "  -  Processing: hoavur_Bayesian_2022-05-04_14h45.03.677.csv\n",
      "\n",
      "--------------- NUNAMH ---------------\n",
      "  - Cluster\n",
      "\n",
      "  -  Processing: nunamh_Cluster_2022-05-17_11h14.45.197_1.csv\n",
      "   *** New exp file ***\n",
      "-----\n",
      "  - Continuous\n",
      "\n",
      "  -  Processing: nunamh_Continuous_2022-05-17_10h36.21.712_1.csv\n",
      "   *** New exp file ***\n",
      "-----\n",
      "  - Bayesian\n",
      "\n",
      "  -  Processing: nunamh_Bayesian_2022-05-17_10h25.30.254.csv\n",
      "\n",
      "--------------- QUVSXS ---------------\n",
      "  - Cluster\n",
      "\n",
      "  -  Processing: quvsxs_Cluster_2022-05-17_12h50.04.194_1.csv\n",
      "   *** New exp file ***\n",
      "-----\n",
      "  - Continuous\n",
      "\n",
      "  -  Processing: quvsxs_Continuous_2022-05-17_13h07.04.793_1.csv\n",
      "   *** New exp file ***\n",
      "-----\n",
      "  - Bayesian\n",
      "\n",
      "  -  Processing: quvsxs_Bayesian_2022-05-17_12h15.02.246.csv\n",
      "\n",
      "--------------- QMBAMI ---------------\n",
      "  - Cluster\n",
      "\n",
      "  -  Processing: qmbami_Cluster_2022-04-27_15h01.28.884_1.csv\n",
      "   *** New exp file ***\n",
      "-----\n",
      "  - Continuous\n",
      "\n",
      "  -  Processing: qmbami_Continuous_2022-04-27_14h49.13.737_1.csv\n",
      "   *** New exp file ***\n",
      "-----\n",
      "\n",
      "  -  Processing: qmbami_Continuous_2022-04-27_14h42.41.817_1.csv\n",
      "   *** New exp file ***\n",
      "-----\n",
      "  - Bayesian\n",
      "\n",
      "  -  Processing: qmbami_Bayesian_2022-04-27_14h36.34.558.csv\n",
      "\n",
      "--------------- REHVHF ---------------\n",
      "  - Cluster\n",
      "\n",
      "  -  Processing: rehvhf_Cluster_2022-05-11_11h05.37.614_1.csv\n",
      "   *** New exp file ***\n",
      "-----\n",
      "  - Continuous\n",
      "\n",
      "  -  Processing: rehvhf_Continuous_2022-05-11_11h58.18.262_1.csv\n",
      "   *** Resumed exp file***\n",
      "-----\n",
      "\n",
      "  -  Processing: rehvhf_Continuous_2022-05-11_11h56.39.198_1.csv\n",
      "   *** New exp file ***\n",
      "-----\n",
      "  - Bayesian\n",
      "\n",
      "  -  Processing: rehvhf_Bayesian_2022-05-11_10h53.05.814.csv\n"
     ]
    }
   ],
   "source": [
    "# Get the list of participants\n",
    "participants = exclude_participants(os.listdir(get_path('raw_data')))\n",
    "\n",
    "# Define the DataFrame to hold participant data\n",
    "all_responses = pd.DataFrame()\n",
    "\n",
    "# Iterate over all participant folders\n",
    "for participant in participants:\n",
    "    print(\"\\n---------------\", participant.upper(), \"---------------\")\n",
    "\n",
    "    # Loop through the paradigms and collect data for each participant\n",
    "    for paradigm in ['Cluster', 'Continuous', 'Bayesian']:\n",
    "        print(\"  -\", paradigm)\n",
    "        paradigm_data = fetch_paradigm_raw_data(participant, paradigm, use_all_available_data=True)\n",
    "\n",
    "        if paradigm == 'Continuous':\n",
    "\n",
    "            # Shift all answers to the previous trial\n",
    "            paradigm_data['responses'] = paradigm_data['responses'].shift(-1)\n",
    "\n",
    "            # Remove last trial\n",
    "            paradigm_data = paradigm_data.drop(paradigm_data.index[-1])\n",
    "\n",
    "        all_responses = pd.concat([all_responses, paradigm_data])\n"
   ],
   "metadata": {
    "collapsed": false,
    "ExecuteTime": {
     "end_time": "2023-08-15T09:28:42.939337Z",
     "start_time": "2023-08-15T09:28:42.024504Z"
    }
   }
  },
  {
   "cell_type": "markdown",
   "source": [
    "### Do some clean-up"
   ],
   "metadata": {
    "collapsed": false
   }
  },
  {
   "cell_type": "code",
   "execution_count": 4,
   "outputs": [
    {
     "data": {
      "text/plain": "   participant paradigm       pred  isCatchTrial  responses  \\\n9       tlvjds  Cluster       both         False          1   \n10      tlvjds  Cluster       time         False          1   \n11      tlvjds  Cluster  frequency         False          1   \n12      tlvjds  Cluster       none          True          1   \n13      tlvjds  Cluster  frequency         False          1   \n\n              feedback.rt  trials.thisN  \n9      [0.32247939996887]           0.0  \n10   [0.4047361999982968]           1.0  \n11  [0.32659319997765124]           2.0  \n12   [0.1770447000162676]           3.0  \n13   [0.4016340000089258]           4.0  ",
      "text/html": "<div>\n<style scoped>\n    .dataframe tbody tr th:only-of-type {\n        vertical-align: middle;\n    }\n\n    .dataframe tbody tr th {\n        vertical-align: top;\n    }\n\n    .dataframe thead th {\n        text-align: right;\n    }\n</style>\n<table border=\"1\" class=\"dataframe\">\n  <thead>\n    <tr style=\"text-align: right;\">\n      <th></th>\n      <th>participant</th>\n      <th>paradigm</th>\n      <th>pred</th>\n      <th>isCatchTrial</th>\n      <th>responses</th>\n      <th>feedback.rt</th>\n      <th>trials.thisN</th>\n    </tr>\n  </thead>\n  <tbody>\n    <tr>\n      <th>9</th>\n      <td>tlvjds</td>\n      <td>Cluster</td>\n      <td>both</td>\n      <td>False</td>\n      <td>1</td>\n      <td>[0.32247939996887]</td>\n      <td>0.0</td>\n    </tr>\n    <tr>\n      <th>10</th>\n      <td>tlvjds</td>\n      <td>Cluster</td>\n      <td>time</td>\n      <td>False</td>\n      <td>1</td>\n      <td>[0.4047361999982968]</td>\n      <td>1.0</td>\n    </tr>\n    <tr>\n      <th>11</th>\n      <td>tlvjds</td>\n      <td>Cluster</td>\n      <td>frequency</td>\n      <td>False</td>\n      <td>1</td>\n      <td>[0.32659319997765124]</td>\n      <td>2.0</td>\n    </tr>\n    <tr>\n      <th>12</th>\n      <td>tlvjds</td>\n      <td>Cluster</td>\n      <td>none</td>\n      <td>True</td>\n      <td>1</td>\n      <td>[0.1770447000162676]</td>\n      <td>3.0</td>\n    </tr>\n    <tr>\n      <th>13</th>\n      <td>tlvjds</td>\n      <td>Cluster</td>\n      <td>frequency</td>\n      <td>False</td>\n      <td>1</td>\n      <td>[0.4016340000089258]</td>\n      <td>4.0</td>\n    </tr>\n  </tbody>\n</table>\n</div>"
     },
     "execution_count": 4,
     "metadata": {},
     "output_type": "execute_result"
    }
   ],
   "source": [
    "# Remove rows not corresponding to trials\n",
    "all_responses = all_responses[~all_responses.isCatchTrial.isnull()]\n",
    "\n",
    "# Select columns\n",
    "all_responses = all_responses[['participant', 'paradigm', 'pred',\n",
    "                               'isCatchTrial', 'responses', 'feedback.rt', 'trials.thisN']]\n",
    "\n",
    "# Fix some data format issues\n",
    "all_responses.isCatchTrial = all_responses.isCatchTrial.astype(bool)\n",
    "\n",
    "all_responses.responses = all_responses.responses.astype(object)\n",
    "all_responses['responses'] = all_responses['responses'].apply(lambda x: 0 if (x == 'None') or (pd.isnull(x)) else 1)\n",
    "\n",
    "all_responses.loc[all_responses.paradigm == 'Bayesian', 'pred'] = 'bayesian'\n",
    "\n",
    "# Display the first rows\n",
    "all_responses.head()"
   ],
   "metadata": {
    "collapsed": false,
    "ExecuteTime": {
     "end_time": "2023-08-15T09:28:42.939712Z",
     "start_time": "2023-08-15T09:28:42.939222Z"
    }
   }
  },
  {
   "cell_type": "markdown",
   "source": [
    "### Compute false alarm rates"
   ],
   "metadata": {
    "collapsed": false
   }
  },
  {
   "cell_type": "code",
   "execution_count": 5,
   "outputs": [],
   "source": [
    "def calculate_false_alarm_rate(group):\n",
    "    group['false_alarm_rate'] = group['responses'].sum() / len(group)\n",
    "    group['nCatchTrials'] = len(group)\n",
    "    return group\n",
    "\n",
    "catch_trials = all_responses[all_responses.isCatchTrial]\n",
    "\n",
    "# Add column with false alarm rates\n",
    "catch_trials = catch_trials.groupby(['participant', 'paradigm', 'pred']).apply(calculate_false_alarm_rate)\n"
   ],
   "metadata": {
    "collapsed": false,
    "ExecuteTime": {
     "end_time": "2023-08-15T09:28:42.939745Z",
     "start_time": "2023-08-15T09:28:42.939425Z"
    }
   }
  },
  {
   "cell_type": "markdown",
   "source": [
    "### Descriptive stats"
   ],
   "metadata": {
    "collapsed": false
   }
  },
  {
   "cell_type": "code",
   "execution_count": 6,
   "outputs": [
    {
     "data": {
      "text/plain": "                      count      mean       std  min       25%       50%  \\\nparadigm   pred                                                            \nBayesian   bayesian    28.0  0.017363  0.047050  0.0  0.000000  0.000000   \nCluster    both        28.0  0.138486  0.147954  0.0  0.000000  0.108187   \n           frequency   28.0  0.161256  0.186996  0.0  0.000000  0.105556   \n           none        28.0  0.159449  0.146078  0.0  0.000000  0.133929   \n           time        28.0  0.170022  0.154999  0.0  0.046875  0.154762   \nContinuous both        28.0  0.162968  0.141666  0.0  0.000000  0.142857   \n           frequency   28.0  0.092069  0.142826  0.0  0.000000  0.000000   \n           none        28.0  0.094487  0.124734  0.0  0.000000  0.000000   \n           time        28.0  0.209779  0.179157  0.0  0.000000  0.154762   \n\n                           75%       max  \nparadigm   pred                           \nBayesian   bayesian   0.000000  0.222222  \nCluster    both       0.179972  0.500000  \n           frequency  0.285714  0.600000  \n           none       0.275974  0.500000  \n           time       0.250000  0.666667  \nContinuous both       0.238095  0.500000  \n           frequency  0.166667  0.500000  \n           none       0.148810  0.428571  \n           time       0.343750  0.555556  ",
      "text/html": "<div>\n<style scoped>\n    .dataframe tbody tr th:only-of-type {\n        vertical-align: middle;\n    }\n\n    .dataframe tbody tr th {\n        vertical-align: top;\n    }\n\n    .dataframe thead th {\n        text-align: right;\n    }\n</style>\n<table border=\"1\" class=\"dataframe\">\n  <thead>\n    <tr style=\"text-align: right;\">\n      <th></th>\n      <th></th>\n      <th>count</th>\n      <th>mean</th>\n      <th>std</th>\n      <th>min</th>\n      <th>25%</th>\n      <th>50%</th>\n      <th>75%</th>\n      <th>max</th>\n    </tr>\n    <tr>\n      <th>paradigm</th>\n      <th>pred</th>\n      <th></th>\n      <th></th>\n      <th></th>\n      <th></th>\n      <th></th>\n      <th></th>\n      <th></th>\n      <th></th>\n    </tr>\n  </thead>\n  <tbody>\n    <tr>\n      <th>Bayesian</th>\n      <th>bayesian</th>\n      <td>28.0</td>\n      <td>0.017363</td>\n      <td>0.047050</td>\n      <td>0.0</td>\n      <td>0.000000</td>\n      <td>0.000000</td>\n      <td>0.000000</td>\n      <td>0.222222</td>\n    </tr>\n    <tr>\n      <th rowspan=\"4\" valign=\"top\">Cluster</th>\n      <th>both</th>\n      <td>28.0</td>\n      <td>0.138486</td>\n      <td>0.147954</td>\n      <td>0.0</td>\n      <td>0.000000</td>\n      <td>0.108187</td>\n      <td>0.179972</td>\n      <td>0.500000</td>\n    </tr>\n    <tr>\n      <th>frequency</th>\n      <td>28.0</td>\n      <td>0.161256</td>\n      <td>0.186996</td>\n      <td>0.0</td>\n      <td>0.000000</td>\n      <td>0.105556</td>\n      <td>0.285714</td>\n      <td>0.600000</td>\n    </tr>\n    <tr>\n      <th>none</th>\n      <td>28.0</td>\n      <td>0.159449</td>\n      <td>0.146078</td>\n      <td>0.0</td>\n      <td>0.000000</td>\n      <td>0.133929</td>\n      <td>0.275974</td>\n      <td>0.500000</td>\n    </tr>\n    <tr>\n      <th>time</th>\n      <td>28.0</td>\n      <td>0.170022</td>\n      <td>0.154999</td>\n      <td>0.0</td>\n      <td>0.046875</td>\n      <td>0.154762</td>\n      <td>0.250000</td>\n      <td>0.666667</td>\n    </tr>\n    <tr>\n      <th rowspan=\"4\" valign=\"top\">Continuous</th>\n      <th>both</th>\n      <td>28.0</td>\n      <td>0.162968</td>\n      <td>0.141666</td>\n      <td>0.0</td>\n      <td>0.000000</td>\n      <td>0.142857</td>\n      <td>0.238095</td>\n      <td>0.500000</td>\n    </tr>\n    <tr>\n      <th>frequency</th>\n      <td>28.0</td>\n      <td>0.092069</td>\n      <td>0.142826</td>\n      <td>0.0</td>\n      <td>0.000000</td>\n      <td>0.000000</td>\n      <td>0.166667</td>\n      <td>0.500000</td>\n    </tr>\n    <tr>\n      <th>none</th>\n      <td>28.0</td>\n      <td>0.094487</td>\n      <td>0.124734</td>\n      <td>0.0</td>\n      <td>0.000000</td>\n      <td>0.000000</td>\n      <td>0.148810</td>\n      <td>0.428571</td>\n    </tr>\n    <tr>\n      <th>time</th>\n      <td>28.0</td>\n      <td>0.209779</td>\n      <td>0.179157</td>\n      <td>0.0</td>\n      <td>0.000000</td>\n      <td>0.154762</td>\n      <td>0.343750</td>\n      <td>0.555556</td>\n    </tr>\n  </tbody>\n</table>\n</div>"
     },
     "execution_count": 6,
     "metadata": {},
     "output_type": "execute_result"
    }
   ],
   "source": [
    "FAR = catch_trials[['participant', 'paradigm', 'pred', 'false_alarm_rate']].drop_duplicates()\n",
    "\n",
    "FAR.groupby(['paradigm', 'pred']).false_alarm_rate.describe()"
   ],
   "metadata": {
    "collapsed": false,
    "ExecuteTime": {
     "end_time": "2023-08-15T09:28:42.939803Z",
     "start_time": "2023-08-15T09:28:42.939451Z"
    }
   }
  },
  {
   "cell_type": "markdown",
   "source": [
    "### Save catch trial data and false alarm rates"
   ],
   "metadata": {
    "collapsed": false
   }
  },
  {
   "cell_type": "code",
   "execution_count": 7,
   "outputs": [],
   "source": [
    "catch_trials.to_pickle(os.path.join(data_path, 'catch_trials.pkl'))\n",
    "FAR.to_pickle(os.path.join(data_path, 'false_alarm_rates.pkl'))"
   ],
   "metadata": {
    "collapsed": false,
    "ExecuteTime": {
     "end_time": "2023-08-15T09:28:42.939829Z",
     "start_time": "2023-08-15T09:28:42.939506Z"
    }
   }
  },
  {
   "cell_type": "markdown",
   "source": [
    "### Fig4C - False Alarm Rate Barplot"
   ],
   "metadata": {
    "collapsed": false
   }
  },
  {
   "cell_type": "code",
   "execution_count": 8,
   "outputs": [
    {
     "data": {
      "text/plain": "<Figure size 700x533 with 1 Axes>",
      "image/png": "[encoded data removed]"
     },
     "metadata": {},
     "output_type": "display_data"
    }
   ],
   "source": [
    "fig = Fig4p50().catch_trials_barplot(FAR)\n",
    "plt.savefig(os.path.join(get_path('figures'), 'Fig4C-catch_trial_barplot.svg'))"
   ],
   "metadata": {
    "collapsed": false,
    "ExecuteTime": {
     "end_time": "2023-08-15T09:28:43.250292Z",
     "start_time": "2023-08-15T09:28:42.939527Z"
    }
   }
  },
  {
   "cell_type": "markdown",
   "source": [
    "### ANOVA on the False Alarm Rates"
   ],
   "metadata": {
    "collapsed": false
   }
  },
  {
   "cell_type": "code",
   "execution_count": 9,
   "outputs": [],
   "source": [
    "stats_params = StatsParams()"
   ],
   "metadata": {
    "collapsed": false,
    "ExecuteTime": {
     "end_time": "2023-08-15T09:28:43.278100Z",
     "start_time": "2023-08-15T09:28:42.973723Z"
    }
   }
  },
  {
   "cell_type": "code",
   "execution_count": 14,
   "outputs": [
    {
     "name": "stdout",
     "output_type": "stream",
     "text": [
      "28\n",
      "0\n",
      "One-way ANOVA on the false_alarm_rate (factor: condition):\n",
      "condition: F(8, 216) = 5.78, p = <0.001     *\n",
      "\n"
     ]
    }
   ],
   "source": [
    "# Treat each condition as a separate group\n",
    "FAR['condition'] = FAR['paradigm'] + FAR['pred'].apply(lambda x: '' if x == 'bayesian' else '/' + translate_conditions(x))\n",
    "\n",
    "# run one-way ANOVA\n",
    "aov_results = pg.rm_anova(data=FAR, dv='false_alarm_rate',\n",
    "                          within='condition', subject='participant')\n",
    "\n",
    "StatsFormatter().print_1way_anova(StatsFormatter, aov_results, var='false_alarm_rate', factor='condition')"
   ],
   "metadata": {
    "collapsed": false,
    "ExecuteTime": {
     "end_time": "2023-08-15T09:32:05.047478Z",
     "start_time": "2023-08-15T09:32:04.992329Z"
    }
   }
  },
  {
   "cell_type": "code",
   "execution_count": 11,
   "outputs": [
    {
     "name": "stdout",
     "output_type": "stream",
     "text": [
      "Post-hoc tests (paired t-tests):\n",
      "condition / Bayesian vs Cluster/F: T(27) = -3.84, p = <0.001 (fdr_bh: 0.004)     *\n",
      "condition / Bayesian vs Cluster/FT: T(27) = -4.21, p = <0.001 (fdr_bh: 0.002)     *\n",
      "condition / Bayesian vs Cluster/R: T(27) = -5.00, p = <0.001 (fdr_bh: <0.001)     *\n",
      "condition / Bayesian vs Cluster/T: T(27) = -5.02, p = <0.001 (fdr_bh: <0.001)     *\n",
      "condition / Bayesian vs Continuous/F: T(27) = -2.58, p = 0.016 (fdr_bh: 0.047)     *\n",
      "condition / Bayesian vs Continuous/FT: T(27) = -5.13, p = <0.001 (fdr_bh: <0.001)     *\n",
      "condition / Bayesian vs Continuous/R: T(27) = -3.15, p = 0.004 (fdr_bh: 0.018)     *\n",
      "condition / Bayesian vs Continuous/T: T(27) = -5.56, p = <0.001 (fdr_bh: <0.001)     *\n",
      "condition / Cluster/F vs Cluster/FT: T(27) = 0.56, p = 0.578 (fdr_bh: 0.717)\n",
      "condition / Cluster/F vs Cluster/R: T(27) = 0.05, p = 0.957 (fdr_bh: 0.967)\n",
      "condition / Cluster/F vs Cluster/T: T(27) = -0.24, p = 0.812 (fdr_bh: 0.941)\n",
      "condition / Cluster/F vs Continuous/F: T(27) = 1.64, p = 0.113 (fdr_bh: 0.214)\n",
      "condition / Cluster/F vs Continuous/FT: T(27) = -0.04, p = 0.967 (fdr_bh: 0.967)\n",
      "condition / Cluster/F vs Continuous/R: T(27) = 1.76, p = 0.091 (fdr_bh: 0.192)\n",
      "condition / Cluster/F vs Continuous/T: T(27) = -1.02, p = 0.318 (fdr_bh: 0.445)\n",
      "condition / Cluster/FT vs Cluster/R: T(27) = -0.71, p = 0.484 (fdr_bh: 0.622)\n",
      "condition / Cluster/FT vs Cluster/T: T(27) = -1.10, p = 0.283 (fdr_bh: 0.424)\n",
      "condition / Cluster/FT vs Continuous/F: T(27) = 1.40, p = 0.173 (fdr_bh: 0.296)\n",
      "condition / Cluster/FT vs Continuous/FT: T(27) = -0.84, p = 0.406 (fdr_bh: 0.542)\n",
      "condition / Cluster/FT vs Continuous/R: T(27) = 1.36, p = 0.185 (fdr_bh: 0.302)\n",
      "condition / Cluster/FT vs Continuous/T: T(27) = -2.30, p = 0.029 (fdr_bh: 0.070)\n",
      "condition / Cluster/R vs Cluster/T: T(27) = -0.32, p = 0.753 (fdr_bh: 0.904)\n",
      "condition / Cluster/R vs Continuous/F: T(27) = 1.68, p = 0.104 (fdr_bh: 0.207)\n",
      "condition / Cluster/R vs Continuous/FT: T(27) = -0.10, p = 0.925 (fdr_bh: 0.967)\n",
      "condition / Cluster/R vs Continuous/R: T(27) = 2.00, p = 0.056 (fdr_bh: 0.125)\n",
      "condition / Cluster/R vs Continuous/T: T(27) = -1.28, p = 0.211 (fdr_bh: 0.331)\n",
      "condition / Cluster/T vs Continuous/F: T(27) = 2.71, p = 0.011 (fdr_bh: 0.038)     *\n",
      "condition / Cluster/T vs Continuous/FT: T(27) = 0.21, p = 0.836 (fdr_bh: 0.941)\n",
      "condition / Cluster/T vs Continuous/R: T(27) = 2.42, p = 0.023 (fdr_bh: 0.058)\n",
      "condition / Cluster/T vs Continuous/T: T(27) = -1.01, p = 0.321 (fdr_bh: 0.445)\n",
      "condition / Continuous/F vs Continuous/FT: T(27) = -2.49, p = 0.019 (fdr_bh: 0.054)\n",
      "condition / Continuous/F vs Continuous/R: T(27) = -0.15, p = 0.885 (fdr_bh: 0.965)\n",
      "condition / Continuous/F vs Continuous/T: T(27) = -3.07, p = 0.005 (fdr_bh: 0.019)     *\n",
      "condition / Continuous/FT vs Continuous/R: T(27) = 2.97, p = 0.006 (fdr_bh: 0.022)     *\n",
      "condition / Continuous/FT vs Continuous/T: T(27) = -1.54, p = 0.134 (fdr_bh: 0.242)\n",
      "condition / Continuous/R vs Continuous/T: T(27) = -3.22, p = 0.003 (fdr_bh: 0.017)     *\n",
      "\n"
     ]
    }
   ],
   "source": [
    "# post-hoc paired T-tests\n",
    "pairwise_results = pg.pairwise_tests(data=FAR,\n",
    "                                     dv='false_alarm_rate',\n",
    "                                     within='condition',\n",
    "                                     subject='participant',\n",
    "                                     alternative='two-sided',\n",
    "                                     padjust=StatsParams.mult_comp)\n",
    "\n",
    "# Display post-hoc results\n",
    "StatsFormatter().print_paired_ttest_posthocs(pairwise_results)"
   ],
   "metadata": {
    "collapsed": false,
    "ExecuteTime": {
     "end_time": "2023-08-15T09:28:43.278891Z",
     "start_time": "2023-08-15T09:28:43.228735Z"
    }
   }
  },
  {
   "cell_type": "code",
   "execution_count": 12,
   "outputs": [
    {
     "name": "stdout",
     "output_type": "stream",
     "text": [
      "Two-way ANOVA (paradigm, pred) on the false_alarm_rate: \n",
      "\n",
      "Source                   F        ddof1  ddof2   p-unc    sig\n",
      "paradigm                 0.54      1      27     0.468     \n",
      "pred                     3.41      3      81     0.021     *\n",
      "paradigm * pred          3.35      3      81     0.023     *\n",
      "\n"
     ]
    }
   ],
   "source": [
    "aov_results = pg.rm_anova(data=FAR.loc[FAR.paradigm.isin(['Continuous', 'Cluster'])], dv='false_alarm_rate',\n",
    "                          within=['paradigm', 'pred'], subject='participant')\n",
    "\n",
    "StatsFormatter().print_2way_anova(StatsFormatter, aov_results, var='false_alarm_rate', factors=['paradigm', 'pred'])"
   ],
   "metadata": {
    "collapsed": false,
    "ExecuteTime": {
     "end_time": "2023-08-15T09:28:43.278939Z",
     "start_time": "2023-08-15T09:28:43.228771Z"
    }
   }
  },
  {
   "cell_type": "code",
   "execution_count": 13,
   "outputs": [
    {
     "name": "stdout",
     "output_type": "stream",
     "text": [
      "Post-hoc tests (paired t-tests):\n",
      "paradigm / Cluster vs Continuous: T(27) = 0.74, p = 0.468 (fdr_bh: nan)\n",
      "pred / both vs frequency: T(27) = 0.94, p = 0.357 (fdr_bh: 0.428)\n",
      "pred / both vs none: T(27) = 1.09, p = 0.287 (fdr_bh: 0.428)\n",
      "pred / both vs time: T(27) = -2.05, p = 0.050 (fdr_bh: 0.100)\n",
      "pred / frequency vs none: T(27) = -0.02, p = 0.988 (fdr_bh: 0.988)\n",
      "pred / frequency vs time: T(27) = -2.49, p = 0.019 (fdr_bh: 0.058)\n",
      "pred / none vs time: T(27) = -2.62, p = 0.014 (fdr_bh: 0.058)\n",
      "paradigm * pred / both vs frequency: T(27) = -0.56, p = 0.578 (fdr_bh: 0.866)\n",
      "paradigm * pred / both vs none: T(27) = -0.71, p = 0.484 (fdr_bh: 0.829)\n",
      "paradigm * pred / both vs time: T(27) = -1.10, p = 0.283 (fdr_bh: 0.566)\n",
      "paradigm * pred / frequency vs none: T(27) = 0.05, p = 0.957 (fdr_bh: 0.957)\n",
      "paradigm * pred / frequency vs time: T(27) = -0.24, p = 0.812 (fdr_bh: 0.957)\n",
      "paradigm * pred / none vs time: T(27) = -0.32, p = 0.753 (fdr_bh: 0.957)\n",
      "paradigm * pred / both vs frequency: T(27) = 2.49, p = 0.019 (fdr_bh: 0.058)\n",
      "paradigm * pred / both vs none: T(27) = 2.97, p = 0.006 (fdr_bh: 0.024)     *\n",
      "paradigm * pred / both vs time: T(27) = -1.54, p = 0.134 (fdr_bh: 0.322)\n",
      "paradigm * pred / frequency vs none: T(27) = -0.15, p = 0.885 (fdr_bh: 0.957)\n",
      "paradigm * pred / frequency vs time: T(27) = -3.07, p = 0.005 (fdr_bh: 0.024)     *\n",
      "paradigm * pred / none vs time: T(27) = -3.22, p = 0.003 (fdr_bh: 0.024)     *\n",
      "\n"
     ]
    }
   ],
   "source": [
    "# post-hoc paired T-tests\n",
    "pairwise_results = pg.pairwise_tests(data=FAR.loc[FAR.paradigm.isin(['Continuous', 'Cluster'])],\n",
    "                                     dv='false_alarm_rate',\n",
    "                                     within=['paradigm', 'pred'],\n",
    "                                     subject='participant',\n",
    "                                     alternative='two-sided',\n",
    "                                     padjust=StatsParams.mult_comp)\n",
    "\n",
    "# Display post-hoc results\n",
    "StatsFormatter().print_paired_ttest_posthocs(pairwise_results)"
   ],
   "metadata": {
    "collapsed": false,
    "ExecuteTime": {
     "end_time": "2023-08-15T09:28:43.278991Z",
     "start_time": "2023-08-15T09:28:43.228800Z"
    }
   }
  },
  {
   "cell_type": "code",
   "execution_count": 16,
   "outputs": [
    {
     "name": "stdout",
     "output_type": "stream",
     "text": [
      "One-way ANOVA on the false_alarm_rate (factor: pred):\n",
      "pred: F(3, 81) = 0.31, p = 0.818\n",
      "\n"
     ]
    }
   ],
   "source": [
    "# run one-way ANOVA\n",
    "aov_results = pg.rm_anova(data=FAR.loc[FAR.paradigm == 'Cluster'], dv='false_alarm_rate',\n",
    "                          within='pred', subject='participant')\n",
    "\n",
    "StatsFormatter().print_1way_anova(StatsFormatter, aov_results, var='false_alarm_rate', factor='pred')"
   ],
   "metadata": {
    "collapsed": false,
    "ExecuteTime": {
     "end_time": "2023-08-15T09:52:33.148951Z",
     "start_time": "2023-08-15T09:52:33.128489Z"
    }
   }
  }
 ],
 "metadata": {
  "kernelspec": {
   "display_name": "Python 3",
   "language": "python",
   "name": "python3"
  },
  "language_info": {
   "codemirror_mode": {
    "name": "ipython",
    "version": 2
   },
   "file_extension": ".py",
   "mimetype": "text/x-python",
   "name": "python",
   "nbconvert_exporter": "python",
   "pygments_lexer": "ipython2",
   "version": "2.7.6"
  }
 },
 "nbformat": 4,
 "nbformat_minor": 0
}
