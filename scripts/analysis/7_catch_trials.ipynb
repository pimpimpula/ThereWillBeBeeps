{
 "cells": [
  {
   "cell_type": "markdown",
   "source": [
    "# Fetch catch trials data"
   ],
   "metadata": {
    "collapsed": false
   }
  },
  {
   "cell_type": "code",
   "execution_count": 1,
   "metadata": {
    "collapsed": true,
    "ExecuteTime": {
     "end_time": "2023-07-27T02:07:46.262309Z",
     "start_time": "2023-07-27T02:07:42.781863Z"
    }
   },
   "outputs": [],
   "source": [
    "import pingouin as pg\n",
    "\n",
    "import matplotlib.pyplot as plt\n",
    "\n",
    "from scripts.utils import *\n",
    "from scripts.stats import *\n",
    "from funcs.plots import Fig4p50"
   ]
  },
  {
   "cell_type": "code",
   "execution_count": 2,
   "outputs": [],
   "source": [
    "data_path = get_path('dataframes')"
   ],
   "metadata": {
    "collapsed": false,
    "ExecuteTime": {
     "end_time": "2023-07-27T02:07:46.264854Z",
     "start_time": "2023-07-27T02:07:46.263489Z"
    }
   }
  },
  {
   "cell_type": "markdown",
   "source": [
    "### Collect catch trial data from all experiments"
   ],
   "metadata": {
    "collapsed": false
   }
  },
  {
   "cell_type": "code",
   "execution_count": 3,
   "outputs": [
    {
     "name": "stdout",
     "output_type": "stream",
     "text": [
      "\n",
      "--------------- TLVJDS ---------------\n",
      "  - Cluster\n",
      "tlvjds_Cluster_2022-05-06_11h58.32.052_1.csv\n",
      "New exp file\n",
      "\n",
      "  - Continuous\n",
      "tlvjds_Continuous_2022-05-06_11h41.50.914_1.csv\n",
      "New exp file\n",
      "\n",
      "  - Bayesian\n",
      "tlvjds_Bayesian_2022-05-06_11h12.28.510.csv\n",
      "\n",
      "--------------- NLHGLM ---------------\n",
      "  - Cluster\n",
      "nlhglm_Cluster_2022-05-09_14h49.52.594_1.csv\n",
      "New exp file\n",
      "\n",
      "  - Continuous\n",
      "nlhglm_Continuous_2022-05-09_15h57.08.063_1.csv\n",
      "Resumed exp file\n",
      "\n",
      "nlhglm_Continuous_2022-05-09_15h54.07.920_1.csv\n",
      "Resumed exp file\n",
      "\n",
      "nlhglm_Continuous_2022-05-09_15h45.26.215_1.csv\n",
      "New exp file\n",
      "\n",
      "  - Bayesian\n",
      "nlhglm_Bayesian_2022-05-09_14h42.58.204.csv\n",
      "\n",
      "--------------- KLXUFM ---------------\n",
      "  - Cluster\n",
      "klxufm_Cluster_2022-05-09_16h56.39.686_1.csv\n",
      "New exp file\n",
      "\n",
      "  - Continuous\n",
      "klxufm_Continuous_2022-05-09_17h25.11.568_1.csv\n",
      "New exp file\n",
      "\n",
      "  - Bayesian\n",
      "klxufm_Bayesian_2022-05-09_16h49.09.350.csv\n",
      "\n",
      "--------------- RDZAQD ---------------\n",
      "  - Cluster\n",
      "rdzaqd_Cluster_2022-05-06_14h32.44.031_1.csv\n",
      "New exp file\n",
      "\n",
      "  - Continuous\n",
      "rdzaqd_Continuous_2022-05-06_15h06.45.512_1.csv\n",
      "New exp file\n",
      "\n",
      "  - Bayesian\n",
      "rdzaqd_Bayesian_2022-05-06_14h06.54.932.csv\n",
      "\n",
      "--------------- VQNUWY ---------------\n",
      "  - Cluster\n",
      "vqnuwy_Cluster_2022-05-10_10h33.47.531_1.csv\n",
      "New exp file\n",
      "\n",
      "  - Continuous\n",
      "vqnuwy_Continuous_2022-05-10_10h19.17.781_1.csv\n",
      "New exp file\n",
      "\n",
      "  - Bayesian\n",
      "vqnuwy_Bayesian_2022-05-10_10h12.08.504.csv\n",
      "\n",
      "--------------- WFOOOA ---------------\n",
      "  - Cluster\n",
      "wfoooa_Cluster_2022-05-04_11h35.25.053_1.csv\n",
      "New exp file\n",
      "\n",
      "  - Continuous\n",
      "wfoooa_Continuous_2022-05-04_11h19.08.860_1.csv\n",
      "New exp file\n",
      "\n",
      "  - Bayesian\n",
      "wfoooa_Bayesian_2022-05-04_10h48.31.120.csv\n",
      "\n",
      "--------------- CBTXIE ---------------\n",
      "  - Cluster\n",
      "cbtxie_Cluster_2022-05-05_16h25.21.942_1.csv\n",
      "New exp file\n",
      "\n",
      "  - Continuous\n",
      "cbtxie_Continuous_2022-05-05_15h50.30.825_1.csv\n",
      "New exp file\n",
      "\n",
      "  - Bayesian\n",
      "cbtxie_Bayesian_2022-05-05_15h42.23.151.csv\n",
      "\n",
      "--------------- UDOETY ---------------\n",
      "  - Cluster\n",
      "udoety_Cluster_2022-05-03_12h07.59.148_1.csv\n",
      "New exp file\n",
      "\n",
      "  - Continuous\n",
      "udoety_Continuous_2022-05-03_11h33.02.726_1.csv\n",
      "New exp file\n",
      "\n",
      "  - Bayesian\n",
      "udoety_Bayesian_2022-05-03_11h25.26.772.csv\n",
      "\n",
      "--------------- CWZOPC ---------------\n",
      "  - Cluster\n",
      "cwzopc_Cluster_2022-07-20_11h23.46.854_1.csv\n",
      "New exp file\n",
      "\n",
      "  - Continuous\n",
      "cwzopc_Continuous_2022-07-20_10h39.46.286_1.csv\n",
      "New exp file\n",
      "\n",
      "  - Bayesian\n",
      "cwzopc_Bayesian_2022-07-20_10h32.49.698.csv\n",
      "\n",
      "--------------- OFGJWT ---------------\n",
      "  - Cluster\n",
      "ofgjwt_Cluster_2022-04-27_16h43.45.386_1.csv\n",
      "New exp file\n",
      "\n",
      "  - Continuous\n",
      "ofgjwt_Continuous_2022-04-27_17h32.26.159_1.csv\n",
      "New exp file\n",
      "\n",
      "  - Bayesian\n",
      "ofgjwt_Bayesian_2022-04-27_16h01.42.039.csv\n",
      "\n",
      "--------------- ERFNPG ---------------\n",
      "  - Cluster\n",
      "erfnpg_Cluster_2022-05-10_14h57.34.806_1.csv\n",
      "New exp file\n",
      "\n",
      "  - Continuous\n",
      "erfnpg_Continuous_2022-05-10_15h18.09.142_1.csv\n",
      "New exp file\n",
      "\n",
      "  - Bayesian\n",
      "erfnpg_Bayesian_2022-05-10_14h25.34.421.csv\n",
      "\n",
      "--------------- MOIERN ---------------\n",
      "  - Cluster\n",
      "moiern_Cluster_2022-07-08_14h07.09.994_1.csv\n",
      "New exp file\n",
      "\n",
      "  - Continuous\n",
      "moiern_Continuous_2022-07-08_14h28.56.466_1.csv\n",
      "Resumed exp file\n",
      "\n",
      "moiern_Continuous_2022-07-08_14h22.59.036_1.csv\n",
      "New exp file\n",
      "\n",
      "  - Bayesian\n",
      "moiern_Bayesian_2022-07-08_13h59.30.017.csv\n",
      "\n",
      "--------------- NFSMRP ---------------\n",
      "  - Cluster\n",
      "nfsmrp_Cluster_2022-06-21_16h44.46.818_1.csv\n",
      "New exp file\n",
      "\n",
      "  - Continuous\n",
      "nfsmrp_Continuous_2022-06-21_16h28.39.554_1.csv\n",
      "New exp file\n",
      "\n",
      "  - Bayesian\n",
      "nfsmrp_Bayesian_2022-06-21_16h22.51.026.csv\n",
      "\n",
      "--------------- CMZNTN ---------------\n",
      "  - Cluster\n",
      "cmzntn_Cluster_2022-05-02_14h47.17.868_1.csv\n",
      "New exp file\n",
      "\n",
      "  - Continuous\n",
      "cmzntn_Continuous_2022-05-02_14h36.51.244_1.csv\n",
      "Resumed exp file\n",
      "\n",
      "cmzntn_Continuous_2022-05-02_14h30.28.722_1.csv\n",
      "New exp file\n",
      "\n",
      "  - Bayesian\n",
      "cmzntn_Bayesian_2022-05-02_14h16.10.237.csv\n",
      "\n",
      "--------------- REGVNX ---------------\n",
      "  - Cluster\n",
      "regvnx_Cluster_2022-04-28_15h48.55.640_1.csv\n",
      "New exp file\n",
      "\n",
      "  - Continuous\n",
      "regvnx_Continuous_2022-04-28_15h23.14.645_1.csv\n",
      "New exp file\n",
      "\n",
      "  - Bayesian\n",
      "regvnx_Bayesian_2022-04-28_14h47.25.555.csv\n",
      "\n",
      "--------------- EQDCWR ---------------\n",
      "  - Cluster\n",
      "eqdcwr_Cluster_2022-04-21_14h24.15.215_1.csv\n",
      "Resumed exp file\n",
      "\n",
      "eqdcwr_Cluster_2022-04-21_12h04.23.970_1.csv\n",
      "New exp file\n",
      "\n",
      "  - Continuous\n",
      "eqdcwr_Continuous_2022-05-24_15h17.18.728_1.csv\n",
      "New exp file\n",
      "\n",
      "  - Bayesian\n",
      "eqdcwr_Bayesian_2022-04-21_11h56.12.922.csv\n",
      "\n",
      "--------------- HNXREV ---------------\n",
      "  - Cluster\n",
      "hnxrev_Cluster_2022-07-25_14h33.50.374_1.csv\n",
      "New exp file\n",
      "\n",
      "  - Continuous\n",
      "hnxrev_Continuous_2022-07-25_14h54.29.387_1.csv\n",
      "New exp file\n",
      "\n",
      "  - Bayesian\n",
      "hnxrev_Bayesian_2022-07-25_14h05.17.900.csv\n",
      "\n",
      "--------------- TSBVQQ ---------------\n",
      "  - Cluster\n",
      "tsbvqq_Cluster_2022-05-04_16h54.43.372_1.csv\n",
      "New exp file\n",
      "\n",
      "  - Continuous\n",
      "tsbvqq_Continuous_2022-05-04_17h28.58.455_1.csv\n",
      "New exp file\n",
      "\n",
      "  - Bayesian\n",
      "tsbvqq_Bayesian_2022-05-04_16h24.35.959.csv\n",
      "\n",
      "--------------- WXBJQE ---------------\n",
      "  - Cluster\n",
      "wxbjqe_Cluster_2022-05-16_17h20.40.211_1.csv\n",
      "New exp file\n",
      "\n",
      "  - Continuous\n",
      "wxbjqe_Continuous_2022-05-16_17h57.54.371_1.csv\n",
      "Resumed exp file\n",
      "\n",
      "wxbjqe_Continuous_2022-05-16_17h53.52.996_1.csv\n",
      "New exp file\n",
      "\n",
      "  - Bayesian\n",
      "wxbjqe_Bayesian_2022-05-16_17h14.12.264.csv\n",
      "\n",
      "--------------- DDMFVC ---------------\n",
      "  - Cluster\n",
      "ddmfvc_Cluster_2022-05-05_10h34.05.823_1.csv\n",
      "New exp file\n",
      "\n",
      "  - Continuous\n",
      "ddmfvc_Continuous_2022-05-05_11h06.59.144_1.csv\n",
      "New exp file\n",
      "\n",
      "  - Bayesian\n",
      "ddmfvc_Bayesian_2022-05-05_10h25.45.460.csv\n",
      "\n",
      "--------------- LUCTEW ---------------\n",
      "  - Cluster\n",
      "luctew_Cluster_2022-05-12_15h03.34.149_1.csv\n",
      "New exp file\n",
      "\n",
      "  - Continuous\n",
      "luctew_Continuous_2022-05-12_14h56.18.810_1.csv\n",
      "Resumed exp file\n",
      "\n",
      "luctew_Continuous_2022-05-12_14h53.49.974_1.csv\n",
      "New exp file\n",
      "\n",
      "  - Bayesian\n",
      "luctew_Bayesian_2022-05-12_14h18.55.564.csv\n",
      "\n",
      "--------------- QUICSB ---------------\n",
      "  - Cluster\n",
      "quicsb_Cluster_2022-07-21_15h22.52.247_1.csv\n",
      "New exp file\n",
      "\n",
      "  - Continuous\n",
      "quicsb_Continuous_2022-07-21_14h56.39.686_1.csv\n",
      "New exp file\n",
      "\n",
      "  - Bayesian\n",
      "quicsb_Bayesian_2022-07-21_14h50.13.060.csv\n",
      "\n",
      "--------------- NEFYNM ---------------\n",
      "  - Cluster\n",
      "nefynm_Cluster_2022-05-06_09h50.37.702_1.csv\n",
      "New exp file\n",
      "\n",
      "  - Continuous\n",
      "nefynm_Continuous_2022-05-06_09h33.12.972_1.csv\n",
      "New exp file\n",
      "\n",
      "  - Bayesian\n",
      "nefynm_Bayesian_2022-05-06_09h20.14.230.csv\n",
      "\n",
      "--------------- HOAVUR ---------------\n",
      "  - Cluster\n",
      "hoavur_Cluster_2022-05-04_14h52.44.533_1.csv\n",
      "New exp file\n",
      "\n",
      "  - Continuous\n",
      "hoavur_Continuous_2022-05-04_15h53.14.005_1.csv\n",
      "New exp file\n",
      "\n",
      "  - Bayesian\n",
      "hoavur_Bayesian_2022-05-04_14h45.03.677.csv\n",
      "\n",
      "--------------- NUNAMH ---------------\n",
      "  - Cluster\n",
      "nunamh_Cluster_2022-05-17_11h14.45.197_1.csv\n",
      "New exp file\n",
      "\n",
      "  - Continuous\n",
      "nunamh_Continuous_2022-05-17_10h36.21.712_1.csv\n",
      "New exp file\n",
      "\n",
      "  - Bayesian\n",
      "nunamh_Bayesian_2022-05-17_10h25.30.254.csv\n",
      "\n",
      "--------------- QUVSXS ---------------\n",
      "  - Cluster\n",
      "quvsxs_Cluster_2022-05-17_12h50.04.194_1.csv\n",
      "New exp file\n",
      "\n",
      "  - Continuous\n",
      "quvsxs_Continuous_2022-05-17_13h07.04.793_1.csv\n",
      "New exp file\n",
      "\n",
      "  - Bayesian\n",
      "quvsxs_Bayesian_2022-05-17_12h15.02.246.csv\n",
      "\n",
      "--------------- QMBAMI ---------------\n",
      "  - Cluster\n",
      "qmbami_Cluster_2022-04-27_15h01.28.884_1.csv\n",
      "New exp file\n",
      "\n",
      "  - Continuous\n",
      "qmbami_Continuous_2022-04-27_14h49.13.737_1.csv\n",
      "New exp file\n",
      "\n",
      "  - Bayesian\n",
      "qmbami_Bayesian_2022-04-27_14h36.34.558.csv\n",
      "\n",
      "--------------- REHVHF ---------------\n",
      "  - Cluster\n",
      "rehvhf_Cluster_2022-05-11_11h05.37.614_1.csv\n",
      "New exp file\n",
      "\n",
      "  - Continuous\n",
      "rehvhf_Continuous_2022-05-11_11h58.18.262_1.csv\n",
      "Resumed exp file\n",
      "\n",
      "rehvhf_Continuous_2022-05-11_11h56.39.198_1.csv\n",
      "New exp file\n",
      "\n",
      "  - Bayesian\n",
      "rehvhf_Bayesian_2022-05-11_10h53.05.814.csv\n"
     ]
    }
   ],
   "source": [
    "# Get the list of participants\n",
    "participants = exclude_participants(os.listdir(get_path('raw_data')))\n",
    "\n",
    "# Define the DataFrame to hold participant data\n",
    "all_responses = pd.DataFrame()\n",
    "\n",
    "# Iterate over all participant folders\n",
    "for participant in participants:\n",
    "    print(\"\\n---------------\", participant.upper(), \"---------------\")\n",
    "\n",
    "    # Loop through the paradigms and collect data for each participant\n",
    "    for paradigm in ['Cluster', 'Continuous', 'Bayesian']:\n",
    "        print(\"  -\", paradigm)\n",
    "        paradigm_data = fetch_paradigm_raw_data(participant, paradigm)\n",
    "\n",
    "        if paradigm == 'Continuous':\n",
    "\n",
    "            # Shift all answers to the previous trial\n",
    "            paradigm_data['responses'] = paradigm_data['responses'].shift(-1)\n",
    "\n",
    "            # Remove last trial\n",
    "            paradigm_data = paradigm_data.drop(paradigm_data.index[-1])\n",
    "\n",
    "        all_responses = pd.concat([all_responses, paradigm_data])\n"
   ],
   "metadata": {
    "collapsed": false,
    "ExecuteTime": {
     "end_time": "2023-07-27T02:07:47.003544Z",
     "start_time": "2023-07-27T02:07:46.266326Z"
    }
   }
  },
  {
   "cell_type": "markdown",
   "source": [
    "### Do some clean-up"
   ],
   "metadata": {
    "collapsed": false
   }
  },
  {
   "cell_type": "code",
   "execution_count": 4,
   "outputs": [
    {
     "data": {
      "text/plain": "   participant paradigm       pred  isCatchTrial  responses  \\\n9       tlvjds  Cluster       both         False          1   \n10      tlvjds  Cluster       time         False          1   \n11      tlvjds  Cluster  frequency         False          1   \n12      tlvjds  Cluster       none          True          1   \n13      tlvjds  Cluster  frequency         False          1   \n\n              feedback.rt  trials.thisN  \n9      [0.32247939996887]           0.0  \n10   [0.4047361999982968]           1.0  \n11  [0.32659319997765124]           2.0  \n12   [0.1770447000162676]           3.0  \n13   [0.4016340000089258]           4.0  ",
      "text/html": "<div>\n<style scoped>\n    .dataframe tbody tr th:only-of-type {\n        vertical-align: middle;\n    }\n\n    .dataframe tbody tr th {\n        vertical-align: top;\n    }\n\n    .dataframe thead th {\n        text-align: right;\n    }\n</style>\n<table border=\"1\" class=\"dataframe\">\n  <thead>\n    <tr style=\"text-align: right;\">\n      <th></th>\n      <th>participant</th>\n      <th>paradigm</th>\n      <th>pred</th>\n      <th>isCatchTrial</th>\n      <th>responses</th>\n      <th>feedback.rt</th>\n      <th>trials.thisN</th>\n    </tr>\n  </thead>\n  <tbody>\n    <tr>\n      <th>9</th>\n      <td>tlvjds</td>\n      <td>Cluster</td>\n      <td>both</td>\n      <td>False</td>\n      <td>1</td>\n      <td>[0.32247939996887]</td>\n      <td>0.0</td>\n    </tr>\n    <tr>\n      <th>10</th>\n      <td>tlvjds</td>\n      <td>Cluster</td>\n      <td>time</td>\n      <td>False</td>\n      <td>1</td>\n      <td>[0.4047361999982968]</td>\n      <td>1.0</td>\n    </tr>\n    <tr>\n      <th>11</th>\n      <td>tlvjds</td>\n      <td>Cluster</td>\n      <td>frequency</td>\n      <td>False</td>\n      <td>1</td>\n      <td>[0.32659319997765124]</td>\n      <td>2.0</td>\n    </tr>\n    <tr>\n      <th>12</th>\n      <td>tlvjds</td>\n      <td>Cluster</td>\n      <td>none</td>\n      <td>True</td>\n      <td>1</td>\n      <td>[0.1770447000162676]</td>\n      <td>3.0</td>\n    </tr>\n    <tr>\n      <th>13</th>\n      <td>tlvjds</td>\n      <td>Cluster</td>\n      <td>frequency</td>\n      <td>False</td>\n      <td>1</td>\n      <td>[0.4016340000089258]</td>\n      <td>4.0</td>\n    </tr>\n  </tbody>\n</table>\n</div>"
     },
     "execution_count": 4,
     "metadata": {},
     "output_type": "execute_result"
    }
   ],
   "source": [
    "# Remove rows not corresponding to trials\n",
    "all_responses = all_responses[~all_responses.isCatchTrial.isnull()]\n",
    "\n",
    "# Select columns\n",
    "all_responses = all_responses[['participant', 'paradigm', 'pred',\n",
    "                               'isCatchTrial', 'responses', 'feedback.rt', 'trials.thisN']]\n",
    "\n",
    "# Fix some data format issues\n",
    "all_responses.isCatchTrial = all_responses.isCatchTrial.astype(bool)\n",
    "\n",
    "all_responses.responses = all_responses.responses.astype(object)\n",
    "all_responses['responses'] = all_responses['responses'].apply(lambda x: 0 if (x == 'None') or (pd.isnull(x)) else 1)\n",
    "\n",
    "all_responses.loc[all_responses.paradigm == 'Bayesian', 'pred'] = 'bayesian'\n",
    "\n",
    "# Display the first rows\n",
    "all_responses.head()"
   ],
   "metadata": {
    "collapsed": false,
    "ExecuteTime": {
     "end_time": "2023-07-27T02:07:47.034524Z",
     "start_time": "2023-07-27T02:07:47.006919Z"
    }
   }
  },
  {
   "cell_type": "markdown",
   "source": [
    "### Compute false alarm rates"
   ],
   "metadata": {
    "collapsed": false
   }
  },
  {
   "cell_type": "code",
   "execution_count": 5,
   "outputs": [],
   "source": [
    "def calculate_false_alarm_rate(group):\n",
    "    group['false_alarm_rate'] = group['responses'].sum() / len(group)\n",
    "    group['nCatchTrials'] = len(group)\n",
    "    return group\n",
    "\n",
    "catch_trials = all_responses[all_responses.isCatchTrial]\n",
    "\n",
    "# Add column with false alarm rates\n",
    "catch_trials = catch_trials.groupby(['participant', 'paradigm', 'pred']).apply(calculate_false_alarm_rate)\n"
   ],
   "metadata": {
    "collapsed": false,
    "ExecuteTime": {
     "end_time": "2023-07-27T02:07:47.141353Z",
     "start_time": "2023-07-27T02:07:47.033062Z"
    }
   }
  },
  {
   "cell_type": "markdown",
   "source": [
    "### Descriptive stats"
   ],
   "metadata": {
    "collapsed": false
   }
  },
  {
   "cell_type": "code",
   "execution_count": 6,
   "outputs": [
    {
     "data": {
      "text/plain": "                      count      mean       std  min       25%       50%  \\\nparadigm   pred                                                            \nBayesian   bayesian    28.0  0.017363  0.047050  0.0  0.000000  0.000000   \nCluster    both        28.0  0.138486  0.147954  0.0  0.000000  0.108187   \n           frequency   28.0  0.161256  0.186996  0.0  0.000000  0.105556   \n           none        28.0  0.159449  0.146078  0.0  0.000000  0.133929   \n           time        28.0  0.170022  0.154999  0.0  0.046875  0.154762   \nContinuous both        28.0  0.169558  0.150440  0.0  0.000000  0.142857   \n           frequency   28.0  0.098021  0.156109  0.0  0.000000  0.000000   \n           none        28.0  0.096074  0.125636  0.0  0.000000  0.000000   \n           time        28.0  0.207100  0.190129  0.0  0.000000  0.142857   \n\n                           75%       max  \nparadigm   pred                           \nBayesian   bayesian   0.000000  0.222222  \nCluster    both       0.179972  0.500000  \n           frequency  0.285714  0.600000  \n           none       0.275974  0.500000  \n           time       0.250000  0.666667  \nContinuous both       0.258929  0.500000  \n           frequency  0.166667  0.500000  \n           none       0.148810  0.428571  \n           time       0.375000  0.555556  ",
      "text/html": "<div>\n<style scoped>\n    .dataframe tbody tr th:only-of-type {\n        vertical-align: middle;\n    }\n\n    .dataframe tbody tr th {\n        vertical-align: top;\n    }\n\n    .dataframe thead th {\n        text-align: right;\n    }\n</style>\n<table border=\"1\" class=\"dataframe\">\n  <thead>\n    <tr style=\"text-align: right;\">\n      <th></th>\n      <th></th>\n      <th>count</th>\n      <th>mean</th>\n      <th>std</th>\n      <th>min</th>\n      <th>25%</th>\n      <th>50%</th>\n      <th>75%</th>\n      <th>max</th>\n    </tr>\n    <tr>\n      <th>paradigm</th>\n      <th>pred</th>\n      <th></th>\n      <th></th>\n      <th></th>\n      <th></th>\n      <th></th>\n      <th></th>\n      <th></th>\n      <th></th>\n    </tr>\n  </thead>\n  <tbody>\n    <tr>\n      <th>Bayesian</th>\n      <th>bayesian</th>\n      <td>28.0</td>\n      <td>0.017363</td>\n      <td>0.047050</td>\n      <td>0.0</td>\n      <td>0.000000</td>\n      <td>0.000000</td>\n      <td>0.000000</td>\n      <td>0.222222</td>\n    </tr>\n    <tr>\n      <th rowspan=\"4\" valign=\"top\">Cluster</th>\n      <th>both</th>\n      <td>28.0</td>\n      <td>0.138486</td>\n      <td>0.147954</td>\n      <td>0.0</td>\n      <td>0.000000</td>\n      <td>0.108187</td>\n      <td>0.179972</td>\n      <td>0.500000</td>\n    </tr>\n    <tr>\n      <th>frequency</th>\n      <td>28.0</td>\n      <td>0.161256</td>\n      <td>0.186996</td>\n      <td>0.0</td>\n      <td>0.000000</td>\n      <td>0.105556</td>\n      <td>0.285714</td>\n      <td>0.600000</td>\n    </tr>\n    <tr>\n      <th>none</th>\n      <td>28.0</td>\n      <td>0.159449</td>\n      <td>0.146078</td>\n      <td>0.0</td>\n      <td>0.000000</td>\n      <td>0.133929</td>\n      <td>0.275974</td>\n      <td>0.500000</td>\n    </tr>\n    <tr>\n      <th>time</th>\n      <td>28.0</td>\n      <td>0.170022</td>\n      <td>0.154999</td>\n      <td>0.0</td>\n      <td>0.046875</td>\n      <td>0.154762</td>\n      <td>0.250000</td>\n      <td>0.666667</td>\n    </tr>\n    <tr>\n      <th rowspan=\"4\" valign=\"top\">Continuous</th>\n      <th>both</th>\n      <td>28.0</td>\n      <td>0.169558</td>\n      <td>0.150440</td>\n      <td>0.0</td>\n      <td>0.000000</td>\n      <td>0.142857</td>\n      <td>0.258929</td>\n      <td>0.500000</td>\n    </tr>\n    <tr>\n      <th>frequency</th>\n      <td>28.0</td>\n      <td>0.098021</td>\n      <td>0.156109</td>\n      <td>0.0</td>\n      <td>0.000000</td>\n      <td>0.000000</td>\n      <td>0.166667</td>\n      <td>0.500000</td>\n    </tr>\n    <tr>\n      <th>none</th>\n      <td>28.0</td>\n      <td>0.096074</td>\n      <td>0.125636</td>\n      <td>0.0</td>\n      <td>0.000000</td>\n      <td>0.000000</td>\n      <td>0.148810</td>\n      <td>0.428571</td>\n    </tr>\n    <tr>\n      <th>time</th>\n      <td>28.0</td>\n      <td>0.207100</td>\n      <td>0.190129</td>\n      <td>0.0</td>\n      <td>0.000000</td>\n      <td>0.142857</td>\n      <td>0.375000</td>\n      <td>0.555556</td>\n    </tr>\n  </tbody>\n</table>\n</div>"
     },
     "execution_count": 6,
     "metadata": {},
     "output_type": "execute_result"
    }
   ],
   "source": [
    "FAR = catch_trials[['participant', 'paradigm', 'pred', 'false_alarm_rate']].drop_duplicates()\n",
    "\n",
    "FAR.groupby(['paradigm', 'pred']).false_alarm_rate.describe()"
   ],
   "metadata": {
    "collapsed": false,
    "ExecuteTime": {
     "end_time": "2023-07-27T02:07:47.170536Z",
     "start_time": "2023-07-27T02:07:47.139626Z"
    }
   }
  },
  {
   "cell_type": "markdown",
   "source": [
    "### Save catch trial data and false alarm rates"
   ],
   "metadata": {
    "collapsed": false
   }
  },
  {
   "cell_type": "code",
   "execution_count": 7,
   "outputs": [],
   "source": [
    "catch_trials.to_pickle(os.path.join(data_path, 'catch_trials.pkl'))\n",
    "FAR.to_pickle(os.path.join(data_path, 'false_alarm_rates.pkl'))"
   ],
   "metadata": {
    "collapsed": false,
    "ExecuteTime": {
     "end_time": "2023-07-27T02:07:47.173489Z",
     "start_time": "2023-07-27T02:07:47.168472Z"
    }
   }
  },
  {
   "cell_type": "markdown",
   "source": [
    "### Fig4C - False Alarm Rate Barplot"
   ],
   "metadata": {
    "collapsed": false
   }
  },
  {
   "cell_type": "code",
   "execution_count": 8,
   "outputs": [
    {
     "data": {
      "text/plain": "<Figure size 700x533 with 1 Axes>",
      "image/png": "[encoded data removed]"
     },
     "metadata": {},
     "output_type": "display_data"
    }
   ],
   "source": [
    "fig = Fig4p50.catch_trials_barplot(Fig4p50, FAR)\n",
    "fig = plt.savefig(os.path.join(get_path('figures'), 'Fig4C-catch_trial_barplot.svg'))"
   ],
   "metadata": {
    "collapsed": false,
    "ExecuteTime": {
     "end_time": "2023-07-27T02:07:47.316657Z",
     "start_time": "2023-07-27T02:07:47.174166Z"
    }
   }
  },
  {
   "cell_type": "markdown",
   "source": [
    "### ANOVA on the False Alarm Rates"
   ],
   "metadata": {
    "collapsed": false
   }
  },
  {
   "cell_type": "code",
   "execution_count": 9,
   "outputs": [],
   "source": [
    "stats_params = StatsParams()"
   ],
   "metadata": {
    "collapsed": false,
    "ExecuteTime": {
     "end_time": "2023-07-27T02:07:47.317361Z",
     "start_time": "2023-07-27T02:07:47.315897Z"
    }
   }
  },
  {
   "cell_type": "code",
   "execution_count": 10,
   "outputs": [
    {
     "name": "stdout",
     "output_type": "stream",
     "text": [
      "One-way ANOVA on the false_alarm_rate (factor: condition):\n",
      "condition: F(8, 200) = 5.36, p = <0.001     *\n",
      "\n"
     ]
    }
   ],
   "source": [
    "# Treat each condition as a separate group\n",
    "FAR['condition'] = FAR['paradigm'] + FAR['pred'].apply(lambda x: '' if x == 'bayesian' else '/' + translate_conditions(x))\n",
    "\n",
    "# run one-way ANOVA\n",
    "aov_results = pg.rm_anova(data=FAR, dv='false_alarm_rate',\n",
    "                          within='condition', subject='participant')\n",
    "\n",
    "StatsFormatter.print_1way_anova(StatsFormatter, aov_results, var='false_alarm_rate', factor='condition')"
   ],
   "metadata": {
    "collapsed": false,
    "ExecuteTime": {
     "end_time": "2023-07-27T02:07:47.349047Z",
     "start_time": "2023-07-27T02:07:47.321180Z"
    }
   }
  },
  {
   "cell_type": "code",
   "execution_count": 11,
   "outputs": [
    {
     "name": "stdout",
     "output_type": "stream",
     "text": [
      "Post-hoc tests (paired t-tests):\n",
      "condition / Bayesian vs Cluster/F: T(25) = -3.91, p = <0.001 (fdr_bh: 0.004)     *\n",
      "condition / Bayesian vs Cluster/FT: T(25) = -4.32, p = <0.001 (fdr_bh: 0.002)     *\n",
      "condition / Bayesian vs Cluster/R: T(25) = -5.18, p = <0.001 (fdr_bh: <0.001)     *\n",
      "condition / Bayesian vs Cluster/T: T(25) = -5.21, p = <0.001 (fdr_bh: <0.001)     *\n",
      "condition / Bayesian vs Continuous/F: T(25) = -2.39, p = 0.024 (fdr_bh: 0.063)\n",
      "condition / Bayesian vs Continuous/FT: T(25) = -4.96, p = <0.001 (fdr_bh: <0.001)     *\n",
      "condition / Bayesian vs Continuous/R: T(25) = -3.03, p = 0.006 (fdr_bh: 0.025)     *\n",
      "condition / Bayesian vs Continuous/T: T(25) = -5.23, p = <0.001 (fdr_bh: <0.001)     *\n",
      "condition / Cluster/F vs Cluster/FT: T(25) = 0.56, p = 0.578 (fdr_bh: 0.718)\n",
      "condition / Cluster/F vs Cluster/R: T(25) = 0.05, p = 0.958 (fdr_bh: 0.981)\n",
      "condition / Cluster/F vs Cluster/T: T(25) = -0.24, p = 0.813 (fdr_bh: 0.944)\n",
      "condition / Cluster/F vs Continuous/F: T(25) = 1.58, p = 0.127 (fdr_bh: 0.240)\n",
      "condition / Cluster/F vs Continuous/FT: T(25) = -0.05, p = 0.957 (fdr_bh: 0.981)\n",
      "condition / Cluster/F vs Continuous/R: T(25) = 1.85, p = 0.076 (fdr_bh: 0.172)\n",
      "condition / Cluster/F vs Continuous/T: T(25) = -0.87, p = 0.391 (fdr_bh: 0.541)\n",
      "condition / Cluster/FT vs Cluster/R: T(25) = -0.71, p = 0.484 (fdr_bh: 0.623)\n",
      "condition / Cluster/FT vs Cluster/T: T(25) = -1.10, p = 0.283 (fdr_bh: 0.425)\n",
      "condition / Cluster/FT vs Continuous/F: T(25) = 1.45, p = 0.159 (fdr_bh: 0.272)\n",
      "condition / Cluster/FT vs Continuous/FT: T(25) = -0.89, p = 0.381 (fdr_bh: 0.541)\n",
      "condition / Cluster/FT vs Continuous/R: T(25) = 1.50, p = 0.147 (fdr_bh: 0.264)\n",
      "condition / Cluster/FT vs Continuous/T: T(25) = -1.78, p = 0.087 (fdr_bh: 0.184)\n",
      "condition / Cluster/R vs Cluster/T: T(25) = -0.32, p = 0.754 (fdr_bh: 0.904)\n",
      "condition / Cluster/R vs Continuous/F: T(25) = 1.62, p = 0.119 (fdr_bh: 0.237)\n",
      "condition / Cluster/R vs Continuous/FT: T(25) = -0.11, p = 0.915 (fdr_bh: 0.981)\n",
      "condition / Cluster/R vs Continuous/R: T(25) = 2.12, p = 0.044 (fdr_bh: 0.106)\n",
      "condition / Cluster/R vs Continuous/T: T(25) = -1.10, p = 0.283 (fdr_bh: 0.425)\n",
      "condition / Cluster/T vs Continuous/F: T(25) = 2.79, p = 0.010 (fdr_bh: 0.036)     *\n",
      "condition / Cluster/T vs Continuous/FT: T(25) = 0.19, p = 0.851 (fdr_bh: 0.958)\n",
      "condition / Cluster/T vs Continuous/R: T(25) = 2.60, p = 0.015 (fdr_bh: 0.046)     *\n",
      "condition / Cluster/T vs Continuous/T: T(25) = -0.77, p = 0.451 (fdr_bh: 0.602)\n",
      "condition / Continuous/F vs Continuous/FT: T(25) = -2.61, p = 0.015 (fdr_bh: 0.046)     *\n",
      "condition / Continuous/F vs Continuous/R: T(25) = 0.02, p = 0.981 (fdr_bh: 0.981)\n",
      "condition / Continuous/F vs Continuous/T: T(25) = -2.48, p = 0.020 (fdr_bh: 0.056)\n",
      "condition / Continuous/FT vs Continuous/R: T(25) = 3.16, p = 0.004 (fdr_bh: 0.021)     *\n",
      "condition / Continuous/FT vs Continuous/T: T(25) = -1.12, p = 0.272 (fdr_bh: 0.425)\n",
      "condition / Continuous/R vs Continuous/T: T(25) = -2.91, p = 0.008 (fdr_bh: 0.030)     *\n",
      "\n"
     ]
    }
   ],
   "source": [
    "# post-hoc paired T-tests\n",
    "pairwise_results = pg.pairwise_tests(data=FAR,\n",
    "                                     dv='false_alarm_rate',\n",
    "                                     within='condition',\n",
    "                                     subject='participant',\n",
    "                                     alternative='two-sided',\n",
    "                                     padjust=StatsParams.mult_comp)\n",
    "\n",
    "# Display post-hoc results\n",
    "StatsFormatter.print_paired_ttest_posthocs(StatsFormatter, pairwise_results)"
   ],
   "metadata": {
    "collapsed": false,
    "ExecuteTime": {
     "end_time": "2023-07-27T02:07:47.453059Z",
     "start_time": "2023-07-27T02:07:47.347608Z"
    }
   }
  }
 ],
 "metadata": {
  "kernelspec": {
   "display_name": "Python 3",
   "language": "python",
   "name": "python3"
  },
  "language_info": {
   "codemirror_mode": {
    "name": "ipython",
    "version": 2
   },
   "file_extension": ".py",
   "mimetype": "text/x-python",
   "name": "python",
   "nbconvert_exporter": "python",
   "pygments_lexer": "ipython2",
   "version": "2.7.6"
  }
 },
 "nbformat": 4,
 "nbformat_minor": 0
}
