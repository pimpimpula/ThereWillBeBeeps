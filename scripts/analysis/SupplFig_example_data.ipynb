{
 "cells": [
  {
   "cell_type": "code",
   "execution_count": 1,
   "metadata": {
    "collapsed": true,
    "ExecuteTime": {
     "end_time": "2023-07-28T02:06:38.007978Z",
     "start_time": "2023-07-28T02:06:36.843455Z"
    }
   },
   "outputs": [],
   "source": [
    "import os.path as op\n",
    "import glob\n",
    "import random\n",
    "import numpy as np\n",
    "import pandas as pd\n",
    "\n",
    "from scripts.utils import get_path"
   ]
  },
  {
   "cell_type": "markdown",
   "source": [
    "### Load data"
   ],
   "metadata": {
    "collapsed": false
   }
  },
  {
   "cell_type": "code",
   "execution_count": 2,
   "outputs": [],
   "source": [
    "data_path = get_path('dataframes')"
   ],
   "metadata": {
    "collapsed": false,
    "ExecuteTime": {
     "end_time": "2023-07-28T02:06:38.011471Z",
     "start_time": "2023-07-28T02:06:38.009439Z"
    }
   }
  },
  {
   "cell_type": "code",
   "execution_count": 3,
   "outputs": [
    {
     "name": "stdout",
     "output_type": "stream",
     "text": [
      "Index(['participant', 'paradigm', 'pred', 'time_pred', 'freq_pred',\n",
      "       'tested_frequencies', 'tested_levels', 'responses', 'len_init',\n",
      "       'thresholds', 'frequencies', 'mean_threshold', 'nReversals'],\n",
      "      dtype='object')\n",
      "28\n"
     ]
    }
   ],
   "source": [
    "data_3AFC = pd.read_pickle(op.join(data_path, '3AFC_thresholds_4rev.pkl'))\n",
    "print(data_3AFC.columns)\n",
    "print(len(data_3AFC.participant.unique()))\n",
    "\n",
    "trials_data = pd.read_pickle(op.join(data_path, 'individual_trials_data.pkl'))\n",
    "# all_audiogram_data = pd.read_pickle('all_audiograms50_3AFCsampling_outliers_N28_longFormat.pkl')\n",
    "# print(all_audiogram_data.columns)\n",
    "\n",
    "# all_audiogram_3AFC = pd.read_pickle('3AFC_df_4rev.pkl')"
   ],
   "metadata": {
    "collapsed": false,
    "ExecuteTime": {
     "end_time": "2023-07-28T02:06:38.104770Z",
     "start_time": "2023-07-28T02:06:38.013251Z"
    }
   }
  },
  {
   "cell_type": "markdown",
   "source": [
    "## Choose a participant"
   ],
   "metadata": {
    "collapsed": false
   }
  },
  {
   "cell_type": "code",
   "execution_count": 4,
   "outputs": [
    {
     "name": "stdout",
     "output_type": "stream",
     "text": [
      "udoety\n"
     ]
    }
   ],
   "source": [
    "# participant = 'erfnpg'\n",
    "# while participant == 'erfnpg':\n",
    "#     participant = random.choice(all_data.participant.unique())\n",
    "# participant = 'cwzopc', 'nunamh'\n",
    "participant = random.choice(data_3AFC.participant.unique())\n",
    "print(participant)"
   ],
   "metadata": {
    "collapsed": false,
    "ExecuteTime": {
     "end_time": "2023-07-28T02:06:38.108829Z",
     "start_time": "2023-07-28T02:06:38.106738Z"
    }
   }
  },
  {
   "cell_type": "markdown",
   "source": [
    "### Filter participant data"
   ],
   "metadata": {
    "collapsed": false
   }
  },
  {
   "cell_type": "code",
   "execution_count": 5,
   "outputs": [],
   "source": [
    "data_3AFC = data_3AFC[data_3AFC.participant == participant]\n",
    "# audiogram_data = all_audiogram_data[all_audiogram_data['participant'] == participant]\n",
    "# path_3AFC = f\"/Users/nadou/Documents/Documents - Nadège’s MacBook Air/GitHub/predictive-audiograms/RAW_DATA/{participant}/3AFC/\"\n",
    "# trials_3AFC = pd.read_pickle(glob.glob(f\"{path_3AFC}*.pkl\")[0])\n",
    "# trials_3AFC = trials_3AFC.rename(columns={'Frequency': 'tested_freqs', 'Level': 'tested_levels'})\n",
    "# trials_3AFC.insert(len(trials_3AFC.columns), 'tone_number', np.linspace(1, len(trials_3AFC), len(trials_3AFC), dtype=int))\n",
    "# audiogram_3AFC = all_audiograms_3AFC[all_audiograms_3AFC['participant'] == participant]\n",
    "\n",
    "# print(len(data))"
   ],
   "metadata": {
    "collapsed": false,
    "ExecuteTime": {
     "end_time": "2023-07-28T02:06:38.116294Z",
     "start_time": "2023-07-28T02:06:38.111724Z"
    }
   }
  },
  {
   "cell_type": "markdown",
   "source": [
    "## 3-AFC data"
   ],
   "metadata": {
    "collapsed": false
   }
  },
  {
   "cell_type": "code",
   "execution_count": 6,
   "outputs": [
    {
     "ename": "NameError",
     "evalue": "name 'data' is not defined",
     "output_type": "error",
     "traceback": [
      "\u001B[0;31m---------------------------------------------------------------------------\u001B[0m",
      "\u001B[0;31mNameError\u001B[0m                                 Traceback (most recent call last)",
      "Cell \u001B[0;32mIn[6], line 2\u001B[0m\n\u001B[1;32m      1\u001B[0m \u001B[38;5;66;03m# Filter by paradigm\u001B[39;00m\n\u001B[0;32m----> 2\u001B[0m data_3AFC \u001B[38;5;241m=\u001B[39m \u001B[43mdata\u001B[49m[data\u001B[38;5;241m.\u001B[39mparadigm \u001B[38;5;241m==\u001B[39m \u001B[38;5;124m'\u001B[39m\u001B[38;5;124m3AFC\u001B[39m\u001B[38;5;124m'\u001B[39m]\n\u001B[1;32m      3\u001B[0m \u001B[38;5;66;03m# data_3AFC = pd.merge(data_3AFC, trials_3AFC, on=['tested_freqs', 'tested_levels', 'tone_number'])\u001B[39;00m\n\u001B[1;32m      4\u001B[0m \u001B[38;5;66;03m# audiogram_3AFC = audiogram_data[audiogram_data.paradigm == '3-AFC']\u001B[39;00m\n\u001B[1;32m      5\u001B[0m \n\u001B[1;32m      6\u001B[0m \u001B[38;5;66;03m# Randomly select a tested frequency\u001B[39;00m\n\u001B[1;32m      7\u001B[0m \u001B[38;5;66;03m# chosen_freq = np.random.choice(data_3AFC.tested_freqs.unique())\u001B[39;00m\n\u001B[1;32m      8\u001B[0m chosen_freq \u001B[38;5;241m=\u001B[39m \u001B[38;5;241m1000.0\u001B[39m\n",
      "\u001B[0;31mNameError\u001B[0m: name 'data' is not defined"
     ]
    }
   ],
   "source": [
    "# Filter by paradigm\n",
    "data_3AFC = data[data.paradigm == '3AFC']\n",
    "# data_3AFC = pd.merge(data_3AFC, trials_3AFC, on=['tested_freqs', 'tested_levels', 'tone_number'])\n",
    "# audiogram_3AFC = audiogram_data[audiogram_data.paradigm == '3-AFC']\n",
    "\n",
    "# Randomly select a tested frequency\n",
    "# chosen_freq = np.random.choice(data_3AFC.tested_freqs.unique())\n",
    "chosen_freq = 1000.0\n",
    "print(\"Chosen frequency:\", chosen_freq)\n",
    "\n",
    "# Select rows with the chosen frequency\n",
    "data_3AFC = data_3AFC[data_3AFC.tested_freqs == chosen_freq]\n",
    "\n",
    "reversal_levels = []\n",
    "reversal_indices = []\n",
    "for reversal, direction in data_3AFC[data_3AFC.tested_freqs == chosen_freq].groupby(['Reversals']):\n",
    "    reversal_levels.append(direction.tested_levels.iloc[-1])\n",
    "    reversal_indices.append(direction.tone_number.iloc[-1])\n",
    "print(f\"{participant} N REVERSALS: {len(reversal_levels)}\")\n",
    "print(reversal_levels)\n",
    "reversal_levels = reversal_levels[:6]\n",
    "reversal_indices = reversal_indices[:6]\n",
    "print(reversal_levels, reversal_indices)\n",
    "\n",
    "# Estimate the threshold at this frequency as the average of the last 4 reversal levels\n",
    "threshold = np.round(np.nanmean(reversal_levels[-4:]), 1)\n",
    "reversal_levels = reversal_levels[-4:]\n",
    "reversal_indices = reversal_indices[-4:]\n",
    "print(reversal_levels, reversal_indices)\n",
    "\n",
    "# Get the threshold for that frequency\n",
    "# threshold = audiogram_3AFC[audiogram_3AFC.Frequency == chosen_freq].Level\n",
    "\n",
    "print(\"3-AFC threshold:\", threshold, \"dB HL\")"
   ],
   "metadata": {
    "collapsed": false,
    "ExecuteTime": {
     "end_time": "2023-07-28T02:06:38.556902Z",
     "start_time": "2023-07-28T02:06:38.120683Z"
    }
   }
  },
  {
   "cell_type": "code",
   "execution_count": null,
   "outputs": [],
   "source": [
    "import matplotlib.pyplot as plt\n",
    "\n",
    "# Create a figure and axes\n",
    "fig, axes = plt.subplots(nrows=4, ncols=2, figsize=[10, 20])\n",
    "\n",
    "#FIRST PLOT\n",
    "plt.sca(axes[0, 0])\n",
    "\n",
    "# Find the index of the first tone\n",
    "# min_idx = data_3AFC.tone_number.min()\n",
    "\n",
    "# Plot a horizontal line for the corresponding threshold\n",
    "plt.hlines(y=threshold,\n",
    "          xmin=0, xmax=data_3AFC.tone_number.max(),\n",
    "          colors='grey', lw=2)\n",
    "\n",
    "# Show the reversals used for threshold computation\n",
    "plt.scatter(reversal_indices, reversal_levels, marker='o', s=100, edgecolors='grey')\n",
    "\n",
    "# Loop over the rows in the DataFrame\n",
    "for index, row in data_3AFC.iterrows():\n",
    "    if index == len(data_3AFC) - 1:\n",
    "        continue\n",
    "    # Check the value of 'yi'\n",
    "    if row['yi'] == 1:  # Plot a green checkmark\n",
    "        plt.plot(row['tone_number'], row['tested_levels'], 'g+', markersize=8)\n",
    "    else:  # Plot a red cross\n",
    "        plt.plot(row['tone_number'], row['tested_levels'], 'rx', markersize=6)\n",
    "\n",
    "# Add text in the top-right corner with the selected frequency\n",
    "plt.annotate(f'{chosen_freq} Hz', xy=(1, 1), xytext=(-10, -10),\n",
    "            xycoords='axes fraction', textcoords='offset points',\n",
    "            horizontalalignment='right', verticalalignment='top',\n",
    "            fontweight='bold')\n",
    "\n",
    "# Add labels to the axes\n",
    "plt.xlabel('Tone number')\n",
    "plt.ylabel('Tested level')\n",
    "plt.title('3-AFC staircase example data')\n",
    "\n",
    "\n",
    "# SECOND PLOT\n",
    "plt.sca(axes[0, 1])\n",
    "\n",
    "plt.hlines([-20, -10, 0, 10, 20], 0, 12000, colors='grey', alpha=0.5)\n",
    "plt.plot(audiogram_3AFC.sort_values('frequencies').frequencies, audiogram_3AFC.sort_values('frequencies').thresholds, label=participant, color='red')\n",
    "plt.scatter(audiogram_3AFC.frequencies, audiogram_3AFC.thresholds, label=None, edgecolors='red', facecolors=\"white\", zorder=3)\n",
    "plt.xscale('log')\n",
    "# plt.legend()\n",
    "plt.ylim([30, -30])\n",
    "plt.xticks([125, 250, 500, 1000, 2000, 4000, 8000], [125, 250, 500, 1000, 2000, 4000, 8000])\n",
    "plt.xlim([0,10000])\n",
    "plt.ylabel(\"Threshold (dB HL)\")\n",
    "plt.xlabel('Frequency (Hz)')\n",
    "plt.title('3-AFC example individual results')\n",
    "plt.tight_layout()\n",
    "\n",
    "# Show the plot\n",
    "plt.show()"
   ],
   "metadata": {
    "collapsed": false
   }
  },
  {
   "cell_type": "code",
   "execution_count": null,
   "outputs": [],
   "source": [],
   "metadata": {
    "collapsed": false
   }
  }
 ],
 "metadata": {
  "kernelspec": {
   "display_name": "Python 3",
   "language": "python",
   "name": "python3"
  },
  "language_info": {
   "codemirror_mode": {
    "name": "ipython",
    "version": 2
   },
   "file_extension": ".py",
   "mimetype": "text/x-python",
   "name": "python",
   "nbconvert_exporter": "python",
   "pygments_lexer": "ipython2",
   "version": "2.7.6"
  }
 },
 "nbformat": 4,
 "nbformat_minor": 0
}
