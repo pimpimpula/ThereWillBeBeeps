{
 "cells": [
  {
   "cell_type": "code",
   "execution_count": null,
   "metadata": {
    "collapsed": true
   },
   "outputs": [],
   "source": [
    "import glob\n",
    "import random\n",
    "import numpy as np\n",
    "import pandas as pd"
   ]
  },
  {
   "cell_type": "markdown",
   "source": [
    "### Load data"
   ],
   "metadata": {
    "collapsed": false
   }
  },
  {
   "cell_type": "code",
   "execution_count": null,
   "outputs": [
    {
     "ename": "FileNotFoundError",
     "evalue": "[Errno 2] No such file or directory: 'mommy_thresholds3.pkl'",
     "output_type": "error",
     "traceback": [
      "\u001B[0;31m---------------------------------------------------------------------------\u001B[0m",
      "\u001B[0;31mFileNotFoundError\u001B[0m                         Traceback (most recent call last)",
      "Cell \u001B[0;32mIn[2], line 1\u001B[0m\n\u001B[0;32m----> 1\u001B[0m all_data \u001B[38;5;241m=\u001B[39m \u001B[43mpd\u001B[49m\u001B[38;5;241;43m.\u001B[39;49m\u001B[43mread_pickle\u001B[49m\u001B[43m(\u001B[49m\u001B[38;5;124;43m'\u001B[39;49m\u001B[38;5;124;43mmommy_thresholds3.pkl\u001B[39;49m\u001B[38;5;124;43m'\u001B[39;49m\u001B[43m)\u001B[49m\n\u001B[1;32m      2\u001B[0m \u001B[38;5;28mprint\u001B[39m(all_data\u001B[38;5;241m.\u001B[39mcolumns)\n\u001B[1;32m      3\u001B[0m \u001B[38;5;28mprint\u001B[39m(\u001B[38;5;28mlen\u001B[39m(all_data\u001B[38;5;241m.\u001B[39mparticipant\u001B[38;5;241m.\u001B[39munique()))\n",
      "File \u001B[0;32m~/opt/anaconda3/envs/ThereWillBeBeeps/lib/python3.8/site-packages/pandas/io/pickle.py:187\u001B[0m, in \u001B[0;36mread_pickle\u001B[0;34m(filepath_or_buffer, compression, storage_options)\u001B[0m\n\u001B[1;32m    124\u001B[0m \u001B[38;5;250m\u001B[39m\u001B[38;5;124;03m\"\"\"\u001B[39;00m\n\u001B[1;32m    125\u001B[0m \u001B[38;5;124;03mLoad pickled pandas object (or any object) from file.\u001B[39;00m\n\u001B[1;32m    126\u001B[0m \n\u001B[0;32m   (...)\u001B[0m\n\u001B[1;32m    184\u001B[0m \u001B[38;5;124;03m4    4    9\u001B[39;00m\n\u001B[1;32m    185\u001B[0m \u001B[38;5;124;03m\"\"\"\u001B[39;00m  \u001B[38;5;66;03m# noqa: E501\u001B[39;00m\n\u001B[1;32m    186\u001B[0m excs_to_catch \u001B[38;5;241m=\u001B[39m (\u001B[38;5;167;01mAttributeError\u001B[39;00m, \u001B[38;5;167;01mImportError\u001B[39;00m, \u001B[38;5;167;01mModuleNotFoundError\u001B[39;00m, \u001B[38;5;167;01mTypeError\u001B[39;00m)\n\u001B[0;32m--> 187\u001B[0m \u001B[38;5;28;01mwith\u001B[39;00m \u001B[43mget_handle\u001B[49m\u001B[43m(\u001B[49m\n\u001B[1;32m    188\u001B[0m \u001B[43m    \u001B[49m\u001B[43mfilepath_or_buffer\u001B[49m\u001B[43m,\u001B[49m\n\u001B[1;32m    189\u001B[0m \u001B[43m    \u001B[49m\u001B[38;5;124;43m\"\u001B[39;49m\u001B[38;5;124;43mrb\u001B[39;49m\u001B[38;5;124;43m\"\u001B[39;49m\u001B[43m,\u001B[49m\n\u001B[1;32m    190\u001B[0m \u001B[43m    \u001B[49m\u001B[43mcompression\u001B[49m\u001B[38;5;241;43m=\u001B[39;49m\u001B[43mcompression\u001B[49m\u001B[43m,\u001B[49m\n\u001B[1;32m    191\u001B[0m \u001B[43m    \u001B[49m\u001B[43mis_text\u001B[49m\u001B[38;5;241;43m=\u001B[39;49m\u001B[38;5;28;43;01mFalse\u001B[39;49;00m\u001B[43m,\u001B[49m\n\u001B[1;32m    192\u001B[0m \u001B[43m    \u001B[49m\u001B[43mstorage_options\u001B[49m\u001B[38;5;241;43m=\u001B[39;49m\u001B[43mstorage_options\u001B[49m\u001B[43m,\u001B[49m\n\u001B[1;32m    193\u001B[0m \u001B[43m\u001B[49m\u001B[43m)\u001B[49m \u001B[38;5;28;01mas\u001B[39;00m handles:\n\u001B[1;32m    194\u001B[0m \n\u001B[1;32m    195\u001B[0m     \u001B[38;5;66;03m# 1) try standard library Pickle\u001B[39;00m\n\u001B[1;32m    196\u001B[0m     \u001B[38;5;66;03m# 2) try pickle_compat (older pandas version) to handle subclass changes\u001B[39;00m\n\u001B[1;32m    197\u001B[0m     \u001B[38;5;66;03m# 3) try pickle_compat with latin-1 encoding upon a UnicodeDecodeError\u001B[39;00m\n\u001B[1;32m    199\u001B[0m     \u001B[38;5;28;01mtry\u001B[39;00m:\n\u001B[1;32m    200\u001B[0m         \u001B[38;5;66;03m# TypeError for Cython complaints about object.__new__ vs Tick.__new__\u001B[39;00m\n\u001B[1;32m    201\u001B[0m         \u001B[38;5;28;01mtry\u001B[39;00m:\n",
      "File \u001B[0;32m~/opt/anaconda3/envs/ThereWillBeBeeps/lib/python3.8/site-packages/pandas/io/common.py:798\u001B[0m, in \u001B[0;36mget_handle\u001B[0;34m(path_or_buf, mode, encoding, compression, memory_map, is_text, errors, storage_options)\u001B[0m\n\u001B[1;32m    789\u001B[0m         handle \u001B[38;5;241m=\u001B[39m \u001B[38;5;28mopen\u001B[39m(\n\u001B[1;32m    790\u001B[0m             handle,\n\u001B[1;32m    791\u001B[0m             ioargs\u001B[38;5;241m.\u001B[39mmode,\n\u001B[0;32m   (...)\u001B[0m\n\u001B[1;32m    794\u001B[0m             newline\u001B[38;5;241m=\u001B[39m\u001B[38;5;124m\"\u001B[39m\u001B[38;5;124m\"\u001B[39m,\n\u001B[1;32m    795\u001B[0m         )\n\u001B[1;32m    796\u001B[0m     \u001B[38;5;28;01melse\u001B[39;00m:\n\u001B[1;32m    797\u001B[0m         \u001B[38;5;66;03m# Binary mode\u001B[39;00m\n\u001B[0;32m--> 798\u001B[0m         handle \u001B[38;5;241m=\u001B[39m \u001B[38;5;28;43mopen\u001B[39;49m\u001B[43m(\u001B[49m\u001B[43mhandle\u001B[49m\u001B[43m,\u001B[49m\u001B[43m \u001B[49m\u001B[43mioargs\u001B[49m\u001B[38;5;241;43m.\u001B[39;49m\u001B[43mmode\u001B[49m\u001B[43m)\u001B[49m\n\u001B[1;32m    799\u001B[0m     handles\u001B[38;5;241m.\u001B[39mappend(handle)\n\u001B[1;32m    801\u001B[0m \u001B[38;5;66;03m# Convert BytesIO or file objects passed with an encoding\u001B[39;00m\n",
      "\u001B[0;31mFileNotFoundError\u001B[0m: [Errno 2] No such file or directory: 'mommy_thresholds3.pkl'"
     ]
    }
   ],
   "source": [
    "all_data = pd.read_pickle('mommy_thresholds3.pkl')\n",
    "print(all_data.columns)\n",
    "print(len(all_data.participant.unique()))\n",
    "\n",
    "all_audiogram_data = pd.read_pickle('all_audiograms50_3AFCsampling_outliers_N28_longFormat.pkl')\n",
    "print(all_audiogram_data.columns)\n",
    "\n",
    "# all_audiogram_3AFC = pd.read_pickle('3AFC_df_4rev.pkl')"
   ],
   "metadata": {
    "collapsed": false,
    "ExecuteTime": {
     "end_time": "2023-07-27T01:58:22.636409Z",
     "start_time": "2023-07-27T01:58:22.050523Z"
    }
   }
  },
  {
   "cell_type": "markdown",
   "source": [
    "## Choose a participant"
   ],
   "metadata": {
    "collapsed": false
   }
  },
  {
   "cell_type": "code",
   "execution_count": null,
   "outputs": [],
   "source": [
    "participant = 'erfnpg'\n",
    "while participant == 'erfnpg':\n",
    "    participant = random.choice(all_data.participant.unique())\n",
    "# participant = 'cwzopc', 'nunamh'\n",
    "print(participant)\n",
    "\n",
    "data = all_data[all_data['participant'] == participant]\n",
    "audiogram_data = all_audiogram_data[all_audiogram_data['participant'] == participant]\n",
    "path_3AFC = f\"/Users/nadou/Documents/Documents - Nadège’s MacBook Air/GitHub/predictive-audiograms/RAW_DATA/{participant}/3AFC/\"\n",
    "trials_3AFC = pd.read_pickle(glob.glob(f\"{path_3AFC}*.pkl\")[0])\n",
    "trials_3AFC = trials_3AFC.rename(columns={'Frequency': 'tested_freqs', 'Level': 'tested_levels'})\n",
    "trials_3AFC.insert(len(trials_3AFC.columns), 'tone_number', np.linspace(1, len(trials_3AFC), len(trials_3AFC), dtype=int))\n",
    "# audiogram_3AFC = all_audiograms_3AFC[all_audiograms_3AFC['participant'] == participant]\n",
    "\n",
    "print(len(data))"
   ],
   "metadata": {
    "collapsed": false
   }
  },
  {
   "cell_type": "markdown",
   "source": [
    "## 3-AFC data"
   ],
   "metadata": {
    "collapsed": false
   }
  },
  {
   "cell_type": "code",
   "execution_count": null,
   "outputs": [],
   "source": [
    "# Filter by paradigm\n",
    "data_3AFC = data[data.paradigm == '3AFC']\n",
    "data_3AFC = pd.merge(data_3AFC, trials_3AFC, on=['tested_freqs', 'tested_levels', 'tone_number'])\n",
    "audiogram_3AFC = audiogram_data[audiogram_data.paradigm == '3-AFC']\n",
    "\n",
    "# Randomly select a tested frequency\n",
    "# chosen_freq = np.random.choice(data_3AFC.tested_freqs.unique())\n",
    "chosen_freq = 1000.0\n",
    "print(\"Chosen frequency:\", chosen_freq)\n",
    "\n",
    "# Select rows with the chosen frequency\n",
    "data_3AFC = data_3AFC[data_3AFC.tested_freqs == chosen_freq]\n",
    "\n",
    "reversal_levels = []\n",
    "reversal_indices = []\n",
    "for reversal, direction in data_3AFC[data_3AFC.tested_freqs == chosen_freq].groupby(['Reversals']):\n",
    "    reversal_levels.append(direction.tested_levels.iloc[-1])\n",
    "    reversal_indices.append(direction.tone_number.iloc[-1])\n",
    "print(f\"{participant} N REVERSALS: {len(reversal_levels)}\")\n",
    "print(reversal_levels)\n",
    "reversal_levels = reversal_levels[:6]\n",
    "reversal_indices = reversal_indices[:6]\n",
    "print(reversal_levels, reversal_indices)\n",
    "\n",
    "# Estimate the threshold at this frequency as the average of the last 4 reversal levels\n",
    "threshold = np.round(np.nanmean(reversal_levels[-4:]), 1)\n",
    "reversal_levels = reversal_levels[-4:]\n",
    "reversal_indices = reversal_indices[-4:]\n",
    "print(reversal_levels, reversal_indices)\n",
    "\n",
    "# Get the threshold for that frequency\n",
    "# threshold = audiogram_3AFC[audiogram_3AFC.Frequency == chosen_freq].Level\n",
    "\n",
    "print(\"3-AFC threshold:\", threshold, \"dB HL\")"
   ],
   "metadata": {
    "collapsed": false
   }
  },
  {
   "cell_type": "code",
   "execution_count": null,
   "outputs": [],
   "source": [
    "import matplotlib.pyplot as plt\n",
    "\n",
    "# Create a figure and axes\n",
    "fig, axes = plt.subplots(nrows=4, ncols=2, figsize=[10, 20])\n",
    "\n",
    "#FIRST PLOT\n",
    "plt.sca(axes[0, 0])\n",
    "\n",
    "# Find the index of the first tone\n",
    "# min_idx = data_3AFC.tone_number.min()\n",
    "\n",
    "# Plot a horizontal line for the corresponding threshold\n",
    "plt.hlines(y=threshold,\n",
    "          xmin=0, xmax=data_3AFC.tone_number.max(),\n",
    "          colors='grey', lw=2)\n",
    "\n",
    "# Show the reversals used for threshold computation\n",
    "plt.scatter(reversal_indices, reversal_levels, marker='o', s=100, edgecolors='grey')\n",
    "\n",
    "# Loop over the rows in the DataFrame\n",
    "for index, row in data_3AFC.iterrows():\n",
    "    if index == len(data_3AFC) - 1:\n",
    "        continue\n",
    "    # Check the value of 'yi'\n",
    "    if row['yi'] == 1:  # Plot a green checkmark\n",
    "        plt.plot(row['tone_number'], row['tested_levels'], 'g+', markersize=8)\n",
    "    else:  # Plot a red cross\n",
    "        plt.plot(row['tone_number'], row['tested_levels'], 'rx', markersize=6)\n",
    "\n",
    "# Add text in the top-right corner with the selected frequency\n",
    "plt.annotate(f'{chosen_freq} Hz', xy=(1, 1), xytext=(-10, -10),\n",
    "            xycoords='axes fraction', textcoords='offset points',\n",
    "            horizontalalignment='right', verticalalignment='top',\n",
    "            fontweight='bold')\n",
    "\n",
    "# Add labels to the axes\n",
    "plt.xlabel('Tone number')\n",
    "plt.ylabel('Tested level')\n",
    "plt.title('3-AFC staircase example data')\n",
    "\n",
    "\n",
    "# SECOND PLOT\n",
    "plt.sca(axes[0, 1])\n",
    "\n",
    "plt.hlines([-20, -10, 0, 10, 20], 0, 12000, colors='grey', alpha=0.5)\n",
    "plt.plot(audiogram_3AFC.sort_values('frequencies').frequencies, audiogram_3AFC.sort_values('frequencies').thresholds, label=participant, color='red')\n",
    "plt.scatter(audiogram_3AFC.frequencies, audiogram_3AFC.thresholds, label=None, edgecolors='red', facecolors=\"white\", zorder=3)\n",
    "plt.xscale('log')\n",
    "# plt.legend()\n",
    "plt.ylim([30, -30])\n",
    "plt.xticks([125, 250, 500, 1000, 2000, 4000, 8000], [125, 250, 500, 1000, 2000, 4000, 8000])\n",
    "plt.xlim([0,10000])\n",
    "plt.ylabel(\"Threshold (dB HL)\")\n",
    "plt.xlabel('Frequency (Hz)')\n",
    "plt.title('3-AFC example individual results')\n",
    "plt.tight_layout()\n",
    "\n",
    "# Show the plot\n",
    "plt.show()"
   ],
   "metadata": {
    "collapsed": false
   }
  },
  {
   "cell_type": "code",
   "execution_count": null,
   "outputs": [],
   "source": [],
   "metadata": {
    "collapsed": false
   }
  }
 ],
 "metadata": {
  "kernelspec": {
   "display_name": "Python 3",
   "language": "python",
   "name": "python3"
  },
  "language_info": {
   "codemirror_mode": {
    "name": "ipython",
    "version": 2
   },
   "file_extension": ".py",
   "mimetype": "text/x-python",
   "name": "python",
   "nbconvert_exporter": "python",
   "pygments_lexer": "ipython2",
   "version": "2.7.6"
  }
 },
 "nbformat": 4,
 "nbformat_minor": 0
}
